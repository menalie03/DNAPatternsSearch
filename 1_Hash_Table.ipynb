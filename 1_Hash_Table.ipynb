{
 "cells": [
  {
   "cell_type": "markdown",
   "metadata": {
    "id": "rvIXzvLp90be"
   },
   "source": [
    "Nom Etudiant 1: SELLAHENNEDI Ménalie \n",
    "<br>\n",
    "Nom Etudiant 2: CHEN Shyiao"
   ]
  },
  {
   "cell_type": "markdown",
   "metadata": {
    "id": "MoRHY5QImaqy"
   },
   "source": [
    "# TME 4 : Projet Detection de motifs - Hash Table\n",
    "\n",
    "Nous allons développer des algorithmes pour chercher de motifs dans les données de ChipSeq de C. glabrata.\n",
    "Pour commencer nous allons d'abord produire des données artificielles qui nous permettront de tester rapidement nos algorithmes. Ensuite nous allons chercher les motifs dans C. glabrata et analyser les résultats.\n",
    "\n",
    "## Partie A : Recherche de pattern (motifs) identiques\n"
   ]
  },
  {
   "cell_type": "markdown",
   "metadata": {
    "id": "bmMkaXpwmaq9"
   },
   "source": [
    "1\\. Faites une fonction pour générer aléatoirement des séquences artificielles, puis générer t=10 séquences de n=41 nucléotides chacune. Toutes les lettres peuvent être équiprobables pour la génération des séquences."
   ]
  },
  {
   "cell_type": "code",
   "execution_count": 1,
   "metadata": {
    "id": "c8RaBfm0maq-"
   },
   "outputs": [
    {
     "name": "stdout",
     "output_type": "stream",
     "text": [
      "['GTACAGAGTG', 'GTTTGTGCGA', 'AGTGGGAATC']\n"
     ]
    }
   ],
   "source": [
    "import random\n",
    "import math\n",
    "\n",
    "nuc = ('A', 'C', 'G', 'T')\n",
    "\n",
    "t=10 #nombre de sequences\n",
    "n=41 #longueur des sequences\n",
    "\n",
    "#Pour un simple teste\n",
    "t=3 #nombre de sequences\n",
    "n=10 #longueur des sequences\n",
    "\n",
    "def generateRandomSequence(n:int, upper=False):\n",
    "    \"\"\"\n",
    "    Genere une séquence nucléotidique aléatoire \n",
    "    entrée n : longueur de la sequence\n",
    "    entrée upper : bool, si True les nucléotides seront minuscule, False majuscule\n",
    "    sortie sequence : une séquence nucléotidique aléatoire \n",
    "    \"\"\"\n",
    "    sequence = \"\"\n",
    "    for i in range(0,n):\n",
    "        s=random.choice(nuc)\n",
    "        if (upper):\n",
    "            sequence=sequence+(s.lower())\n",
    "        else:\n",
    "            sequence=sequence+(s.upper())\n",
    "\n",
    "    return sequence\n",
    "\n",
    "def generateRandomSequences(n:int, t:int):\n",
    "    \"\"\"\n",
    "    Genere plusieurs séquences nucléotidiques aléatoires \n",
    "    entrée n : longueur des sequences\n",
    "    entrée t : nombre de sequences\n",
    "    sortie sequences : liste de sequences nucléotidiques aléatoires \n",
    "    \"\"\"\n",
    "    sequences = []\n",
    "    for i in range (0,t):\n",
    "        sequences.append(generateRandomSequence(n,upper=False))\n",
    "    return sequences\n",
    "    \n",
    "seqs = generateRandomSequences(n, t);\n",
    "\n",
    "print (seqs)\n"
   ]
  },
  {
   "cell_type": "markdown",
   "metadata": {
    "id": "PcesMqoNmarD"
   },
   "source": [
    "2\\. Nous allons maintenant implanter dans les séquences artificielles generés avant un motif de taille `k`=9 à des positions aléatoires (choisies uniformément le long de la séquence). \n",
    "Bonus : on considère une proportion ``f``=0.9 de séquences qui possèdent le motif."
   ]
  },
  {
   "cell_type": "code",
   "execution_count": 2,
   "metadata": {
    "id": "7lVbiVK7marF"
   },
   "outputs": [
    {
     "name": "stdout",
     "output_type": "stream",
     "text": [
      "\n",
      "Modified sequences: ['GTACAGAGTCTCG', 'GTTTGTGCTCCGA', 'AGTGGGACTCATC']\n"
     ]
    }
   ],
   "source": [
    "# taille des motifs k = 9\n",
    "k = 3 \n",
    "# frequences d'occurences des motifs f = 0.9 \n",
    "f = 0.9 # Pour le bonnus\n",
    "\n",
    "\n",
    "import random\n",
    "\n",
    "def generateRandomSequence(n:int, upper=False):\n",
    "    \"\"\"\n",
    "    Genere une séquence nucléotidique aléatoire \n",
    "    entrée n : longueur de la sequence\n",
    "    entrée upper : bool, si True les nucléotides seront minuscule, False majuscule\n",
    "    sortie sequence : une séquence nucléotidique aléatoire \n",
    "    \"\"\"\n",
    "    sequence = \"\"\n",
    "    for i in range(0,n):\n",
    "        s=random.choice(nuc)\n",
    "        if (upper):\n",
    "            sequence=sequence+(s.lower())\n",
    "        else:\n",
    "            sequence=sequence+(s.upper())\n",
    "\n",
    "    return sequence\n",
    "\n",
    "def implantMotifs(motifs:str,  sequences:list, f=1):\n",
    "    \"\"\"\n",
    "    Insérer un motif dans des positions aléatoires des séquences\n",
    "    entrée motifs : motif qui va être implanté dans les séquences\n",
    "    entrée f : fréquence d'implantation si 1 toutes les sequences contiendra un motif\n",
    "    entrée séquences : liste de sequences\n",
    "    sortie modified_sequences: liste de séquences ayant le motif implanté\n",
    "    \"\"\"\n",
    "    modified_sequences     = []\n",
    "    \n",
    "    for i in range(0,len(sequences)):\n",
    "        #pos_insertion=[]\n",
    "        #j=0\n",
    "        #while j<=f:\n",
    "            #pos_insertion.append(random.randint(0,len(sequences[i])))\n",
    "                                 \n",
    "        #for k in range(0,f):\n",
    "             #sequences[i]=sequences[i][0:pos_insertion[k]+1]+motifs+sequences[i][pos_insertion[k]+1:]\n",
    "        sequences[i]=insertMotif(sequences[i],motifs,random.randint(0,len(sequences[i])-1))      \n",
    "        modified_sequences.append(sequences[i])         \n",
    "                                 \n",
    "    return modified_sequences\n",
    "\n",
    "def insertMotif(sequence, motif, position):\n",
    "    return sequence[:position] + motif + sequence[position:]\n",
    "\n",
    "# Generate motifs\n",
    "def generateMotifs(k, nM):\n",
    "    return [generateRandomSequence(k, False) for rs in range(nM)]\n",
    "\n",
    "\n",
    "motif = generateRandomSequence(3, False)\n",
    "motif_implanted_seqs = implantMotifs(motif,  seqs, f)\n",
    "print (\"\\nModified sequences:\", motif_implanted_seqs)\n",
    "\n",
    "  \n"
   ]
  },
  {
   "cell_type": "markdown",
   "metadata": {
    "id": "xiIkrujLmarJ"
   },
   "source": [
    "3\\. Faites une fonction pour chercher les $m$ motifs de taille $k$ les plus fréquents dans l'ensemble des séquences. Tester cette fonction sur un l'ensemble de séquences avec le motif implanté génère dans les questions précédentes. Faite aussi une fonction qu'affiche les $top$ motifs les plus fréquents. "
   ]
  },
  {
   "cell_type": "code",
   "execution_count": 3,
   "metadata": {
    "id": "LPsYkRG1marK"
   },
   "outputs": [
    {
     "name": "stdout",
     "output_type": "stream",
     "text": [
      "{'TAA': 3, 'AAG': 1, 'AGT': 1, 'GTA': 1, 'TAT': 2, 'ATA': 1, 'CTA': 1, 'ATC': 1}\n",
      "{'TAA': 3, 'TAT': 2}\n"
     ]
    }
   ],
   "source": [
    "def searchMotifs(k:int, sequences:list):\n",
    "    \"\"\"\n",
    "    Cherche les motifs de taille k dans un ensemble de séquences\n",
    "    entrée k : taille du motif\n",
    "    entrée séquences : liste de sequences\n",
    "    sortie motifs: dictionnaire de motifs, clé=motif, valeur = fréquence d'observation\n",
    "    >>>searchMotifs(3, ['TAAGTAA', 'TATAA', 'CTATC'])\n",
    "    {'TAA': 3, 'AAG': 1, 'AGT': 1, 'GTA': 1, 'TAT': 2, 'ATA': 1, 'CTA': 1, 'ATC': 1}\n",
    "    \"\"\"\n",
    "    motifs  = {};\n",
    "    for i in range (len(sequences)):\n",
    "        seq=sequences[i]\n",
    "        long=len(seq)\n",
    "        for j in range (0, long-k+1):\n",
    "            key=seq[j:j+k]\n",
    "            motifs[key] = motifs[key] + 1 if key in motifs else 1     \n",
    "    return motifs\n",
    "\n",
    "def getTopMotifs(motifs:dict(), top:int):\n",
    "    \"\"\"\n",
    "    renvoyer les top motifs le plus frequent\n",
    "    entrée motifs: dictionnaire de motifs, clé=motif, valeur = fréquence d'observation\n",
    "    entrée top : les top plus frequent \n",
    "    sortie motifsfreq: dictionnaire contenant les top motifs les plus fréquents, clé=motif, valeur = fréquence d'observation\n",
    "    >>>getTopMotifs({'TAA': 3, 'AAG': 1, 'AGT': 1, 'GTA': 1, 'TAT': 2, 'ATA': 1, 'CTA': 1, 'ATC': 1}, 2)\n",
    "    {'TAA': 3, 'TAT': 2}\n",
    "    \"\"\"\n",
    "    motifsfreq  = {}\n",
    "    keytrie=sorted(motifs, reverse=True, key=motifs.get)# la liste de key trie (décroissant) par rapport ses valeurs\n",
    "    i=0\n",
    "    for key in keytrie:\n",
    "        if(i<top):\n",
    "            motifsfreq[key] = motifs[key]    \n",
    "        else:\n",
    "            break\n",
    "        i+=1\n",
    "    return motifsfreq\n",
    "\n",
    "\n",
    "\n",
    "motifsFound = searchMotifs(3, ['TAAGTAA', 'TATAA', 'CTATC'])\n",
    "print (motifsFound)\n",
    "#{'TAA': 3, 'AAG': 1, 'AGT': 1, 'GTA': 1, 'TAT': 2, 'ATA': 1, 'CTA': 1, 'ATC': 1}\n",
    "topMotifs = getTopMotifs(motifsFound, 2)\n",
    "print (topMotifs)\n",
    "#{'TAA': 3, 'TAT': 2}"
   ]
  },
  {
   "cell_type": "markdown",
   "metadata": {
    "id": "G8Hw-Zj6marM"
   },
   "source": [
    "4\\. Quell est la complexité de votre algorithme?"
   ]
  },
  {
   "cell_type": "markdown",
   "metadata": {
    "id": "3uvvJvCKmarN"
   },
   "source": [
    "<font color='blue'>\n",
    "Votre reponse\n",
    "    - searchMotifs avec n=longueur des séquences et t=nombre de séquence :\n",
    "   La compléxité de recherche de motifs pour une séquence est O((n-k +1)*(k))= O(n*k-k²+k)=O(n*k)\n",
    "   Donc O(searchMotifs)=O(t*n*k)\n",
    "</font>\n",
    "<font color='blue'>\n",
    "    -getTopMotifs :\n",
    "    On suppose que la complexité de sorted() est len(motifs)^2 \n",
    "    O(getTopMotifs)=O(len(motifs)²+top)\n",
    "</font>"
   ]
  },
  {
   "cell_type": "markdown",
   "metadata": {
    "id": "H8HebyHumarO"
   },
   "source": [
    "5\\. Certains motifs sont reverse complémentaires. Implanter des motifs reverse complémentaires dans les séquences déjà générés et en suite chercher ces motifs. Attention: vous devez réutiliser les fonctions développés précédemment, pas besoin de définir des nouvelles fonctions. "
   ]
  },
  {
   "cell_type": "code",
   "execution_count": 4,
   "metadata": {
    "id": "O_zGqHAFmarO"
   },
   "outputs": [
    {
     "name": "stdout",
     "output_type": "stream",
     "text": [
      "La liste des motifs:\n",
      "['AAC', 'TTC']\n",
      "\n",
      "La liste des séquences déjà générées:\n",
      "['GTACAGAGTCTCG', 'GTTTGTGCTCCGA', 'AGTGGGACTCATC']\n",
      "\n",
      "Les séquences avec nos motifs insérés aléatoirement:\n",
      "['GTGTTACAGAGTCTCGAAG', 'GTTTGTGTTGCTCCGAAGA', 'AGTTGGAATGGGACTCATC']\n",
      "\n",
      "On relève les motifs reverse complémentaires avec les fréquences dans chacune des séquences:\n",
      "{'GTG': 2, 'TGT': 3, 'GTT': 4, 'TTA': 1, 'TAC': 1, 'ACA': 1, 'CAG': 1, 'AGA': 2, 'GAG': 1, 'AGT': 2, 'GTC': 1, 'TCT': 1, 'CTC': 3, 'TCG': 1, 'CGA': 2, 'GAA': 3, 'AAG': 2, 'TTT': 1, 'TTG': 3, 'TGC': 1, 'GCT': 1, 'TCC': 1, 'CCG': 1, 'TGG': 2, 'GGA': 2, 'AAT': 1, 'ATG': 1, 'GGG': 1, 'GAC': 1, 'ACT': 1, 'TCA': 1, 'CAT': 1, 'ATC': 1}\n",
      "\n",
      "\n",
      "L'ensemble des motifs reverse complementaire retrouvés:\n",
      "{'GTT': 4, 'GAA': 3}\n"
     ]
    }
   ],
   "source": [
    "list_motif = generateRandomSequences(3, 2)  #liste de motifs où les reverses complémentaires sont à chercher\n",
    "list_cmp_rev=[]\n",
    "print('La liste des motifs:')\n",
    "print(list_motif)\n",
    "print('\\nLa liste des séquences déjà générées:')\n",
    "print(seqs)  \n",
    "motif_rev_comp_implanted_seqs=seqs\n",
    "\n",
    "def reversecompl(seq:str): #depuis TME1\n",
    "    compl = {'A': 'T', 'C': 'G', 'G': 'C', 'T':'A'}\n",
    "    l=list(seq)\n",
    "    l.reverse()\n",
    "    list_revcompl = [compl[base] for base in l]\n",
    "    return \"\".join(list_revcompl)\n",
    "\n",
    "    \n",
    "for i in range (len(list_motif)):\n",
    "    motif_rev_comp=reversecompl(list_motif[i]) #implémentation de motifs reverse complémentaires\n",
    "    list_cmp_rev.append(motif_rev_comp) #collectés dans une liste\n",
    "    #print(motif_rev_comp)\n",
    "    motif_rev_comp_implanted_seqs=implantMotifs(motif_rev_comp, motif_rev_comp_implanted_seqs, f=1)#insertion de chaque motifs reverse compl dans la séquence de base\n",
    "    #print(motif_rev_comp_implanted_seqs)\n",
    "\n",
    "print(\"\\nLes séquences avec nos motifs insérés aléatoirement:\")\n",
    "print(motif_rev_comp_implanted_seqs)\n",
    "\n",
    "#recherche de motifs dans la séquence modifiée\n",
    "print(\"\\nOn relève les motifs reverse complémentaires avec les fréquences dans chacune des séquences:\")\n",
    "motifsFound = searchMotifs(3, motif_rev_comp_implanted_seqs)\n",
    "print(motifsFound)\n",
    "\n",
    "\n",
    "#comparaison des motifs trouvés avec les motifs reverse complémentaires générés en premier\n",
    "motif_cherche={}\n",
    "for key in motifsFound:\n",
    "    if key in list_cmp_rev:\n",
    "        motif_cherche[key]=motifsFound[key]\n",
    "        #print(motif_cherche)\n",
    "\n",
    "print(\"\\n\\nL'ensemble des motifs reverse complementaire retrouvés:\")\n",
    "print(motif_cherche)\n",
    "#print(motifsFound)\n",
    "\n",
    "\n",
    "\n",
    "       "
   ]
  },
  {
   "cell_type": "markdown",
   "metadata": {
    "id": "RyUhiM2XmarQ"
   },
   "source": [
    "\n",
    "## Partie B : Recherche de motifs identiques sur vos données"
   ]
  },
  {
   "cell_type": "markdown",
   "metadata": {
    "id": "qjjE5tq9marQ"
   },
   "source": [
    "1\\. Le fichier \"C_glabrata_1000bp_only.fasta\" contiens les séquences régulatrices pour tous les gènes de votre organisme. Nous avons pris les 1000bp en amont du codon start. Chercher les 50 motifs de taille 7 les plus fréquents dans les deux brim de votre génome."
   ]
  },
  {
   "cell_type": "code",
   "execution_count": 5,
   "metadata": {
    "id": "-r1ASCFYmarR"
   },
   "outputs": [
    {
     "name": "stdout",
     "output_type": "stream",
     "text": [
      "{'AAAAAAA': 8385, 'TTTTTTT': 7658, 'ATATATA': 3096, 'ATTTTTT': 2970, 'AAAAAAT': 2960, 'TATATAT': 2796, 'AAAAATT': 2469, 'AATTTTT': 2457, 'GAAAAAA': 2417, 'AAAGAAA': 2417, 'AAAATTT': 2308, 'AAATTTT': 2305, 'TATTTTT': 2292, 'TTTTTTC': 2291, 'AAGAAAA': 2243, 'TATATAA': 2198, 'AAAAATA': 2188, 'TTTATTT': 2164, 'TTTCTTT': 2159, 'TGAAAAA': 2152, 'TTATTTT': 2134, 'TTTTATT': 2110, 'AAAAGAA': 2079, 'TTTTCTT': 2052, 'TTTTTCA': 1977, 'CAAAAAA': 1964, 'ATATAAA': 1946, 'AAAATAA': 1940, 'TTCTTTT': 1912, 'ATATATT': 1904, 'AATATAT': 1898, 'AATAAAA': 1889, 'AAATAAA': 1880, 'AGAAAAA': 1864, 'TTTTTAT': 1862, 'CTTTTTT': 1861, 'AAAAAAG': 1853, 'AATAATA': 1824, 'TTTTTTA': 1813, 'TTTTTTG': 1807, 'TTTTTCT': 1804, 'AAATATA': 1797, 'ATATTTT': 1781, 'ATAAAAA': 1780, 'TATATTT': 1771, 'TTATATA': 1734, 'TATTATT': 1729, 'AAAATAT': 1702, 'AAAAAGA': 1669, 'TAAAAAA': 1652}\n"
     ]
    }
   ],
   "source": [
    "import time\n",
    "\n",
    "k=7\n",
    "feq=10\n",
    "top= 50\n",
    "genome = \"C_glabrata_1000bp_only.fasta\"\n",
    "\n",
    "\n",
    "\n",
    "def readFasta(fastaFileName):\n",
    "    \"\"\"\n",
    "    Read a fasta file\n",
    "    entrée fastaFileName: nom du fichier fasta\n",
    "    sortie sequences: liste contenant toutes les sequences du fichier\n",
    "    \"\"\"\n",
    "    sequence = []\n",
    "    file = open(genome, \"r\")\n",
    "    sequence = []\n",
    "    for s in file:\n",
    "        if s[0] != \">\":\n",
    "            sequence.append(s.strip().upper())\n",
    "    return sequence\n",
    "\n",
    "sequences   = readFasta(genome)\n",
    "\n",
    "\n",
    "\n",
    "\n",
    "motifsGenome=searchMotifs(7, sequences)\n",
    "#print(motifsGenome)\n",
    "topMotifs = getTopMotifs(motifsGenome, 50)\n",
    "print(topMotifs)\n",
    "\n",
    "\n",
    "\n"
   ]
  },
  {
   "cell_type": "markdown",
   "metadata": {
    "id": "0e5fdIztmarS"
   },
   "source": [
    "2\\. Quel sont les trois motifs de taille 7 les plus frequents? Pensez vous que ces motifs correspondent à de facteur de transcription connus? Justifier votre reponse."
   ]
  },
  {
   "cell_type": "markdown",
   "metadata": {
    "id": "8Zyhn6-PmarS"
   },
   "source": [
    "<font color='blue'>\n",
    "Les 3 motifs de taille 7 les plus fréquents sont 'AAAAAAA': 8385, 'TTTTTTT': 7658, 'ATATATA': 3096. Ces motifs correspondraient à des facteurs de transcriptions connus car comme ce sont les motifs les plus répandus dans le génôme ils permettraient donc la régulation directe des gènes.\n",
    "</font>"
   ]
  },
  {
   "cell_type": "markdown",
   "metadata": {
    "id": "NVUbnuGDmarT"
   },
   "source": [
    "3\\. BONNUS: Le motif TGATTCAT correspond au facteur de transcription Gcn4 qui est trés suivant trouvé dans le genome de levures. Est-ce que vous avez trouvé ce motif? Si oui avec quel frequence?"
   ]
  },
  {
   "cell_type": "code",
   "execution_count": 6,
   "metadata": {
    "id": "ZeMVGLjVmarT"
   },
   "outputs": [
    {
     "name": "stdout",
     "output_type": "stream",
     "text": [
      "(591, 4818)\n",
      "Donc oui, la fréquence est donc de:\n",
      "591\n"
     ]
    }
   ],
   "source": [
    "motifGcn4 = ['TGATTCA']\n",
    "\n",
    "def searchGivenMotif(motifsTrouve, motifSpecifique):\n",
    "    \"\"\"\n",
    "    Cherche une liste de motifs specifiques dans un dictionaire de motifs trouvés\n",
    "    entrée motifsTrouve : dictionnaire de motifs, clé=motif, valeur = fréquence d'observation\n",
    "    entrée motifSpecifique: un motif specifique à chercher\n",
    "    sortie frequence : la frenquence du motif\n",
    "    sortie ranking : dans quelle position le motif a été trouvé\n",
    "    \"\"\"\n",
    "    frquence=0; ranking=0\n",
    "    for key in motifsTrouve:\n",
    "        if (ranking==len(motifsTrouve)):\n",
    "            rang=-1\n",
    "        elif (key==motifSpecifique[0]):\n",
    "            frequence=motifsTrouve[key]\n",
    "            break\n",
    "        ranking=ranking+1\n",
    "    return frequence, ranking\n",
    "\n",
    " \n",
    "print(searchGivenMotif(motifsGenome,motifGcn4))\n",
    "print(\"Donc oui, la fréquence est donc de:\")\n",
    "print(motifsGenome[motifGcn4[0]])"
   ]
  },
  {
   "cell_type": "markdown",
   "metadata": {
    "id": "Ibm0Eja2marU"
   },
   "source": [
    "4\\. Les motifs peu complexes (avec par exemple 5, 6 ou 7 fois la même lettre) sont courants dans les génomes, ils n'ont généralement pas de signification biologique. Dans le context de ce projet, vous pouvez eliminer aussi les motifis ayant deux lettre repetés, comme par exemple AGAGAGA. Faites une fonction pour éliminer les motifs peu complexes, _i. e._ qui ont au moins $m$ fois la même lettre ou qui ont deux lettre consecutive répétés. Dans quel position vous trouver Gcn4 apres enlever les motifs peu complexes?</font>. "
   ]
  },
  {
   "cell_type": "code",
   "execution_count": 7,
   "metadata": {
    "id": "cFkaqI39marU"
   },
   "outputs": [
    {
     "name": "stdout",
     "output_type": "stream",
     "text": [
      "(591, 3532)\n",
      "Donc, oui la position a bien reculé, la nouvelle position de Gcn4 est:\n",
      "3532\n"
     ]
    }
   ],
   "source": [
    "def removable(motif):\n",
    "    \"\"\"\n",
    "    fonction définie en plus, retourne vrai si le motif peut être supprimé avec 2 critères:\n",
    "    soit il dispose de 2 lettres consécutives qui se répètent\n",
    "    soit il dispose d'une ou plusieurs lettres de fréquence de 5, 6 ou 7\"\"\"\n",
    "    freq_lettre={}\n",
    "    for i in range(0,len(motif)):\n",
    "        if (i+3 < len(motif)):\n",
    "            if motif[i]==motif[i+2] and motif[i+1]==motif[i+3]:\n",
    "                return 1 \n",
    "        freq_lettre[motif[i]] = freq_lettre[motif[i]] + 1 if motif[i] in freq_lettre else 1 \n",
    "\n",
    "    return ((5 in freq_lettre.values()) or (6 in freq_lettre.values()) or (7 in freq_lettre.values()))\n",
    "\n",
    "def removeLowComplexe(motifs):\n",
    "    \"\"\"\n",
    "    Eleve les motifs peu complexe ayant \n",
    "    entrée motifs: dictionnaire de motifs, clé=motif, valeur = fréquence d'observation\n",
    "    sortie motifsClean: dictionnaire de motifs sans les motifs peu complexe.\n",
    "    \"\"\"\n",
    "    motifsClean = {}\n",
    "    for key in motifs:\n",
    "        if  removable(key)==0:\n",
    "            motifsClean[key]=motifs[key]\n",
    "    #motifsClean={key : motifs[key] for key in motifs if removable(key)==0}\n",
    "    return motifsClean\n",
    "\n",
    "removed=removeLowComplexe(motifsGenome)\n",
    "#print(len(motifsGenome))\n",
    "#print(len(removed))\n",
    "print(searchGivenMotif(removed,motifGcn4))\n",
    "print(\"Donc, oui la position a bien reculé, la nouvelle position de Gcn4 est:\")\n",
    "print(searchGivenMotif(removed,motifGcn4)[1])\n"
   ]
  },
  {
   "cell_type": "markdown",
   "metadata": {
    "id": "MrAPyMcPmarV"
   },
   "source": [
    "5\\. Le fichier \"Sequence_by_Peaks_G*.fasta\" contiens les regions de peak trouvé par ChipSeq, qui contient probablement le Facteur de Transcription que nous cherchons. Apliquer les fonctions precedents pour chercher les 3 motifs les plus fréquents dans les deux brim. Il faut bien evidement enlever les motifs peu complexe."
   ]
  },
  {
   "cell_type": "code",
   "execution_count": 8,
   "metadata": {
    "id": "wIHGDtXDmarW"
   },
   "outputs": [
    {
     "name": "stdout",
     "output_type": "stream",
     "text": [
      "\n",
      "Les 3 motifs les plus fréquents de ce fichier:\n",
      "{'GTACTTGT': 10, 'GTTCTAGT': 9, 'CTAGTTCT': 9}\n"
     ]
    }
   ],
   "source": [
    "k=8\n",
    "feq=5\n",
    "top= 30\n",
    "\n",
    "genome = \"Sequence_by_Peaks_8.fasta\"\n",
    "\n",
    "    ##lecture des séquences du fichier\n",
    "sequences = readFasta(genome)\n",
    "\n",
    "\n",
    "    ##recuperation des motifs de l'ensemble des séquences \n",
    "motifsGenome=searchMotifs(k, sequences)\n",
    "#print(motifsGenome)\n",
    "#print(len(motifsGenome))\n",
    "\n",
    "    ##les 30 top motifs\n",
    "topMotifs = getTopMotifs(motifsGenome, top)\n",
    "#print(topMotifs)\n",
    "\n",
    "    ##libère les motifs peu complexe\n",
    "motifsGenome=removeLowComplexe(motifsGenome)\n",
    "#print(motifsGenome)\n",
    "#print(len(motifsGenome))\n",
    "\n",
    "    ##les 30 top nouveaux motifs\n",
    "topMotifs = getTopMotifs(motifsGenome, top)\n",
    "#print(topMotifs)\n",
    "\n",
    "\n",
    "print(\"\\nLes 3 motifs les plus fréquents de ce fichier:\")\n",
    "print(getTopMotifs(motifsGenome, 3))\n"
   ]
  },
  {
   "cell_type": "markdown",
   "metadata": {
    "id": "MEBziFExmarX"
   },
   "source": [
    "6\\. Ulitser la base YEASTRACT : http://www.yeastract.com/formsearchbydnamotif.php pour chercher les motifs. \n",
    "Avez vous une indication pour le facteur de transcription impliqué ?\n"
   ]
  },
  {
   "cell_type": "code",
   "execution_count": null,
   "metadata": {
    "id": "ORwePIySLfa9"
   },
   "outputs": [],
   "source": []
  }
 ],
 "metadata": {
  "colab": {
   "provenance": []
  },
  "kernelspec": {
   "display_name": "Python 3 (ipykernel)",
   "language": "python",
   "name": "python3"
  },
  "language_info": {
   "codemirror_mode": {
    "name": "ipython",
    "version": 3
   },
   "file_extension": ".py",
   "mimetype": "text/x-python",
   "name": "python",
   "nbconvert_exporter": "python",
   "pygments_lexer": "ipython3",
   "version": "3.7.3"
  }
 },
 "nbformat": 4,
 "nbformat_minor": 1
}
