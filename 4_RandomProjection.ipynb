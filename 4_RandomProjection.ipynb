{
 "cells": [
  {
   "cell_type": "markdown",
   "metadata": {},
   "source": [
    "Nom Etudiant 1: Shiyao CHEN\n",
    "<br>\n",
    "Nom Etudiant 2: Ménalie SELLAHENNEDI"
   ]
  },
  {
   "cell_type": "markdown",
   "metadata": {
    "id": "981-NdKA_huf"
   },
   "source": [
    "# TME 3.2: Projet Detection de motifs\n",
    "\n",
    "\n",
    "## Recheche de pattern (motifs) en utilisant les algoritmes randomisés\n",
    "\n",
    "Les algorithmes randomisés prendre des décisions aléatoire plutôt que déterministes.\n",
    "l'algorithme s'exécute différemment à chaque fois. Ils sont couramment utilisés dans situations où aucun algorithme exact et rapide est connu. Nous allons d'abord implémenter l'algorithm random Projections.\n"
   ]
  },
  {
   "cell_type": "markdown",
   "metadata": {
    "id": "5z3a_1W0_huk"
   },
   "source": [
    "1\\.  Nous allons réutiliser les fonctions du precedent pour générer t séquences artificielles de taille n, et implanter dans chaque séquence un motif de taille k à des positions aléatoires avec v substitutions choisies aléatoirement. Nous allons faire varier le motifs dans 50% de cas."
   ]
  },
  {
   "cell_type": "code",
   "execution_count": 12,
   "metadata": {
    "id": "6UbcF5N2_hul"
   },
   "outputs": [],
   "source": [
    "import random\n",
    "import numpy as np\n",
    "\n",
    "nuc = ('A', 'C', 'G', 'T')\n",
    "\n",
    "k=5 #taille de motif\n",
    "v=1 #nb de positions variable dans le motif\n",
    "t=3 #nb de sequences\n",
    "n=10 #longuer des sequence\n",
    "f=0.5"
   ]
  },
  {
   "cell_type": "code",
   "execution_count": 13,
   "metadata": {
    "id": "IplKLaGL_hun"
   },
   "outputs": [
    {
     "name": "stdout",
     "output_type": "stream",
     "text": [
      "['ttggcccgtg', 'tcagcctgTt', 'cttcactaGa']\n",
      "['TTGGCCCGTG', 'TCAGCCTGTT', 'CTTCACTAGA']\n"
     ]
    }
   ],
   "source": [
    "def insertMotif(sequence, motif, position):\n",
    "    return sequence[:position] + motif + sequence[position:]\n",
    "\n",
    "def generateRandomSequence(n, upper=True):\n",
    "    \"\"\"\n",
    "    Génère une séquence nucléotidique aléatoire \n",
    "    entrée n : longueur de la sequence\n",
    "    entrée upper : bool, si True les nucléotides seront en majuscule, False minuscule\n",
    "    sortie sequence : une séquence nucléotidique aléatoire \n",
    "    \"\"\"\n",
    "    sequence = \"\"\n",
    "    for i in range (n):\n",
    "        s=random.choice(nuc)\n",
    "        if(upper):\n",
    "            sequence=sequence+(s.upper())\n",
    "        else:\n",
    "            sequence=sequence+(s.lower())\n",
    "    \n",
    "    return sequence\n",
    "\n",
    "def modifierMotif(motif, nbpos,  upper=True):\n",
    "    \"\"\"\n",
    "    Modifie nbpos positions d'un motif aléatoirement \n",
    "    entrée motif: motif à modifier\n",
    "    entrée nbpos: nombre de positions\n",
    "    entrée upper : bool, si True les nucléotides modifiés seront majuscule, False minuscule\n",
    "    sortie motifM: motif modifié\n",
    "    \"\"\"\n",
    "    motifM = list(motif)\n",
    "    #print(motif)\n",
    "    for i in range(0,nbpos):\n",
    "        t=random.randint(0,len(motifM)-1)\n",
    "        while (i>0 and t==prec): #pour verifier qu'on ne s'occupe pas d'une même position 2 fois de suite\n",
    "            t=random.randint(0,len(motifM)-1)\n",
    "            \n",
    "        s=random.choice(nuc)\n",
    "        #print(s==motifM[t].upper())\n",
    "        while (s==motifM[t].upper()): #pour verifier qu'on ne substitue pas par la même lettre\n",
    "            s=random.choice(nuc)\n",
    "        \n",
    "        if (upper==True):\n",
    "            motifM=motifM[:t]+[s.upper()]+motifM[t+1:]\n",
    "        else:\n",
    "            motifM=motifM[:t]+[s.lower()]+motifM[t+1:]\n",
    "        prec=t\n",
    "    \n",
    "    #print(motifM)\n",
    "    return \"\".join(motifM)\n",
    "\n",
    "#tester la fonction modifierMotif\n",
    "#print (modifierMotif(\"acg\", 2))\n",
    "\n",
    "\n",
    "def implantMotifVar(k, v, t, n, f):\n",
    "    \"\"\"\n",
    "    Génère des séquences aléatoires et les implante des motifs variables (un motif par séquence)\n",
    "    entrée k: taille du motif\n",
    "    entrée v: nombre de variations\n",
    "    entrée t : nombre de séquences \n",
    "    entrée n : longueur des séquences\n",
    "    entrée f : frequence de variation du motif.\n",
    "    sortie DNA : matrice de dimension txn avec les motifs implantés\n",
    "    REMARQUE : La taille totale des séquences plus motif doit être égal à t, pensez à générer de séquence aléatoire de taille t-k pour pouvoir implanter un motif de taille k\n",
    "    \"\"\"\n",
    "    sequences = []\n",
    "    for i in range(0,t):\n",
    "        if(random.uniform(0.0, 1.0)<=f):\n",
    "            pos=random.randint(0,n)\n",
    "            sequences.append(insertMotif(generateRandomSequence(n-k,False),modifierMotif(generateRandomSequence(k,False),v),pos))\n",
    "        else:\n",
    "            sequences.append(generateRandomSequence(n,False))\n",
    "    return sequences\n",
    "\n",
    "\n",
    "adn = implantMotifVar(k, v, t, n, f)\n",
    "print (adn)\n",
    "\n",
    "adn  = [s.upper() for s in adn]\n",
    "print (adn)"
   ]
  },
  {
   "cell_type": "markdown",
   "metadata": {
    "id": "UO-2rHmt_hu3"
   },
   "source": [
    "2\\. Nous allons implémenter l'algorithme ``randomProjection``. D'abord, faites la fonction `getRandomFixePositions` pour générer une projection de p à k, voir un exemple dans les slides de cours. Faire aussi la fonction `generateKey` qui extrait les caractères du motif puis génère une cle qui représente la projection."
   ]
  },
  {
   "cell_type": "code",
   "execution_count": 3,
   "metadata": {
    "id": "72rT-OkS_hu3"
   },
   "outputs": [
    {
     "name": "stdout",
     "output_type": "stream",
     "text": [
      "[0, 1, 3, 5]\n"
     ]
    },
    {
     "data": {
      "text/plain": [
       "'0135'"
      ]
     },
     "execution_count": 3,
     "metadata": {},
     "output_type": "execute_result"
    }
   ],
   "source": [
    "def is_in(x, L):\n",
    "    for el in L:\n",
    "        if (x==el):\n",
    "            return True\n",
    "    return False\n",
    "\n",
    "def getRandomFixePositions(p, k):\n",
    "    \"\"\"\n",
    "    Genere une projection de p vers k\n",
    "    entrée p: nombre de positions choisi pour la projection \n",
    "    entrée k: nombre de positions du motif original\n",
    "    sortie projection: liste de positions choisi aléatoirement\n",
    "    \"\"\"\n",
    "    projection = []\n",
    "    count = 0\n",
    "    prec=[]\n",
    "    for i in range(0,p):\n",
    "        pos=random.randint(0,k-1)\n",
    "        while(is_in(pos,prec)):\n",
    "            pos=random.randint(0,k-1)\n",
    "        projection.append(pos)\n",
    "        prec.append(pos)\n",
    "    return projection\n",
    "\n",
    "lR = getRandomFixePositions(4, 7)\n",
    "lR.sort()\n",
    "print(lR)\n",
    "\n",
    "def generateKey(projection, motif):\n",
    "    \"\"\"\n",
    "    extrait les caractères du motif et génère la cle de la projection\n",
    "    entrée projection : liste de positions qui represent la projection\n",
    "    entrée motif : motif de taille k\n",
    "    sortie cle : cle de la projection\n",
    "    \"\"\"\n",
    "    cles = \"\"\n",
    "    for i in projection:\n",
    "        cles+=motif[i]\n",
    "    return cles\n",
    "\n",
    "generateKey(lR, \"01234567\")"
   ]
  },
  {
   "cell_type": "markdown",
   "metadata": {
    "id": "NK0BhSs1_hu3"
   },
   "source": [
    "3\\. Implémenter l'algorithme ``randomProjection``. Bonnus : Pour ameliorer la performance vous pouvez abandonner les motifs de taille k peu complexes."
   ]
  },
  {
   "cell_type": "code",
   "execution_count": 4,
   "metadata": {
    "id": "yaDXNosb_hu3"
   },
   "outputs": [
    {
     "name": "stdout",
     "output_type": "stream",
     "text": [
      "{'ACGT': 2, 'CGGA': 2, 'GGCA': 1, 'GCAC': 1, 'CACC': 1, 'CGCC': 1, 'GCCA': 1, 'GGCC': 1, 'GCCC': 1, 'CCGG': 1}\n",
      "{'ACGT': ['TTAACGG', 'CTCACGC'], 'CGGA': ['TAACGGC', 'TACCGGC'], 'GGCA': ['AACGGCA'], 'GCAC': ['ACGGCAC'], 'CACC': ['GCTCACG'], 'CGCC': ['TCACGCC'], 'GCCA': ['CACGCCA'], 'GGCC': ['ACCGGCC'], 'GCCC': ['CCGGCCG'], 'CCGG': ['CGGCCGT']}\n"
     ]
    }
   ],
   "source": [
    "def removeLowComplexe(motifs,k):\n",
    "    motifsClean = []\n",
    "    supp=False\n",
    "    for key in motifs:\n",
    "        for i in range(len(key)):\n",
    "            cpt=key.count(key[i])\n",
    "            if (cpt>=k):\n",
    "                supp=True\n",
    "            if ((i+3)<len(key)):\n",
    "                if key[i]==key[i+2] and key[i+1]==key[i+3]:\n",
    "                    supp=True\n",
    "        if (supp==False):\n",
    "            motifsClean.append(key)\n",
    "        supp=False\n",
    "    return motifsClean\n",
    "\n",
    "\n",
    "\n",
    "def randomProjection(k, p, sequences):\n",
    "    \"\"\"\n",
    "    Implémente l'algorithme randomProjection\n",
    "    entrée k : taille du motif\n",
    "    entrée p : nombre de positions de la projection \n",
    "    entrée sequences : matrice de dimension txn contenant les séquences \n",
    "    sortie motifs : dictionaire, cle = projection, valeur= frequence\n",
    "    sortie motifsSeq:  dictionaire, cle = projection, valeur= original motif\n",
    "    \"\"\"\n",
    "    motifs  = {}; motifsSeq  = {}\n",
    "    projection=getRandomFixePositions(p, k)\n",
    "    for seq in sequences:\n",
    "        i=0\n",
    "        all_motifs=[]\n",
    "        for i in range(len(seq)-k+1):\n",
    "            motif=seq[i:i+k]\n",
    "            all_motifs.append(motif)\n",
    "            all_motifs=removeLowComplexe(all_motifs,k) # abandonner les motifs de taille k peu complexes\n",
    "            if is_in(motif,all_motifs):\n",
    "                cle=generateKey(projection,motif)\n",
    "                if (is_in(cle,motifs.keys())):\n",
    "                    motifsSeq[cle].append(motif)\n",
    "                    motifs[cle]=motifs[cle]+1\n",
    "                else:\n",
    "                    motifsSeq[cle]=[motif]\n",
    "                    motifs[cle]=1\n",
    "    return motifs, motifsSeq\n",
    "\n",
    "#motifsSort = sorted(motifs, reverse=True, key=motifs.get)\n",
    "\n",
    "adnTest = ['TTAACGGCAC', 'GCTCACGCCA', 'TACCGGCCGT']\n",
    "motifsProj, motifsSeq = randomProjection(7, 4, adnTest)\n",
    "print (motifsProj)\n",
    "print (motifsSeq)\n",
    "\n",
    "#motifsProj => {'TACG': 1, 'TCGC': 3, 'AGGA': 1, 'AGCC': 1, 'GCAG': 1, 'CACC': 1, 'CGCA': 1, 'AGGC': 1, 'CGCG': 1, 'CCCT': 1}\n",
    "#motifsSeq => {'TACG': ['TTAACGG'], 'TCGC': ['TAACGGC', 'TCACGCC', 'TACCGGC'], 'AGGA': ['AACGGCA'], 'AGCC': ['ACGGCAC'], 'GCAG': ['GCTCACG'], 'CACC': ['CTCACGC'], 'CGCA': ['CACGCCA'], 'AGGC': ['ACCGGCC'], 'CGCG': ['CCGGCCG'], 'CCCT': ['CGGCCGT']}"
   ]
  },
  {
   "cell_type": "markdown",
   "metadata": {
    "id": "RWMsME8t_hu3"
   },
   "source": [
    "4\\. Avez vous trouvez le motif implanté? Rexécuter l’algorithme plusieurs fois pour augmenter les chances de le trouver. "
   ]
  },
  {
   "cell_type": "markdown",
   "metadata": {
    "id": "gj5RGPey_hu4"
   },
   "source": [
    "reponse: Etant donnée qu'il n'y a qu'une itération de l'algorithme même si on execute plusieurs fois, les buckets se réinitialise à chaque fois et la probabilité qu'un bucket se remplisse beaucoup est assez faible d'où l'incapacité à trouver le meilleur score d'un motif et donc le motif implanté. Mais on peut estimer qu'il se trouve dans ['TAACGGC', 'TACCGGC'] comme c'est le bucket au score le plus élevé."
   ]
  },
  {
   "cell_type": "markdown",
   "metadata": {
    "id": "1DHZjpi4_hu6"
   },
   "source": [
    "5\\. Implémenter la version itérative de l’algorithme ``randomProjection``. "
   ]
  },
  {
   "cell_type": "code",
   "execution_count": 5,
   "metadata": {
    "id": "ku5JseaVqagY"
   },
   "outputs": [],
   "source": [
    "\n",
    "#Construire matrice de fréquence\n",
    "def profile(motifs, k, nuc):\n",
    "    \"\"\"\n",
    "    Construire une matrice de fréquence de dimension k x |nuc|\n",
    "    entrée motifs: liste de motifs\n",
    "    entrée k: taille du motif\n",
    "    entrée nuc: alphabet\n",
    "    sortie MF: matrice de fréquence\n",
    "    \"\"\"\n",
    "    q = len(nuc)\n",
    "    PWM = np.zeros((q, k))\n",
    "    i=0\n",
    "    j=0\n",
    "    for i in range (0,k):\n",
    "        for j in range (len(motifs)):  # 1er ligne =A  2eme ligne =C   3eme ligne =G   4eme ligne =T\n",
    "            lettre=motifs[j][i]\n",
    "            if lettre==\"A\":\n",
    "                PWM[0][i]+=1\n",
    "            if lettre==\"C\":\n",
    "                PWM[1][i]+=1\n",
    "            if lettre==\"G\":\n",
    "                PWM[2][i]+=1\n",
    "            if lettre==\"T\":\n",
    "                PWM[3][i]+=1\n",
    "    \n",
    "    return PWM\n",
    "\n",
    "def getScore(MF, k):\n",
    "    \"\"\"\n",
    "    Renvoie le score de MF, la somme des max de chaque colonne\n",
    "    entrée MF: matrice de fréquence\n",
    "    entrée k: taille du motif\n",
    "    sortie sc: score\n",
    "    \"\"\"\n",
    "    sc = 0\n",
    "    i=0\n",
    "    j=0\n",
    "    for i in range(len(MF[0])):\n",
    "        max_col=0\n",
    "        for j in range (len(MF)):\n",
    "            s=MF[j][i]\n",
    "            if(max_col<s):\n",
    "                max_col=s\n",
    "        #print(max_col)\n",
    "        sc=sc+max_col\n",
    "    \n",
    "    return sc"
   ]
  },
  {
   "cell_type": "code",
   "execution_count": 6,
   "metadata": {
    "id": "WkfqvtsT_hu6"
   },
   "outputs": [
    {
     "name": "stdout",
     "output_type": "stream",
     "text": [
      "['TTAACGGCAC', 'GCTCACGCCA', 'TACCGGCCGT']\n",
      "18.0 ['TAACGGC', 'TCACGCC', 'TACCGGC']\n"
     ]
    }
   ],
   "source": [
    "\n",
    "    \n",
    "def randomProjIt(sequences, k, v, nuc, It):\n",
    "    \"\"\"\n",
    "    Implémente l'algorithme randomProjection version iteractive\n",
    "    entrée sequences : matrice de dimension txn contenant les séquences \n",
    "    entrée k : nombre de positions du motif\n",
    "    entrée v : nombre de positions de la projection \n",
    "    entrée nuc : alphabet\n",
    "    entrée It: nombre d'iterations\n",
    "    sortie score : meilleur score\n",
    "    sortie motifs :  liste de motifs associés au meilleur score\n",
    "    \"\"\"\n",
    "    score=0\n",
    "    motifs = []; scores = 0\n",
    "    for i in range (0,It):\n",
    "        algo=randomProjection(k, v, sequences)\n",
    "        #print(i,algo)\n",
    "        #all_motifs=allMotifsFromDict(algo[1]) #on recupère l'ensemble des motifs\n",
    "        for val in algo[1].values():#on parcourt les buckets de motifs\n",
    "            #print(algo[1])\n",
    "            #print(val)\n",
    "            current_score=getScore(profile(val,k,nuc),k) #plus cette fonction donne une valeur grande plus le bucket dans lequel se trouve le motif est grand\n",
    "            #print(current_score)\n",
    "            if score<current_score:\n",
    "                score=current_score\n",
    "                motifs=val\n",
    "    return score, motifs\n",
    "\n",
    "score, seqsMotif = randomProjIt(adnTest, 7, 4, nuc, 100)\n",
    "print(adnTest)\n",
    "print (score, seqsMotif)\n"
   ]
  },
  {
   "cell_type": "markdown",
   "metadata": {
    "id": "JeBaa7f1_hu6"
   },
   "source": [
    "6\\. Tester l'algorithme  ``randomProjection`` sur vos données de chipSeq. N'oubliez pas de chercher les motifs dans le brin complémentaire et faire un merge de résultats. Puis générér le LOGO du motif trouvé."
   ]
  },
  {
   "cell_type": "code",
   "execution_count": 7,
   "metadata": {
    "id": "TqwsXVV7_hu4"
   },
   "outputs": [
    {
     "name": "stdout",
     "output_type": "stream",
     "text": [
      "CTGG\n",
      "0 CTGG - 2\n",
      "GTGC\n",
      "1 GTGC - 1\n",
      "AACG\n",
      "2 AACG - 1\n",
      "CAAC\n",
      "3 CAAC - 1\n",
      "GGCA\n",
      "4 GGCA - 1\n",
      "CCGC\n",
      "5 CCGC - 1\n",
      "CTCG\n",
      "6 CTCG - 1\n",
      "ACCC\n",
      "7 ACCC - 1\n",
      "CACG\n",
      "8 CACG - 1\n",
      "GCCC\n",
      "9 GCCC - 1\n"
     ]
    }
   ],
   "source": [
    "def reverseComplement(seq):\n",
    "    seq_dict = {'A':'T','T':'A','G':'C','C':'G'}\n",
    "    return \"\".join([seq_dict[base] for base in reversed(seq)])\n",
    "\n",
    "def complement(seq):\n",
    "    seq_dict = {'A':'T','T':'A','G':'C','C':'G'}\n",
    "    return \"\".join([seq_dict[base] for base in seq])\n",
    "\n",
    "def printTopFMotifsFreq(motifs, m, rev=False):\n",
    "    motifsRet = {}\n",
    "    motifsSort = sorted(motifs, reverse=True, key=motifs.get)\n",
    "    i = 0\n",
    "    while (i < m):\n",
    "        motifPrint = motifsSort[i]\n",
    "        print (motifsSort[i])\n",
    "        if rev:\n",
    "            motifPrint = reverseComplement(motifsSort[i])\n",
    "        print (i, motifPrint, \"-\", motifs[motifsSort[i]])\n",
    "        i = i + 1\n",
    "\n",
    "motifs, motifsSeq = randomProjection(7, 4, adnTest)\n",
    "printTopFMotifsFreq(motifs, 10)\n",
    "#print (motifsSeq['CATA'])"
   ]
  },
  {
   "cell_type": "code",
   "execution_count": 8,
   "metadata": {
    "id": "_FVlr-KYtsQB"
   },
   "outputs": [
    {
     "name": "stdout",
     "output_type": "stream",
     "text": [
      "GTGTGAGTCTCGTTGTACGTCCGAGTTCTCGGTTTTTTACGAAACAAATCCCCTTCGGCTGCGCGGTTGCCTCGCGGTCC 400 80 7\n",
      "Meilleur score:  2073.0\n",
      "['AATCTAA', 'AATTTAA', 'AAACAAA', 'AATGGAA', 'AAATTAA', 'AAGATAA', 'AAGATAA', 'AACTCAA', 'AAGATAA', 'AATTTAA', 'AAGATAA', 'AAAGAAA', 'AAATGAA', 'AAATTAA', 'AATTAAA', 'AAATTAA', 'AATTAAA', 'AATGGAA', 'AAAGAAA', 'AAAGAAA', 'AACAGAA', 'AAAGAAA', 'AAACTAA', 'AACTAAA', 'AAAGAAA', 'AATTAAA', 'AACTTAA', 'AACCTAA', 'AATACAA', 'AATTAAA', 'AAAGAAA', 'AATCCAA', 'AAGATAA', 'AAGTCAA', 'AACTCAA', 'AAACAAA', 'AACGTAA', 'AAAGCAA', 'AAGCAAA', 'AAAGAAA', 'AATACAA', 'AAGTTAA', 'AAATAAA', 'AAGGCAA', 'AAGGCAA', 'AATGAAA', 'AAAGGAA', 'AAATCAA', 'AATCAAA', 'AATCAAA', 'AAAGAAA', 'AAACTAA', 'AACTAAA', 'AATAGAA', 'AAGTAAA', 'AAAGTAA', 'AAGTAAA', 'AATGGAA', 'AATACAA', 'AAATCAA', 'AATCAAA', 'AATAGAA', 'AAACGAA', 'AAATAAA', 'AAGTAAA', 'AATTCAA', 'AATTAAA', 'AAGGGAA', 'AATGCAA', 'AATACAA', 'AAACTAA', 'AATTAAA', 'AAAGTAA', 'AAGTAAA', 'AATTCAA', 'AATACAA', 'AATTCAA', 'AATACAA', 'AAATTAA', 'AATTAAA', 'AATGAAA', 'AATTTAA', 'AAATAAA', 'AATAGAA', 'AACCAAA', 'AAATAAA', 'AAACAAA', 'AACGAAA', 'AAGGGAA', 'AACTGAA', 'AATTGAA', 'AATACAA', 'AAGATAA', 'AAAGGAA', 'AATTGAA', 'AATTGAA', 'AAGATAA', 'AAGCTAA', 'AATGTAA', 'AAATTAA', 'AATTAAA', 'AAATAAA', 'AAACAAA', 'AATTAAA', 'AATCCAA', 'AAACCAA', 'AATACAA', 'AATACAA', 'AAACAAA', 'AAACAAA', 'AAACGAA', 'AAACCAA', 'AACAGAA', 'AAGACAA', 'AAGTAAA', 'AACATAA', 'AATCGAA', 'AAACAAA', 'AAAGGAA', 'AAACAAA', 'AATGTAA', 'AAGACAA', 'AAGCAAA', 'AAACCAA', 'AACCTAA', 'AAGTCAA', 'AAGATAA', 'AAGCTAA', 'AACAGAA', 'AAATTAA', 'AAGGTAA', 'AAATCAA', 'AATCAAA', 'AATAGAA', 'AAAGAAA', 'AAATAAA', 'AAAGAAA', 'AAAGAAA', 'AAATGAA', 'AATGAAA', 'AAAGGAA', 'AAGGAAA', 'AACTTAA', 'AAATAAA', 'AATAGAA', 'AAGACAA', 'AAATAAA', 'AAAGAAA', 'AATCAAA', 'AATGGAA', 'AAAGAAA', 'AAGTAAA', 'AAAGTAA', 'AACTCAA', 'AAGACAA', 'AAAGTAA', 'AAGTAAA', 'AAGGTAA', 'AACAGAA', 'AATCGAA', 'AAGTCAA', 'AAATGAA', 'AATTGAA', 'AAAGTAA', 'AAGTAAA', 'AAAGAAA', 'AAATTAA', 'AAAGGAA', 'AAGGAAA', 'AATGGAA', 'AATGAAA', 'AAATGAA', 'AATGAAA', 'AACTCAA', 'AAGCAAA', 'AACTCAA', 'AAAGAAA', 'AATCCAA', 'AAACAAA', 'AAATAAA', 'AATAGAA', 'AATGCAA', 'AACGGAA', 'AACTGAA', 'AAATAAA', 'AAGATAA', 'AACCAAA', 'AAACCAA', 'AACAGAA', 'AAAGAAA', 'AAGTTAA', 'AATAGAA', 'AATGAAA', 'AAATCAA', 'AACTGAA', 'AACTCAA', 'AAAGGAA', 'AAGGAAA', 'AAGGCAA', 'AAACGAA', 'AACCTAA', 'AAGCTAA', 'AATTTAA', 'AATTGAA', 'AAATTAA', 'AACGTAA', 'AACGGAA', 'AACAGAA', 'AATTTAA', 'AATTGAA', 'AAAGTAA', 'AAACCAA', 'AATGCAA', 'AAGTAAA', 'AAGACAA', 'AATTTAA', 'AATTGAA', 'AATACAA', 'AAGACAA', 'AAGGGAA', 'AATGAAA', 'AATAGAA', 'AAGGGAA', 'AACCGAA', 'AAGACAA', 'AATGCAA', 'AAACCAA', 'AACCAAA', 'AAAGGAA', 'AATTGAA', 'AAGACAA', 'AAACAAA', 'AAATCAA', 'AAAGCAA', 'AAGCAAA', 'AAGGGAA', 'AACAGAA', 'AAATGAA', 'AATTTAA', 'AATGGAA', 'AAATGAA', 'AATGAAA', 'AAGTAAA', 'AAATGAA', 'AAACAAA', 'AAGATAA', 'AAATAAA', 'AACATAA', 'AATACAA', 'AATACAA', 'AATACAA', 'AATACAA', 'AATACAA', 'AATACAA', 'AATACAA', 'AAGACAA', 'AATACAA', 'AATACAA', 'AATACAA', 'AATACAA', 'AATACAA', 'AATACAA', 'AACAGAA', 'AAGTGAA', 'AAATGAA', 'AAGGGAA', 'AATGGAA', 'AAGACAA', 'AACCTAA', 'AACCTAA', 'AATACAA', 'AACCTAA', 'AATACAA', 'AATACAA', 'AATTGAA', 'AAGCAAA', 'AAGTAAA', 'AAAGCAA', 'AAAGTAA', 'AAGTGAA', 'AATTGAA', 'AATCCAA', 'AAATAAA', 'AAATAAA', 'AAACGAA', 'AACGGAA', 'AAACGAA', 'AATGTAA', 'AATTTAA', 'AAATCAA', 'AATCAAA', 'AAATTAA', 'AAACTAA', 'AATGCAA', 'AAGCTAA', 'AAATTAA', 'AATAGAA', 'AAGGCAA', 'AATACAA', 'AATAGAA', 'AAATGAA', 'AATGAAA', 'AAATTAA', 'AATTAAA', 'AATCCAA', 'AAACTAA', 'AACGAAA', 'AAAGAAA', 'AAGTGAA', 'AAATAAA', 'AAAGAAA', 'AAACAAA', 'AAGCGAA', 'AAAGCAA', 'AAGCAAA', 'AAAGAAA', 'AAGCAAA', 'AATGGAA', 'AAAGTAA', 'AAGTAAA', 'AAGCAAA', 'AAGACAA', 'AACGTAA', 'AAAGAAA', 'AATCCAA', 'AATTCAA', 'AACAGAA', 'AACAGAA', 'AATGCAA', 'AAAGAAA', 'AATTTAA', 'AAATGAA', 'AAACAAA', 'AATGTAA', 'AAACTAA', 'AACTAAA', 'AAATGAA', 'AATGAAA', 'AAATGAA', 'AAGGGAA', 'AAATTAA', 'AATTAAA', 'AAGATAA', 'AAACAAA', 'AATTGAA', 'AACATAA', 'AAATGAA', 'AATGAAA', 'AAGTTAA', 'AAATAAA', 'AACAGAA', 'AAACAAA', 'AAATCAA', 'AATCAAA', 'AAGTCAA', 'AAAGGAA', 'AAGGAAA', 'AACAGAA', 'AACTCAA', 'AATCTAA', 'AAACCAA', 'AACCAAA', 'AAACTAA', 'AACTAAA', 'AAATTAA', 'AACAGAA', 'AAAGAAA', 'AAAGAAA', 'AACCGAA', 'AAAGAAA', 'AATGTAA', 'AATACAA', 'AAATAAA', 'AATACAA', 'AATGAAA', 'AAACCAA', 'AACCAAA', 'AAAGGAA', 'AAACAAA', 'AATGTAA', 'AACTGAA', 'AAATGAA', 'AAACAAA', 'AACTCAA', 'AAGCAAA', 'AAGTCAA', 'AACTCAA', 'AAATGAA', 'AATGAAA', 'AACTCAA', 'AAGGCAA', 'AATCCAA', 'AAGCCAA', 'AAATAAA', 'AAGGAAA', 'AATAGAA', 'AATTAAA', 'AAACGAA', 'AAATAAA', 'AAGGTAA', 'AAATTAA', 'AATTAAA', 'AATCTAA', 'AACGGAA', 'AACATAA', 'AAGACAA', 'AAAGAAA', 'AACAGAA', 'AAGTCAA', 'AACAGAA', 'AACTCAA', 'AATTTAA', 'AACAGAA', 'AATTTAA', 'AACTCAA', 'AAAGAAA']\n"
     ]
    }
   ],
   "source": [
    "k=7; p=4; n=80\n",
    "\n",
    "def readFasta(genome, n):\n",
    "    sequence = []\n",
    "    file = open(genome, \"r\")\n",
    "    sequence = []\n",
    "    for s in file:\n",
    "        if s[0] != \">\":\n",
    "            sequence.append(s.strip().upper())\n",
    "    sequenceStr = \"\".join(sequence)\n",
    "    #sequence = [sequenceStr]\n",
    "    sequence = [sequenceStr[i:i+n] for i in range(0, len(sequenceStr), n)]\n",
    "    sequenceRet = [x for x in sequence if x]\n",
    "    return sequenceRet\n",
    "\n",
    "genome = \"Sequence_by_Peaks_8.fasta\"\n",
    "\n",
    "sequencesChip   = readFasta(genome, n)\n",
    "t = len(sequencesChip)\n",
    "print (sequencesChip[8], t, n, k)\n",
    "sequencesChip = [x for x in sequencesChip if len(x)==n] # on a enlevé les séquences dont la taille n'est pas égale à n\n",
    "revSequences = [reverseComplement(m) for m in sequencesChip]\n",
    "sequences = sequencesChip + revSequences\n",
    "score, seqsMotif = randomProjIt(sequences, k, p, nuc, 100)\n",
    "print(\"Meilleur score: \",score)\n",
    "print(seqsMotif)"
   ]
  }
 ],
 "metadata": {
  "celltoolbar": "Raw Cell Format",
  "colab": {
   "provenance": []
  },
  "kernelspec": {
   "display_name": "Python 3 (ipykernel)",
   "language": "python",
   "name": "python3"
  },
  "language_info": {
   "codemirror_mode": {
    "name": "ipython",
    "version": 3
   },
   "file_extension": ".py",
   "mimetype": "text/x-python",
   "name": "python",
   "nbconvert_exporter": "python",
   "pygments_lexer": "ipython3",
   "version": "3.9.6"
  }
 },
 "nbformat": 4,
 "nbformat_minor": 1
}
