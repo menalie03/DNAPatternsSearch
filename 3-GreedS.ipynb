{
 "cells": [
  {
   "cell_type": "markdown",
   "metadata": {},
   "source": [
    "Nom Etudiant 1: Shiyao CHEN\n",
    "<br>\n",
    "Nom Etudiant 2: Ménalie SELLAHENNEDI"
   ]
  },
  {
   "cell_type": "markdown",
   "metadata": {
    "id": "981-NdKA_huf"
   },
   "source": [
    "# TME 3.1 : Greedy Profile Motif Search \n",
    "\n",
    "\n",
    "## Recheche de pattern (motifs) en utilisant les algoritmes randomisés\n",
    "\n",
    "Les algorithmes randomisés prendre des décisions aléatoire plutôt que déterministes.\n",
    "l'algorithme s'exécute différemment à chaque fois. Ils sont couramment utilisés dans situations où aucun algorithme exact et rapide est connu. Nous allons d'abord implémenter l'algorithm Greedy Profile Motif Search.\n"
   ]
  },
  {
   "cell_type": "markdown",
   "metadata": {
    "id": "5z3a_1W0_huk"
   },
   "source": [
    "1\\. Nous allons réutiliser les fonctions du precedent pour générer `t` séquences artificielles de taille `n`, et implanter dans chaque séquence un motif de taille `k` à des positions aléatoires avec `v` substitutions choisies aléatoirement. Nous allons faire varier le motifs dans 50% de cas."
   ]
  },
  {
   "cell_type": "code",
   "execution_count": 34,
   "metadata": {
    "id": "6UbcF5N2_hul"
   },
   "outputs": [],
   "source": [
    "import random\n",
    "import numpy as np\n",
    "\n",
    "nuc = ('A', 'C', 'G', 'T')\n",
    "\n",
    "k=5 #taille de motif\n",
    "v=1 #nb de positions variable dans le motif\n",
    "t=3 #nb de sequences\n",
    "n=10 #longuer des sequence\n",
    "f= 0.5 #frequence de variation du motif.\n"
   ]
  },
  {
   "cell_type": "code",
   "execution_count": 35,
   "metadata": {
    "id": "IplKLaGL_hun"
   },
   "outputs": [
    {
     "name": "stdout",
     "output_type": "stream",
     "text": [
      "['ttacgcacgt', 'tcatagCggt', 'acaagccacg']\n",
      "['TTACGCACGT', 'TCATAGCGGT', 'ACAAGCCACG']\n"
     ]
    }
   ],
   "source": [
    "\n",
    "def insertMotif(sequence, motif, position):\n",
    "    return sequence[:position] + motif + sequence[position:]\n",
    "\n",
    "def generateRandomSequence(n, upper=True):\n",
    "    \"\"\"\n",
    "    Génère une séquence nucléotidique aléatoire \n",
    "    entrée n : longueur de la sequence\n",
    "    entrée upper : bool, si True les nucléotides seront en majuscule, False minuscule\n",
    "    sortie sequence : une séquence nucléotidique aléatoire \n",
    "    \"\"\"\n",
    "    sequence = \"\"\n",
    "    for i in range (n):\n",
    "        s=random.choice(nuc)\n",
    "        if(upper):\n",
    "            sequence=sequence+(s.upper())\n",
    "        else:\n",
    "            sequence=sequence+(s.lower())\n",
    "    \n",
    "    return sequence\n",
    "\n",
    "def modifierMotif(motif, nbpos,  upper=True):\n",
    "    \"\"\"\n",
    "    Modifie nbpos positions d'un motif aléatoirement \n",
    "    entrée motif: motif à modifier\n",
    "    entrée nbpos: nombre de positions\n",
    "    entrée upper : bool, si True les nucléotides modifiés seront majuscule, False minuscule\n",
    "    sortie motifM: motif modifié\n",
    "    \"\"\"\n",
    "    motifM = list(motif)\n",
    "    #print(motif)\n",
    "    for i in range(0,nbpos):\n",
    "        t=random.randint(0,len(motifM)-1)\n",
    "        while (i>0 and t==prec): #pour verifier qu'on ne s'occupe pas d'une même position 2 fois de suite\n",
    "            t=random.randint(0,len(motifM)-1)\n",
    "            \n",
    "        s=random.choice(nuc)\n",
    "        #print(s==motifM[t].upper())\n",
    "        while (s==motifM[t].upper()): #pour verifier qu'on ne substitue pas par la même lettre\n",
    "            s=random.choice(nuc)\n",
    "        \n",
    "        if (upper==True):\n",
    "            motifM=motifM[:t]+[s.upper()]+motifM[t+1:]\n",
    "        else:\n",
    "            motifM=motifM[:t]+[s.lower()]+motifM[t+1:]\n",
    "        prec=t\n",
    "    \n",
    "    #print(motifM)\n",
    "    return \"\".join(motifM)\n",
    "\n",
    "#tester la fonction modifierMotif\n",
    "#print (modifierMotif(\"acg\", 2))\n",
    "\n",
    "\n",
    "def implantMotifVar(k, v, t, n, f):\n",
    "    \"\"\"\n",
    "    Génère des séquences aléatoires et les implante des motifs variables (un motif par séquence)\n",
    "    entrée k: taille du motif\n",
    "    entrée v: nombre de variations\n",
    "    entrée t : nombre de séquences \n",
    "    entrée n : longueur des séquences\n",
    "    entrée f : frequence de variation du motif.\n",
    "    sortie DNA : matrice de dimension txn avec les motifs implantés\n",
    "    REMARQUE : La taille totale des séquences plus motif doit être égal à t, pensez à générer de séquence aléatoire de taille t-k pour pouvoir implanter un motif de taille k\n",
    "    \"\"\"\n",
    "    sequences = []\n",
    "    for i in range(0,t):\n",
    "        if(random.uniform(0.0, 1.0)<=f):\n",
    "            pos=random.randint(0,n)\n",
    "            sequences.append(insertMotif(generateRandomSequence(n-k,False),modifierMotif(generateRandomSequence(k,False),v),pos))\n",
    "        else:\n",
    "            sequences.append(generateRandomSequence(n,False))\n",
    "    return sequences\n",
    "\n",
    "adn = implantMotifVar(k, v, t, n, f)\n",
    "print (adn)\n",
    "\n",
    "adn  = [s.upper() for s in adn]\n",
    "print (adn)"
   ]
  },
  {
   "cell_type": "markdown",
   "metadata": {
    "id": "NoPjFWpM_huq"
   },
   "source": [
    "2\\. Faire une fonction pour sélectionner des positions de départ aléatoirement `s = (s1, …,st)`.\n"
   ]
  },
  {
   "cell_type": "code",
   "execution_count": 21,
   "metadata": {
    "id": "WwUeYNeJ_hur"
   },
   "outputs": [
    {
     "name": "stdout",
     "output_type": "stream",
     "text": [
      "[5, 3, 0]\n"
     ]
    }
   ],
   "source": [
    "#creating vector s\n",
    "#Get t random positions from 0 to n - k\n",
    "def generateRandomS(sequences, k):\n",
    "\t\"\"\"\n",
    "\tGénère un vecteur de position aléatoires\n",
    "\tentrée sequences: matrice de dimension txn contenant les sequences\n",
    "\tentrée k: taille du motif\n",
    "\tsortie s: vecteur de position aléatoires, une position par séquence\n",
    "  REMARQUE les positions doivent être inférieur à n-k, ou n est la taille de sequence\n",
    "\t\"\"\"\n",
    "\ts = []\n",
    "\tfor seq in sequences:\n",
    "\t\tpos=random.randint(0,n-k)\n",
    "\t\ts.append(pos)\n",
    "\treturn s\n",
    "\n",
    "s = generateRandomS(adn, k)\n",
    "print (s)"
   ]
  },
  {
   "cell_type": "markdown",
   "metadata": {
    "id": "vwTv0oVD_hut"
   },
   "source": [
    "3\\. Extraire les motifs en utilisant le vecteur `s`, et construire un profile (matrice de fréquence). \n"
   ]
  },
  {
   "cell_type": "code",
   "execution_count": 22,
   "metadata": {
    "id": "GMC6y17y_hut"
   },
   "outputs": [
    {
     "name": "stdout",
     "output_type": "stream",
     "text": [
      "['CTCCG', 'GATCA', 'CCCTC']\n",
      "[[0. 1. 0. 0. 1.]\n",
      " [2. 1. 2. 2. 1.]\n",
      " [1. 0. 0. 0. 1.]\n",
      " [0. 1. 1. 1. 0.]]\n"
     ]
    }
   ],
   "source": [
    "#extract sequences from seqs\n",
    "def extractSeqs(s, seqs, k):\n",
    "    \"\"\"\n",
    "    Extraire les motifs des séquences à l'aide de positions s\n",
    "    entrée s: vecteur contenant les positions de départs\n",
    "    entrée seqs: matrice de dimension txn contenant les séquences\n",
    "    entrée k: taille du motif\n",
    "    sortie motifs: liste de motifs de taille k extrait des séquences\n",
    "    \"\"\"\n",
    "    motifs = []  \n",
    "    ligne=0  \n",
    "    for seq in seqs:\n",
    "        pos=s[ligne]\n",
    "        motif=seq[pos:pos+k]\n",
    "        motifs.append(motif)\n",
    "        ligne+=1\n",
    "    return motifs\n",
    "        \n",
    "motifs = extractSeqs(s, adn, k)\n",
    "print (motifs)\n",
    "\n",
    "\n",
    "#Construire un profile = matrice de fréquence\n",
    "def profile(motifs, k, nuc):\n",
    "    \"\"\"\n",
    "    Construire une matrice de fréquence de dimension k x |nuc|\n",
    "    entrée motifs: liste de motifs\n",
    "    entrée k: taille du motif\n",
    "    entrée nuc: alphabet\n",
    "    sortie MF: matrice de fréquence\n",
    "    \"\"\"\n",
    "    q = len(nuc)\n",
    "    PWM = np.zeros((q, k))\n",
    "    i=0\n",
    "    j=0\n",
    "    for i in range (0,k):\n",
    "        for j in range (len(motifs)):  # 1er ligne =A  2eme ligne =C   3eme ligne =G   4eme ligne =T\n",
    "            lettre=motifs[j][i]\n",
    "            if lettre==\"A\":\n",
    "                PWM[0][i]+=1\n",
    "            if lettre==\"C\":\n",
    "                PWM[1][i]+=1\n",
    "            if lettre==\"G\":\n",
    "                PWM[2][i]+=1\n",
    "            if lettre==\"T\":\n",
    "                PWM[3][i]+=1\n",
    "\n",
    "    return PWM\n",
    "MF = profile(motifs, k, nuc)\n",
    "print(MF)"
   ]
  },
  {
   "cell_type": "markdown",
   "metadata": {
    "id": "zIw6koU2_huu"
   },
   "source": [
    "4\\. Transformer la matrice de fréquence en PWM. Il faut diviser chaque élément par la somme de ses colonnes."
   ]
  },
  {
   "cell_type": "code",
   "execution_count": 23,
   "metadata": {
    "id": "wOH5mbkA_huv"
   },
   "outputs": [
    {
     "name": "stdout",
     "output_type": "stream",
     "text": [
      "[[0.   0.33 0.   0.   0.33]\n",
      " [0.67 0.33 0.67 0.67 0.33]\n",
      " [0.33 0.   0.   0.   0.33]\n",
      " [0.   0.33 0.33 0.33 0.  ]]\n"
     ]
    }
   ],
   "source": [
    "def somme_colone(MF):\n",
    "  \"\"\"\n",
    "  Calculer la somme de ses colonnes\n",
    "  entrée MF: matrice de fréquence\n",
    "  sortie list_som: liste de la somme de chaque colonne \n",
    "  \"\"\"\n",
    "  list_som=[]\n",
    "  i=0\n",
    "  j=0\n",
    "  for i in range (len(MF[0])):\n",
    "     list_som.append(0)\n",
    "     for j in range(len(MF)):\n",
    "        list_som[i]+=MF[j][i]\n",
    "  return list_som\n",
    "\n",
    "def generatePWM(MF):\n",
    "  \"\"\"\n",
    "  Transforme la matrice de fréquence en PWM\n",
    "  entrée MF: matrice de fréquence\n",
    "  sortie PWM: matrice de probabilité (poids positions)\n",
    "  \"\"\"\n",
    "  i=0; j=0\n",
    "  PWM=MF.copy()\n",
    "  somme=somme_colone(PWM)\n",
    "  for i in range (0,len(PWM)):\n",
    "      for j in range(0,len(PWM[i])):\n",
    "          PWM[i][j]=round(PWM[i][j]/somme[j],2)\n",
    "  return PWM\n",
    "\n",
    "PWM = generatePWM(MF)\n",
    "print(PWM)\n",
    "#print(MF)"
   ]
  },
  {
   "cell_type": "markdown",
   "metadata": {
    "id": "ThOfxUGq_huw"
   },
   "source": [
    "5\\. Faire une fonction pour calculer la probabilité d'un motif de taille `k` selon une PWM.\n"
   ]
  },
  {
   "cell_type": "code",
   "execution_count": 24,
   "metadata": {
    "id": "ZUNbTtum_huw"
   },
   "outputs": [
    {
     "name": "stdout",
     "output_type": "stream",
     "text": [
      "0.0\n"
     ]
    }
   ],
   "source": [
    "def probability(PWM, motif):\n",
    "    \"\"\"\n",
    "    Calcul la probalité d'un motif selon PWM\n",
    "    entrée PWM: matrice de probabilité (poids positions)\n",
    "    entrée motif: motif\n",
    "    sortie prob: probalité Prob(motif|PWM)\n",
    "    \"\"\"\n",
    "    prob = 1\n",
    "    i=0\n",
    "    for i in range (len(motif)):\n",
    "        if motif[i]==\"A\":\n",
    "            p=PWM[0][i]\n",
    "        if motif[i]==\"C\":\n",
    "            p=PWM[1][i]\n",
    "        if motif[i]==\"G\":\n",
    "            p=PWM[2][i]\n",
    "        if motif[i]==\"T\":\n",
    "            p=PWM[3][i]\n",
    "        #print(p)\n",
    "        #if (p!=0.0): \n",
    "        prob=prob*p\n",
    "    return prob\n",
    "\n",
    "prob = probability(PWM, \"TTCAT\")\n",
    "#prob = probability(PWM, \"AATGA\")\n",
    "\n",
    "print (prob)"
   ]
  },
  {
   "cell_type": "markdown",
   "metadata": {
    "id": "aqLjmxrx_hux"
   },
   "source": [
    "6\\. Faire une fonction pour calculer le pMostProbkmer d'une séquence, voir un exemple dans les slides de cours."
   ]
  },
  {
   "cell_type": "code",
   "execution_count": 25,
   "metadata": {
    "id": "-_GDK4mQ_huy"
   },
   "outputs": [
    {
     "name": "stdout",
     "output_type": "stream",
     "text": [
      "27\n"
     ]
    }
   ],
   "source": [
    "def pMostProbkmer(PWM, k, sequence):\n",
    "    \"\"\"\n",
    "    calcul la position du k-mer le plus probable dans la séquence\n",
    "    entrée PWM: matrice de probabilité (poids positions)\n",
    "    entrée k: taille du motif\n",
    "    entrée sequence: séquence nucleotidique\n",
    "    sortie s: la position la plus probable \n",
    "    \"\"\"\n",
    "    maxProb = 0\n",
    "    s = 0 # position du k-mer le plus probable dans la sequence\n",
    "    i=0\n",
    "    max_prob=0\n",
    "    for i in range (len(sequence)-k+1):\n",
    "            motif=sequence[i:i+k]\n",
    "            prob=probability(PWM, motif)\n",
    "            #print(prob)\n",
    "            if(max_prob<prob):\n",
    "                max_prob=prob\n",
    "                #print(max_prob)\n",
    "                s=i\n",
    "    #print(max_prob)\n",
    "    return s\n",
    "#print(PWM)\n",
    "ss=\"tgtaaacttaccagtagatggattgggcttcccggtgaaacgccctatacttggctgagctgttgccaaaaatcttctgg\".upper()\n",
    "#print(ss)\n",
    "print(pMostProbkmer(PWM, k, ss))\n",
    "#s = pMostProbkmer(PWM, k, \"GCCGGATACT\")\n",
    "#print (s)"
   ]
  },
  {
   "cell_type": "markdown",
   "metadata": {
    "id": "QwXuMhNn_huy"
   },
   "source": [
    "7\\. Faire une fonction pour obtenir les nouvelles positions de départ `s = (s1, …,st)`, c’était à dire les positions qui contiens les k-mer le plus probables."
   ]
  },
  {
   "cell_type": "code",
   "execution_count": 26,
   "metadata": {
    "id": "G3neuRM9_huz"
   },
   "outputs": [
    {
     "name": "stdout",
     "output_type": "stream",
     "text": [
      "[5, 3, 2]\n"
     ]
    }
   ],
   "source": [
    "def getNewS(PWM, k, sequences):\n",
    "    \"\"\"\n",
    "    Trouve les nouvelles positions des k-mer le plus probables\n",
    "    entrée PWM: matrice de probabilité (poids positions)\n",
    "    entrée k: taille du motif\n",
    "    entrée sequence: séquence nucleotidique\n",
    "    sortie s: vecteur avec les positions les plus problables\n",
    "    \"\"\"\n",
    "\n",
    "    s = []\n",
    "    for seq in sequences:\n",
    "        s.append(pMostProbkmer(PWM, k, seq))\n",
    "    return s\n",
    "\n",
    "ns = getNewS(PWM, k, adn)\n",
    "print (ns)"
   ]
  },
  {
   "cell_type": "markdown",
   "metadata": {
    "id": "WoETBPxq_huz"
   },
   "source": [
    "8\\. La condition d’arrêt de l'algorithme est le non changement de la matrice de fréquence d'une itération à l'autre, \n",
    "faire une fonction pour comparer deux matrices et détecter le changement. \n",
    "Faire aussi une fonction pour obtenir le score d'une matrice de fréquence : la somme de max de chaque colonne"
   ]
  },
  {
   "cell_type": "code",
   "execution_count": 27,
   "metadata": {
    "id": "NUDOYB6A_hu0"
   },
   "outputs": [
    {
     "name": "stdout",
     "output_type": "stream",
     "text": [
      "[5, 3, 0] [5, 3, 2]\n",
      "8.0\n"
     ]
    }
   ],
   "source": [
    "def changeProfile(P1, P2):\n",
    "    \"\"\"\n",
    "    Compare deux matrice\n",
    "    entrée P1: matrice de fréquence\n",
    "    entrée P2: matrice de fréquence\n",
    "    sortie: True si les matrices sont différents, False au contraire\n",
    "    \"\"\"\n",
    "    for i in range(len(P1)):\n",
    "        for j in range(len(P1[i])):\n",
    "            if(P1[i][j]!=P2[i][j]):\n",
    "                return True\n",
    "    return False\n",
    "\n",
    "def getScore(MF, k):\n",
    "    \"\"\"\n",
    "    Renvoie le score de MF, la somme des max de chaque colonne\n",
    "    entrée MF: matrice de fréquence\n",
    "    entrée k: taille du motif\n",
    "    sortie sc: score\n",
    "    \"\"\"\n",
    "    sc = 0\n",
    "    i=0\n",
    "    j=0\n",
    "    for i in range(len(MF[0])):\n",
    "        max_col=0\n",
    "        for j in range (len(MF)):\n",
    "            s=MF[j][i]\n",
    "            if(max_col<s):\n",
    "                max_col=s\n",
    "        #print(max_col)\n",
    "        sc=sc+max_col\n",
    "    return sc\n",
    "\n",
    "ns = getNewS(PWM, k, adn)\n",
    "print (s, ns)\n",
    "\n",
    "#print(MF)\n",
    "sc = getScore(MF, k)\n",
    "print (sc)\n"
   ]
  },
  {
   "cell_type": "markdown",
   "metadata": {
    "id": "QhO7GPfn_hu0"
   },
   "source": [
    "9\\. Implementer l'algorithme ``GreedyProfileMotifSearch`` en utilisant les fonctions precedentes. \n",
    "BONUS: Pour ameliorer la performance vous pouvez abandonner les positions qui génèrent des motifs peu complexes."
   ]
  },
  {
   "cell_type": "code",
   "execution_count": 28,
   "metadata": {
    "id": "s3wvHQUp_hu0"
   },
   "outputs": [
    {
     "name": "stdout",
     "output_type": "stream",
     "text": [
      "['CTACTCTCCG', 'GTGGATCAAG', 'CCCTCCGGCA']\n",
      "[0, 5, 2] 10.0\n",
      "['CTACT', 'TCAAG', 'CTCCG']\n"
     ]
    }
   ],
   "source": [
    "def removeLowComplexe(motifs,k:int):\n",
    "    motifsClean = []\n",
    "    est_supprime=False\n",
    "    for key in motifs:\n",
    "        for i in range (len(key)):\n",
    "            cpt=key.count(key[i])\n",
    "            if cpt>=k:\n",
    "                est_supprime=True\n",
    "            if(i+3< len(key)):\n",
    "                if key[i]==key[i+2] and key[i+1]==key[i+3]:\n",
    "                    est_supprime=True     \n",
    "        if(est_supprime==False):\n",
    "            motifsClean.append(key)\n",
    "        est_supprime=False  \n",
    "\n",
    "    return motifsClean\n",
    "\n",
    "\n",
    "def GreedyProfileMotifSearch(sequences, k):\n",
    "    \"\"\"\n",
    "    Implémente l'algorithme GreedyProfileMotifSearch \n",
    "\t  entrée sequences: matrice de dimension txn contenant les séquences \n",
    "\t  entrée k : taille du motif \n",
    "    sortie s : vecteur de positions de départ ayant le meilleur motif \n",
    "    sortie bestScore : le score associé à s\n",
    "    \"\"\"\n",
    "    s = generateRandomS(sequences, k)\n",
    "    #print(s)\n",
    "    bestScore = 0\n",
    "    motifs=extractSeqs(s, sequences, k)\n",
    "    #print(motifs)\n",
    "    MF=profile(motifs, k, nuc)\n",
    "    #print(MF)\n",
    "    PWM=generatePWM(MF)\n",
    "    score=getScore(MF,k)\n",
    "    i=0\n",
    "    \n",
    "    while (score>bestScore):\n",
    "        bestScore=score\n",
    "        for i in range(len(s)):\n",
    "            p_max=pMostProbkmer(PWM, k, sequences[i])\n",
    "            s[i]=p_max\n",
    "            #print(s[i]) \n",
    "        motifs=extractSeqs(s, sequences, k)\n",
    "        #print(motifs)\n",
    "\n",
    "        MF=profile(motifs, k, nuc)\n",
    "        #print(MF)\n",
    "        PWM=generatePWM(MF)\n",
    "        score=getScore(MF,k)\n",
    "    return s, bestScore\n",
    "\n",
    "print (adn)\n",
    "s, bestScore = GreedyProfileMotifSearch(adn, k) \n",
    "print(s,bestScore)\n",
    "motifs = extractSeqs(s, adn, k)\n",
    "print (motifs)\n",
    "        "
   ]
  },
  {
   "cell_type": "markdown",
   "metadata": {
    "id": "xvo0wA0R_hu1"
   },
   "source": [
    "10\\. Avez vous trouvez le motif implanté? Rexécuter l’algorithme plusieurs fois pour le trouver. "
   ]
  },
  {
   "cell_type": "markdown",
   "metadata": {
    "id": "tQw_6g6I_hu1"
   },
   "source": [
    "Reponse:\n",
    "Non, je pense on n'a pas trouvé le motif implanté parceque les positions de départ sont générées au hasard, il y a peu de chances que notre chix soit proche d'un motif optimal. "
   ]
  },
  {
   "cell_type": "markdown",
   "metadata": {
    "id": "hFC52cFb_hu1"
   },
   "source": [
    "11\\. Vous avez certainement observer que l’algorithme ne produire pas toujours la même sortie et que les résultats dépendent de la sélection aléatoire des positions de départ `s`. Pour augmenter nous chances de retrouvez les bons motifs, nous allons implémenter une version itérative ``GreedyProfileMotifSearchIte`` \n",
    "qui a chaque fois sauvegarde `s` et le score du profile associé à `s`, après `I` itération, l’algorithme renvoie le vecteur `s` ayant le plus grand score."
   ]
  },
  {
   "cell_type": "code",
   "execution_count": 29,
   "metadata": {
    "id": "RN4HsjUX_hu2"
   },
   "outputs": [
    {
     "name": "stdout",
     "output_type": "stream",
     "text": [
      "['CTACTCTCCG', 'GTGGATCAAG', 'CCCTCCGGCA']\n",
      "{11.0: [4, 3, 1], 9.0: [4, 0, 4], 10.0: [4, 2, 1], 8.0: [0, 0, 1], 7.0: [2, 5, 5], 6.0: [2, 0, 0], 12.0: [5, 4, 2]}\n",
      "{11.0: ['TCTCC', 'GATCA', 'CCTCC'], 9.0: ['TCTCC', 'GTGGA', 'CCGGC'], 10.0: ['TCTCC', 'GGATC', 'CCTCC'], 8.0: ['CTACT', 'GTGGA', 'CCTCC'], 7.0: ['ACTCT', 'TCAAG', 'CGGCA'], 6.0: ['ACTCT', 'GTGGA', 'CCCTC'], 12.0: ['CTCCG', 'ATCAA', 'CTCCG']}\n"
     ]
    }
   ],
   "source": [
    "def GreedyProfileMotifSearchIte(sequences, k, It):\n",
    "    \"\"\"\n",
    "    Implémente l'algorithme GreedyProfileMotifSearch iteratif\n",
    "      entrée séquences: matrice de dimension txn contenant les séquences\n",
    "      entrée k: taille du motif \n",
    "    entrée It: nombre d'iterations\n",
    "    sortie positions: dictionnaire clé=score, valeur= vecteur s \n",
    "    sortie consensus: dictionnaire clé=score, valeur= sequence consensus du motif\n",
    "    \"\"\"\n",
    "   \n",
    "    pos = {}\n",
    "    consensus = {}\n",
    "    \n",
    "    i=1\n",
    "    while i<=It:\n",
    "        s, score=GreedyProfileMotifSearch(sequences, k)\n",
    "        pos[score]=s\n",
    "        consensus[score]=extractSeqs(s, sequences, k)\n",
    "        i+=1\n",
    "        \n",
    "    return pos, consensus\n",
    "\n",
    "print(adn)\n",
    "s, consensus = GreedyProfileMotifSearchIte(adn, k, 50)\n",
    "\n",
    "print (s)\n",
    "print (consensus)"
   ]
  },
  {
   "cell_type": "code",
   "execution_count": 30,
   "metadata": {
    "id": "S7DtjmxjCyQ-"
   },
   "outputs": [
    {
     "name": "stdout",
     "output_type": "stream",
     "text": [
      "0\n",
      "['CTCCG', 'ATCAA', 'CTCCG']\n",
      "1\n",
      "['TCTCC', 'GATCA', 'CCTCC']\n"
     ]
    }
   ],
   "source": [
    "#Affiche les sequence consensus de top motifs\n",
    "def printTopFMotifsScore(consensus, top):\n",
    "\n",
    "    motifsSort = sorted(consensus.keys())\n",
    "    motifsSort.reverse()\n",
    "    for i in range(top):\n",
    "        print(i)\n",
    "        print (consensus[motifsSort[i]])\n",
    "\n",
    "printTopFMotifsScore(consensus, 2)\n",
    "\n",
    "\n"
   ]
  },
  {
   "cell_type": "markdown",
   "metadata": {
    "id": "js7TuAsB_hu2"
   },
   "source": [
    "12\\. Tester algorithme  ``GreedyProfileMotifSearchIte`` sur vos données de chipSeq. N'oubliez pas de chercher les motifs dans le brin complémentaire et faire un merge de résultats."
   ]
  },
  {
   "cell_type": "code",
   "execution_count": 31,
   "metadata": {
    "id": "8um7xWi4URGv"
   },
   "outputs": [],
   "source": [
    "\n",
    "def reverseComplement(seq):\n",
    "    seq_dict = {'A':'T','T':'A','G':'C','C':'G'}\n",
    "    return \"\".join([seq_dict[base] for base in reversed(seq)])"
   ]
  },
  {
   "cell_type": "code",
   "execution_count": 32,
   "metadata": {
    "id": "-M8y_sOS_hu3"
   },
   "outputs": [
    {
     "name": "stdout",
     "output_type": "stream",
     "text": [
      "GTGTGAGTCTCGTTGTACGTCCGAGTTCTCGGTTTTTTACGAAACAAATCCCCTTCGGCTGCGCGGTTGCCTCGCGGTCC 399 8\n",
      "798\n",
      "0\n",
      "['TAAACTTA', 'AAAATTTA', 'AAAAAAAA', 'TACTTTTT', 'TACAGCTA', 'CACAGACA', 'ATCAGAAT', 'AATTGACA', 'AACAAATC', 'GTGTGATA', 'ATGTGATT', 'ATGTGATA', 'AAAATATA', 'TACAGCCA', 'TAGTGTGT', 'TAGTAGTA', 'ATCATAAA', 'TAGTGCTG', 'AACATGTA', 'AACATATT', 'TTTATATT', 'AAATGGAA', 'AAATTAAG', 'AACTGGAA', 'TATATAAA', 'ATTATATA', 'TAAAGATA', 'AAAAGATA', 'AAAATATT', 'AAATTAAA', 'ATAATATT', 'AAAAGAAA', 'AAAAGAAA', 'AATAGTTA', 'AAAAGAAA', 'TAATTAAA', 'TAAAGAGA', 'TAAATACA', 'AATTTATA', 'AAAAGTTA', 'AAAATCTA', 'AAAAGACT', 'TTTTGATC', 'AATTTTTC', 'AAGTGTTA', 'ATGATATA', 'AAGTTACA', 'TAATGACT', 'ATCAGCTT', 'AAAAATTA', 'TAGATCTA', 'TTCATGTA', 'CTTTGAAA', 'TTGATGCA', 'AAGATAAA', 'AACAGATA', 'TTCTGAAA', 'TACTCGTA', 'TTGTTATA', 'ATATTATA', 'ATATTATA', 'TTTTTATA', 'ATTATCAA', 'ATTTTACT', 'AAAGCAAA', 'AATAGTTG', 'TTCCCATT', 'CTCTGTTA', 'TATTTCTA', 'AACAATTA', 'AATATTTT', 'AAAACACA', 'ATATGCAA', 'ATGTTATC', 'AAATTGCA', 'TATATATA', 'CAGATATA', 'TTGATATA', 'TTGTTTAA', 'TTATCATA', 'AATATTGA', 'ATAACATA', 'ATGAGTTT', 'AAAATAAA', 'AAGATTTT', 'AAATTTTG', 'AAGATGTA', 'TTTTGAGA', 'CAGAGAAC', 'CATATATA', 'AAATGTTT', 'TAGAGCAT', 'TATGGACA', 'TAATGAAA', 'AAATTTTA', 'ATTTGATA', 'TTATTTTA', 'TATAGATA', 'TTTATATA', 'TACTTGTT', 'TAGTTCTA', 'TAGTTCTA', 'AATTTTCA', 'AAAATTGT', 'ATTATATT', 'ATAATATA', 'ATATTATA', 'AAATCAAA', 'ATGATCTT', 'GACTTGAA', 'AACATATC', 'ATCTTGTT', 'AAGATAGA', 'TACTTCTT', 'ATTATTTT', 'TAAATATA', 'AAGTTTTT', 'AACATGAA', 'TTCATCTT', 'TAGAGAAA', 'ATCTGTTT', 'ATGTTGTA', 'AACAAATA', 'ATATGATA', 'TACATATA', 'TTCTGCAA', 'TACATACA', 'TTGTTCTA', 'TTGATATT', 'ATCTGATT', 'TAAGGATA', 'AAGAGTTT', 'TAAATAGA', 'AACATATA', 'ATATTATA', 'TATAGATT', 'CACAGAAA', 'TACAGAAA', 'AAAAGATA', 'TAAAGTAA', 'AAATTATT', 'AACATATT', 'TATATATT', 'ATTAGATA', 'AAAATAAA', 'AATATAAA', 'ATATTATA', 'TAAAGTTA', 'ATTAGGTT', 'TAATTACA', 'TTGTGATT', 'AAAAGTCA', 'AAGAGAAT', 'AATTTTTA', 'TATATTTA', 'TTATTTTA', 'TTAATATA', 'TACACCTA', 'AACATGAA', 'AATTGTTA', 'AAAACAAG', 'TAAACTTT', 'AAATTATT', 'AAGACATA', 'TAAATATA', 'TACTTGTA', 'TAATTCAA', 'TACAATTA', 'AACGGACA', 'TATACTTA', 'ATGATCTA', 'AAGAGACA', 'AAATTAAA', 'ATTTTTTA', 'TTCTTACA', 'ATGAGTTG', 'AAATTTAA', 'TAGTAACA', 'AAAATAAA', 'AAAAGATT', 'AATTTATA', 'TACTGATT', 'TTGAGATA', 'AAAACAAA', 'TATAGTAA', 'TTAAGATT', 'AACTGAAA', 'AATATATA', 'TAAAGATA', 'AAGAGAAT', 'TTAAGATC', 'TTTTTATA', 'TTTATATA', 'AAGATAAA', 'ATCAGATA', 'CAGAGATT', 'AATAGCTA', 'AACTGATT', 'AATTTCCA', 'AAATGTAA', 'GATATATT', 'TAATTATC', 'TTTTGATA', 'AACATATA', 'AAATTAAA', 'AAAATAAA', 'TTAAGATA', 'AACAGCAA', 'AACATATA', 'ATGATATA', 'TAAATGCA', 'AACACAAT', 'TAATTAAA', 'ATAAGGTA', 'TATATATT', 'ATCAGAAG', 'TTAAGAGA', 'GAGATACG', 'TATATATA', 'AAAATACA', 'TAAATTTC', 'ATGATAAA', 'ATAAGAAA', 'AAAAGACA', 'AAAACAAA', 'AAAACAAA', 'GAATTATA', 'ATTATATA', 'TAATGTTA', 'AATTTCTT', 'ATATGGTT', 'AACAACTA', 'AACAGAAG', 'TAAAGAAT', 'ATAACATA', 'AAAATCGA', 'AAGTGATT', 'AATATATT', 'AAAACAAA', 'AACTTCAA', 'TACAGACA', 'AATATCTT', 'ATCTTGAA', 'TAATGCAT', 'AACATTTT', 'TATTTATA', 'GATTTCTC', 'AAATTCTG', 'TTCTTTTT', 'TACTTTTA', 'TTTATATA', 'TTAACCTA', 'TAGTGATA', 'AAGATAAA', 'AAAATTAA', 'ATAATTTT', 'AAAAAAAA', 'AAAATCTA', 'TATTGAAA', 'AATTGTAA', 'AATATTTT', 'TTCTTTTA', 'TTAAGACA', 'TAATCGTA', 'ATCATATC', 'TACTTAAA', 'AATTTCTA', 'AAATTATA', 'AAAATAAA', 'AAAATAAA', 'TATTGATC', 'AAATTATA', 'TTATTATA', 'AATTGATA', 'TAGTTTTA', 'AACGGATA', 'AAAACCTT', 'AAAGTATA', 'TAATTTTA', 'AAATGATA', 'AAATGTTA', 'AAACTATA', 'AAAACATT', 'AAGAGGTA', 'AAAATAAA', 'AATTCACA', 'ATTATTTA', 'AAAAGAAA', 'AACGTACA', 'AAATGGAA', 'TACTTAAA', 'AATATCAG', 'AAGAGAGA', 'TTAACACA', 'ATCATACA', 'AATATATA', 'AAGATACT', 'TATATTTT', 'AAGATATG', 'TTCTGTTA', 'AAGTCATA', 'ATATGATA', 'AAATTCTA', 'CTTAGAAA', 'TTATGATA', 'TAGATATA', 'AAGTTAGG', 'TTGTGAAA', 'AAATTAGA', 'TTAATTTA', 'TACAGACA', 'AACACATT', 'TTTTTTTT', 'ATGACGTA', 'ATCACGTT', 'CAATGTTA', 'ATATTATA', 'TATATATT', 'TAAATACA', 'TTGTTATA', 'AAGAGTTT', 'ATAATTCA', 'TTGTGATG', 'AAATTCTC', 'TTCATTTT', 'AAAATTTC', 'TAAAGTAA', 'TACATGTT', 'AAAACATA', 'TTTATGTA', 'TACTTTTG', 'AACTCCTA', 'AACTGTAA', 'TAATTATT', 'TATTTATA', 'TTATTGAA', 'TTCACAAA', 'TTGTGTAA', 'AATATAAA', 'TAATAATA', 'AAATTATT', 'TTATTTTA', 'TAATTTTA', 'AAGTTTAA', 'ATAGTATA', 'AACATATT', 'TATATAAA', 'TTATTATT', 'AAAATATT', 'ATATGGTA', 'TTAATTTA', 'TAATTAAT', 'AAAGGAAA', 'TATCGAAA', 'TTCTTATG', 'AAGTCATG', 'TTTTGTAA', 'GAATGAAA', 'AATAGTTA', 'AAGTTATA', 'ATCATATC', 'AAAATCTT', 'ATGTTGTA', 'AATTTTTA', 'TTAATATT', 'ATCATCAA', 'TAATTATA', 'AAAATAAT', 'TTATTATT', 'AAAACAAA', 'TAAACATA', 'ATAAGAAG', 'TTAACAAA', 'AAATGCAA', 'ATGTCTTA', 'AAGTGATT', 'TAAATTTT', 'TAAATAAA', 'AAGATAAA', 'AACACATA', 'ATAAGAAT', 'ATAAGTAA', 'AAGAGCAA', 'TAAATACT', 'AAGAGAAG', 'TAGAGGTA', 'TAAAGTTA', 'AAAAAAAA', 'AAAAGATG', 'AAGAGATA', 'ATAAGGTA', 'AATGGATA', 'AAAATCAA', 'AACTGAAA', 'TAATCACA', 'AAGTTCTA', 'TACAGACT', 'TAATTATA', 'AAATTATT', 'AAGATTTT', 'TAAATTTT', 'TTTTTTTT', 'AAAAAAAA', 'TATTTGTC', 'AAGAGAGA', 'AAGAGCCA', 'AAGAAAAA', 'ATTTGTTT', 'ATCACACT', 'AACACTAA', 'AAGTTATA', 'TTAAGATA', 'AAGACACA', 'TAGACACA', 'AACATGCA', 'TTATGATA', 'ATATTCCA', 'AATTTAAT', 'TAAAGATA', 'AATATAAA', 'AAAATATG', 'AATTTGAA', 'CAAATACA', 'TTTATATA', 'AAAATATA', 'TAAATTAA', 'AACAGAAA', 'TAATGATA', 'TAATTTTA', 'AATATACA', 'TAAAGATC', 'TTCTGTTA', 'TAAAGTTT', 'AAACTATT', 'ATTATCTA', 'ATCATCTC', 'AATTGTTG', 'AAATTACT', 'TTAATTAA', 'ATTAGAAA', 'TACTCTTT', 'CAAATACA', 'AAAAATTG', 'AACACTTA', 'AATTGTAA', 'AACTTGTA', 'ATTAGATA', 'TAGTGAAT', 'AATTCATA', 'TAGATCTA', 'TACATGAA', 'AAGACAAT', 'AACACGCA', 'TTTATCTT', 'ATTATGTA', 'TTCAGAAA', 'TAGAGACT', 'ATAACAAA', 'ATAATATT', 'ATAATATA', 'TATAAAAA', 'ATTTGATA', 'TTATGGCA', 'TTTTGCTT', 'ATAAGGTA', 'TACAGTGA', 'AACAGAGA', 'AATAGAAA', 'AATTGTTT', 'AAAATATT', 'TATTTATC', 'ATATGCTA', 'TAATCATA', 'TTTAGAAA', 'TATATATA', 'AAGAGATG', 'AAATTGAA', 'TAAACAAA', 'ATATGATA', 'TACACATA', 'AAATTATT', 'AAGAGAAA', 'ATTATAAA', 'AAAATCTT', 'AACAGAAA', 'ATTTTGTA', 'ATGTGATG', 'AAGACACA', 'AAATGAAT', 'AAAACATT', 'ATGATACA', 'ATTAGGAA', 'TTCATTAA', 'AAAATTTA', 'AAATGAAA', 'AAAATAAA', 'ATAATAAA', 'AATATATA', 'AACTGGAA', 'TAATGAGA', 'AACAGATT', 'AAAGTATA', 'ATTTTCTA', 'ATAATACA', 'ATAATATA', 'ATAATATA', 'AACAGAAA', 'TAAAGATC', 'ATCAGAGA', 'ATATGTTC', 'AAGAGAAA', 'AATATTCC', 'TAGATACA', 'AACATATA', 'TATATATA', 'AAAAGATT', 'TAGTGATG', 'AAGATGAA', 'AAGACAGA', 'AACAGATA', 'AACATTAC', 'TACTTATT', 'ATCATATT', 'TTGATATA', 'TTCACAAT', 'TTATTTTA', 'AAAAGAAT', 'AATATCAA', 'ATCAGATA', 'ATAATACA', 'ATAATAGA', 'TACAGATA', 'AATATATA', 'ATAATATA', 'AATCTATA', 'TACAGTAT', 'ATCTGGTA', 'ATCTTTTG', 'AAAAGCTA', 'ATAATTTT', 'AAGAGATA', 'AATATATA', 'AAGATTTA', 'TAAAGAAT', 'AAAATACA', 'TACATATA', 'ATAATATA', 'AAGAGATT', 'TAATTATA', 'ATCACAAT', 'AACAACTA', 'TAGAGAAA', 'AAAATTTT', 'TAAATATA', 'AATAGCTA', 'ATATTAAA', 'TAAAGTAA', 'TTAAGGTA', 'AACAATTC', 'TTGTTTTC', 'AAAGTTTA', 'TAATTTTA', 'TTTATATG', 'TATATTTA', 'AATAGTAT', 'TACTTACA', 'TAATTGTA', 'ATGACTCT', 'TAAGTATA', 'TATATACA', 'CACACTTA', 'AAAATTTC', 'AAAATAAA', 'AAGAAAAA', 'TTCAGGAA', 'AAAATAAT', 'GAATGTTA', 'TATTTATT', 'TTTTGTTA', 'TTTTTATT', 'TTATTCTA', 'AAAATGTA', 'ATTAGAAA', 'AAGTGTTT', 'AAAATTAA', 'TTTTGTTA', 'ATTATATA', 'AAAAGATA', 'AATTGATT', 'TAGAGATA', 'AAGATATA', 'TACATATA', 'TTATCTTA', 'ATCTGATT', 'AAAATCTC', 'AATAGAAA', 'AAAAGTCA', 'AATTGAGA', 'TACATTTC', 'AATATATC', 'ATAATTAG', 'AAGAGATT', 'TAAATATA', 'AAATGAAA', 'AAATTAAA', 'AAAAGAAT', 'ATTAGAAA', 'ATATGTTT', 'TACTTATT', 'AAAATACA', 'TATTGGTA', 'AAGATATA', 'TACATATC', 'AATATATA', 'ATGAGAAA', 'ATTATCTG', 'AAAAGGCC', 'TATATATA', 'TATTTTTG', 'GAAATTTA', 'AAATTTAT', 'AACTGCTA', 'AAGAATAA', 'TAAACTTA', 'TTGTTTTT', 'ATAAGAAA', 'TTTTTATA', 'TTTTTTTA', 'TAAAGAAA', 'AAGTGGTT', 'TAGTTGTT', 'TTCTGAGA', 'AATTGTTA', 'TTATGTTA', 'TAAACTCA', 'AAAAAAAA', 'AATATATT', 'AAAAACTA', 'AATAGTTG', 'TTAGCATA', 'ATAAGATA', 'AACTTCAA', 'ATGATGCA', 'AAAAAAAA', 'TATAAATA', 'AAGTGCAA', 'TACAGACA', 'AAAAGAAA', 'AAAGTATA', 'TATATAAA', 'TAAAGCCA', 'TACATATA', 'AATTTATC', 'AATAGTTA', 'AAATTATT', 'TTTTTTTA', 'TTGATTTA', 'TTTTTATG', 'AACATGTA', 'AAAATATT', 'AAAAGAAA', 'AAGAGATG', 'ATTACATA', 'ATATGATT', 'AAATTACA', 'AACAGAAA', 'TAATTTTA', 'TTTTTTTA', 'TATAGATA', 'AAAAGGTT', 'ATAATTTA', 'AACATATA', 'AATATAAA', 'AAATGAAA', 'TAGAGACA', 'ATAAGGTT', 'TTATTCTA', 'AAAAGATA', 'AAGATCTA', 'TTAATAAA', 'TATAGTTT', 'AAATGTTT', 'TTGAAATA', 'TTGTTTTA', 'TTTTTTCA', 'ATAATATA', 'TTTTGTTA', 'CTCAGATA', 'AAGTTAAT', 'TTAAGTAA', 'CTGATATT', 'CACAGACT', 'TTGGTATA', 'CAAATAAA', 'TATATATA', 'AACAGTAA', 'AAAATATA', 'ATATTACA', 'AAAAGGAA', 'ATATGACT', 'ATCATATA', 'AATTTTTA', 'TTTTCTAA', 'ATTATATT', 'AAATTTTA', 'TTCTCCTA', 'AAAATGCA', 'AAAACTAA', 'AATTGATA', 'AACAGAAA', 'AAAATCCA', 'AAAAGAAA', 'TTGAGGTA', 'GAGATACA', 'ATAACATT', 'AAAATATA', 'AATATATA', 'AATATAAA', 'AAGAGCTA', 'CACAGAAA', 'AAAATGAA', 'AAAACACA', 'CACAGAAA', 'AAATGAAA', 'AAATTTTC', 'TACAGTTA', 'AACATGTA', 'AAAACAAT', 'TACATAAA', 'AAGAGCAA', 'TAAGGACA', 'TACACGTA', 'AAAATATA', 'TATAAATA', 'TTCAATAA', 'TTGTGAAA', 'TTATTACA', 'ATCATTTA', 'TTATTAAA', 'ATTATTTA', 'AAGATTTA', 'AAAATATA', 'ATCACTTA', 'ATTAGATA', 'TTCATTTA', 'TATTTATA', 'AAAATATA', 'AAAATTTA', 'TAGTCATA', 'AAATTAAA', 'AATTTTCA', 'TAGAGTTA', 'TTTCGATA', 'AACAGGTA', 'AAGAGGTG', 'AATATCAC', 'TTCATTCT', 'AAAAGAAA', 'ATATGATA', 'ATAAGATA', 'AAGATTTT', 'TACTGAAA', 'AAATTATT', 'AAAATATT', 'AAATGGTA', 'TAATTATT', 'AATAGACA', 'ATAATAAA', 'ATAAGATA', 'ATATGCTA', 'TTAAGCTT', 'CTATTATA', 'ATCAGACA', 'TTCAGTTA', 'AACAGACA', 'AAAATTTA', 'TTTATTTA', 'TTTATCTT', 'AATTTAAA', 'AATTCTTA', 'AAAACATT', 'AAAAGGAG', 'ATGCTTTA', 'GAAAGATG', 'AAGTGGAA', 'AAAATTTA', 'ATTTTTTT', 'TTCAAATA', 'TTATTCTA', 'AATTGGTA', 'AACATACA', 'TTGATTTT', 'ATTTTTCA', 'ATTACTTA', 'TAGATACA', 'TAGAGTTT', 'AATATAAT', 'ATAATTTA']\n",
      "1\n",
      "['AAAATCTT', 'ATCTGATT', 'TTCTTAGT', 'TTTTTTTT', 'GTTATACA', 'ATCTCTCT', 'ATCAGAAT', 'TTTTTCTT', 'GTTTTTTA', 'TTCTGGCT', 'TTTTTAGT', 'ATGTGATA', 'AAAATATA', 'AGCTTGTA', 'ATGTCGCT', 'TGCATGTT', 'ATCATAAA', 'GTATGGCA', 'ATTAAATT', 'ATATTATG', 'TTTATATT', 'ATATTTTC', 'TTCTTACT', 'ATTTGTCT', 'TATATAAA', 'ATTATATA', 'ATAAGATA', 'AAAAGATA', 'AAAATATT', 'AAATTAAA', 'ATAATATT', 'AAAAGAAA', 'AAAAGAAA', 'AAATAGTT', 'TTCTTATA', 'TTTAGATA', 'AGATGATG', 'TAAATACA', 'AATTTATA', 'ATATTAAT', 'ATATTGTT', 'AAAAGACT', 'TTTTGATC', 'AATTTTTC', 'TGATTATT', 'ATGATATA', 'AGAAGTTA', 'TAATGACT', 'TATTCACT', 'TTATTATG', 'ATCTAGTA', 'TTCATGTA', 'ATCATGTC', 'TCCTGGTA', 'ATTTCACA', 'ATAATGTT', 'ATAACACT', 'TACTCGTA', 'ATTTGTTA', 'ATATTATA', 'ATATTATA', 'TTTTTATA', 'TTATCAAA', 'ATTTTACT', 'AGCAAATA', 'ACCTTATT', 'AGCTGTTT', 'CTTTCATT', 'TTTTTGTA', 'AGAAGAAT', 'ATTTTTTT', 'ATACGATA', 'AGATGGTT', 'TTATCGTT', 'ATTTTTTC', 'TATATATA', 'ATCTTCTT', 'ATATGGCT', 'TTTTTGTT', 'ATTTTAAT', 'TTCAAATT', 'ATAACATA', 'TCTTGATT', 'TTTTTATA', 'ATTTTTTT', 'TTTCTGTT', 'ACAAAATA', 'ACATGGTA', 'AACTAGTG', 'AATTCATT', 'AAAATGTT', 'AGGTTATA', 'CTAATGTG', 'TTAATGAA', 'AAATTTTA', 'ATTTGATA', 'ATTTTATT', 'TTATTATA', 'TTTATATA', 'TACTTGTT', 'TTCTAGTT', 'TTCTTGTA', 'TATATACT', 'AAATTGTG', 'ATTATATT', 'ATATTATA', 'ATATTATA', 'TTTCTGTT', 'TGATGATC', 'ATCTTGGT', 'AACATATC', 'ATCTTGTT', 'AATATTCT', 'TACTTCTT', 'ATTATTTT', 'ATAATGTT', 'AATCTTTT', 'AATTCACT', 'ATCTTGCT', 'TTACGATT', 'ATCTGTTT', 'ATGTTGTA', 'ATATGATC', 'ATATGATA', 'TACATATA', 'GTATTGTG', 'GTATTGTA', 'CTTTTGTT', 'AGAATATA', 'ATCTGATT', 'ATTATGTG', 'CATTGATA', 'GTTATATA', 'ATTTTGTT', 'ATATTATA', 'TATAGATT', 'ATACTGTA', 'ACCAGATA', 'AAAAGATA', 'ATAAGGAA', 'TTATTATT', 'AACATATT', 'TATATATT', 'ATTAGATA', 'ATAATATT', 'ATTTTGAA', 'ATATTATA', 'ATATTATT', 'ATTAGGTT', 'ATTAGATC', 'TTGTGATT', 'TTCTCATT', 'ATTCAATT', 'ATTATATT', 'TATTTATT', 'ATTTTACT', 'TTTTTATA', 'ATTTCACT', 'ATAAGACT', 'AATTGTTA', 'GCAATATT', 'TAAACTTT', 'AAATTATT', 'ATTTTATT', 'AATATATT', 'ATACTATT', 'TACTTGTA', 'ATCTGGCT', 'ATCCAACT', 'AGTATATA', 'TGTATATA', 'TTAAGTGT', 'AAATTAAA', 'TTTTTATT', 'TTTTTCTT', 'AATTGGTG', 'ATTTTTTT', 'TTCTTAGT', 'AATAAATA', 'AAAAGATT', 'AATTTATA', 'AATTTGTT', 'ATTTTTAA', 'ATACTATT', 'CTTAAATT', 'TTTTGATT', 'AAATGGTA', 'AATATATA', 'TTTTTTTT', 'ATCAGATG', 'TTAAGATC', 'TTTTTATA', 'TTTATATA', 'GTAAGATA', 'ATCAGATA', 'AGATTTTC', 'TTTTTGTA', 'AACTGATT', 'AAATGGCT', 'ATTTGTTA', 'GATATATT', 'ATTATATC', 'TTTTGATA', 'ATTATATT', 'TTTTGATA', 'TTTTAATT', 'ATATTATT', 'TTCTAATT', 'AACATATA', 'AATTAATA', 'ATTTTGTG', 'CATTGGTA', 'TTTCTATA', 'ATAAGGTA', 'TATATATT', 'TTTTTCTC', 'TTAAGAGA', 'TTTTCGGC', 'TATATATA', 'ATTTGGTA', 'CATAGATA', 'ACATGATA', 'ATAAGAAA', 'GTATTATT', 'TGTTTATT', 'ATCAAGTT', 'TTCTTATT', 'ATTATATA', 'AAATTGTT', 'ATTTGTTT', 'ATATGGTT', 'ATGTTGTC', 'AGAAGGTC', 'TGTAGATA', 'TAATGATT', 'TTTACGTA', 'TTTTTTTT', 'AATATATT', 'TTTTTCTT', 'CTATTGCA', 'CCTTGATA', 'ATATCTTA', 'ATCTTGAA', 'TACTTGTC', 'ATTTTATC', 'TATTTATA', 'AGTTTGCA', 'TTCTGACT', 'TTCTTTTT', 'TTTTTGCT', 'TTTATATA', 'TTAACCTA', 'ATTTGTTA', 'TTTACTTT', 'AGAAAATT', 'ATAATTTT', 'AATTTGAA', 'AAAATCTA', 'ATATTGAA', 'TACATGTT', 'TTTATATT', 'TTCTTTTA', 'ATAAGGAT', 'ACTATGTA', 'TTATTAGA', 'ATTTTTTT', 'ATTTCATA', 'ATTATATT', 'AATAGATA', 'AAAATAAA', 'TTTTTCTT', 'AAATTATA', 'ATTTTATT', 'TTTATATT', 'ATTTTATC', 'ACTATATC', 'GTTTTATC', 'AGTTTATT', 'ATTATGTT', 'AAATGATA', 'ACTTTATT', 'AAACTATA', 'ATTTTAGA', 'ATTTCAAT', 'AAAATAAA', 'ATTATGTC', 'ATATTATT', 'ACAAGATT', 'ATCTGAGT', 'CACTTATT', 'AAATTACT', 'CTAAGGTA', 'TTTCCACA', 'TTAACACA', 'TCTTTATT', 'AATATATA', 'AGTTTATA', 'TTTTGATT', 'ATATGGTA', 'TTTTGACT', 'GTCATATA', 'ATATGATA', 'TAAAAATT', 'AATTTGTG', 'TTATGATA', 'ATAAAATT', 'AGAAGGGT', 'TTTTGGTT', 'TTTTAGTT', 'AATTAATT', 'TTTCTGTT', 'ATTTTGTC', 'TTTTTTTT', 'ATGACGTA', 'ATCACGTT', 'ATGTTATC', 'ATTTTATT', 'ATATTGTT', 'TTTATATT', 'ATTTTGTT', 'AGTAAACT', 'TTTTTGTT', 'TGATGGTA', 'ATATTGGA', 'TTTTTGTT', 'ATTTTACT', 'ATTTCATA', 'TACATGTT', 'AGATTGTT', 'ATTTTATG', 'ATTTGGCT', 'TGTTGATG', 'GATTGATA', 'TTTTTATT', 'TATTTATA', 'TTATTGAA', 'TTTTCACA', 'TAATAAGT', 'TTTTTATA', 'ATTTGGTA', 'AAATTATT', 'ATTTTAAA', 'ATTATATT', 'ATTTTAAG', 'ATCTAATA', 'ATTTAATT', 'ATATGATT', 'TTTTTATT', 'TTTTTATT', 'ATATGGTA', 'ATTAGATT', 'TAATTAAT', 'GAAATGTA', 'AGACTATC', 'CTTATGTT', 'ATGTTTCT', 'GTTTTGTA', 'AGAATGAA', 'TTTTCATA', 'ATCATATT', 'ATCTTACT', 'AAAATCTT', 'TTCATGTT', 'ATAATTTT', 'TTAATATT', 'ATTTTTTC', 'TAATTATA', 'AAAATAAT', 'TTATTATT', 'ATCTTATG', 'AAATTAGA', 'AGCTTAAT', 'TTATAATA', 'AGTTTATC', 'ATAAGGAT', 'ATTTTGTG', 'ATTACATA', 'AAAAAATT', 'AGAAGATA', 'TTTTTAAA', 'ATAAGAAT', 'AATAAGTA', 'AACCGATA', 'TAAATACT', 'AGCTCGTT', 'ACTTGAAA', 'TTTTGATA', 'AAAAAAAT', 'ACATTATT', 'ATTAGAAT', 'ATAAGGTA', 'AGAAGATA', 'ATGAAATA', 'AAAATGTG', 'TCATTGTT', 'ACAATATG', 'ACATGGTT', 'ATTATATT', 'AAATTATT', 'AGAAGATT', 'ATTTTTTA', 'TTTTTTTT', 'AAAAAGTA', 'ATTTGTCT', 'ATTTGGTG', 'TGTAGATT', 'AGAAGAAA', 'ATTTGTTT', 'ATCACACT', 'ATCACGTT', 'AAATTACT', 'ATTTTGTT', 'CTAAGACA', 'ACACTACA', 'ATACTACT', 'TTATGATA', 'ATATTCCA', 'AATTTAAT', 'AATATGTT', 'AATATAAA', 'AAAATATG', 'AATTTGAA', 'TTTTCGTC', 'TTTATATA', 'AATATATA', 'AATTAATT', 'TTTTTTTT', 'ATATTTTT', 'ATTTTTTA', 'ATTTTATT', 'TCATTATT', 'TTTAGTTT', 'AGTTTTTT', 'AAACTATT', 'ATTTTTTT', 'ATCTCTTT', 'CAATTGTT', 'AAATTACT', 'ATTTTAAT', 'ACAATATT', 'CTTTTGTT', 'TTTTGAGA', 'AATTGGAT', 'ATCACGTT', 'ATATCATC', 'AACTTGTA', 'ATTAGATA', 'AGCTGATT', 'ATTTTTTT', 'ATACTAGA', 'AACTGATC', 'ACATGATT', 'AACACGCA', 'ACATTGTT', 'ATTATGTA', 'ATTTTGTC', 'ACATGCTT', 'ATAACAAA', 'ATAATATT', 'ATAATATA', 'AGTATAAA', 'ATTTGATA', 'TTATGGCA', 'TTTTGCTT', 'ATAAGGTA', 'TGAAGGGA', 'ATAACAGA', 'AATATACA', 'TAATTGTT', 'ATTTGATA', 'TTCTTGTT', 'TTTTCGTA', 'TAATCATA', 'ATTTGGAA', 'TATATATA', 'TGATGGTA', 'ATTTTCTT', 'ATTTGGAT', 'ATATGATA', 'ATATGGTA', 'AAATTATT', 'TTCTGGTT', 'ATTTTATT', 'AAATCTTT', 'AAAATTTC', 'ATTTTGTA', 'TGATGATT', 'AGAAGACA', 'CTTATATA', 'AAAACATT', 'ATATTGTT', 'ATTAGGAA', 'CTTTCATT', 'TTAAAATT', 'AATTTAAT', 'ATAAAATA', 'AATAGATT', 'AATATATA', 'ATCAGGTT', 'AGACTATT', 'ATTTGACT', 'AGTATATA', 'ATTTTCTA', 'ATATAATA', 'ATATTATA', 'ATAATATA', 'CTTTGATT', 'TAAAGATC', 'ATCAGAGA', 'ATATGTTC', 'TTCTGACA', 'AGAATATT', 'CTTTGATT', 'AAATAATT', 'ATTATATT', 'AAAAGATT', 'TTCATGTT', 'TGAAGGTT', 'TTTCTCTA', 'AACAGATA', 'ACAACATT', 'TATTTGTT', 'ATCATATT', 'TATATGTA', 'AGAACATT', 'TTATTTTA', 'AAAAGAAT', 'ATATCAAT', 'ATCAGATA', 'ATAATACA', 'TTATTATC', 'GTTATATA', 'AATATATA', 'ATAATATA', 'AATCTATA', 'ATCTCGCT', 'ATCTGGTA', 'TTTTTGTG', 'TTTTTACT', 'ATTTTTTT', 'AATATGTT', 'AATATATA', 'TATTTATT', 'TTTTTATT', 'TTTTTATA', 'ATATAATA', 'ATAATATA', 'AATTCACA', 'TAATTATA', 'ATCACAAT', 'AGCTAATT', 'AATTGAAT', 'ATATAATT', 'TAAATATA', 'TTCTTGTA', 'ATATTAAA', 'TTCATATC', 'TTAAGGTA', 'TTCCTGTT', 'ACTTGTTT', 'TTCTGGTA', 'ATAATTTT', 'TTTATATG', 'AATATATT', 'AGTTAATA', 'ATTACTTA', 'TAATTGTA', 'AGTTGGAT', 'AGTATATA', 'TATATACA', 'ACTTAACA', 'TTTTAATT', 'ATATGATT', 'TTCTGACT', 'AACTCATC', 'AAATAATT', 'ATGTTACT', 'ATTTTTTT', 'TTTTTGTT', 'TTTTTATT', 'AAATTGTT', 'AAAATGTA', 'ATTTGTTT', 'TTACTATA', 'AAATTAAT', 'ACAATATT', 'ATTATATA', 'AAAAGATA', 'AATTGATT', 'ATCTTAAC', 'TTATTATT', 'AATTAATT', 'TTTATCTT', 'ATCTGATT', 'TGAAGACT', 'ATATTACT', 'TTATTACT', 'AATTGAGA', 'CTTACATT', 'AATATATC', 'ATATAATC', 'AGATTGTT', 'TTAATATA', 'TTTTAATT', 'TTTTTGTT', 'ATAATATC', 'ATTAGAAA', 'ATATGTTT', 'ATATCATT', 'AAAATACA', 'TATTGGTA', 'TAATTATT', 'ACCTTATA', 'AATATATA', 'TTCTGATT', 'ATTATCTG', 'AAAAGGCC', 'TATATATA', 'ATACGATT', 'TATACGTT', 'AATTTATC', 'TTCTTATT', 'AGAATAAT', 'TTTTGTTT', 'TGTTTTTT', 'ATATAATT', 'TTTTTATA', 'TTTTTTTA', 'CTCTTGTA', 'ATATTGTG', 'TTGTTGTT', 'TTCTGAGA', 'TAATTGTT', 'ATTATGTT', 'ATTTTAGT', 'AAATCACT', 'AATATATT', 'ATTTGTTT', 'AATAGTTG', 'TGTACATT', 'ATAAGATA', 'TCAAGATC', 'ATTACAGA', 'AAAATGTT', 'TATAAATA', 'AGCAGAGA', 'AGAATTTC', 'AAAAGAAA', 'TACATGTA', 'CTTATATA', 'ATTAGGTT', 'TTTTTGTA', 'AATTTATC', 'CTATTATT', 'AAATTATT', 'TTTTTTTT', 'TTTTGATT', 'TTTTTATG', 'AACATGTA', 'AAAATATT', 'AAAAGAAA', 'TCTTAATA', 'ATTACATA', 'ATATGATT', 'AAAAAATT', 'TTATGAAA', 'ATTTTATT', 'TTTTTATT', 'TTTTTATT', 'AAAAGGTT', 'ATAATTTA', 'ATATAATA', 'AGAATATA', 'CTTTGATA', 'ATATAGTT', 'ATAAGGTT', 'ACTTTATT', 'ATAATGTT', 'CTATCATT', 'ATTTTTTT', 'ATATAGTT', 'TTTTTTTT', 'GATTGATT', 'TTATTTTT', 'TTTTTTCA', 'ATAATATA', 'ATCTTGTT', 'CTCAGATA', 'TTTTGATT', 'TTTAAGTA', 'CTTAGAAT', 'TTTCTGTG', 'CATTGGTA', 'TCTTTGTA', 'ATATTGTA', 'TACTGGTA', 'AAAATATA', 'ATATTACA', 'AATTGGAT', 'ATATGACT', 'ATCATATA', 'AATTTTTA', 'CTTTTCTA', 'ATTATATT', 'ATTTTATA', 'AATTGGTG', 'ATTACTTT', 'TTCTCGTT', 'AATTGATA', 'AACAGAAA', 'AAAATGTG', 'AAAAGAAA', 'TTTTCAGT', 'AGTTTCCT', 'ATAACATT', 'ATAATATA', 'AATATATA', 'AGAATATA', 'ATAACAAA', 'AGTTTACT', 'AAATGAAT', 'AAAACACA', 'CCAATATA', 'AAATGAAA', 'AATTTTCT', 'TTATTGTA', 'AACATGTA', 'TGTATGTT', 'AATACATA', 'ATATGGGA', 'AGTTCTAT', 'ACAAGGTT', 'AAAATATA', 'TTATGGTA', 'AATCGGTT', 'TTTTGGTG', 'TTATTACA', 'TTTATATT', 'TTATTAAA', 'ATTATTTA', 'TAAAGATT', 'AAATTATA', 'TAAATGTC', 'ATTAGATA', 'AATATGTT', 'TTTATATA', 'AAAATATA', 'TTTATATT', 'ACCATATA', 'TTAATTTA', 'TTCTTGTT', 'ATTTCCTT', 'TTTCGATA', 'AACAGGTA', 'ACATGACT', 'TTTCCATT', 'GTTTCATT', 'ATTTTGAA', 'ATATGATA', 'ATATGATA', 'ATTTTGCT', 'TTTACATA', 'AAATTATT', 'AAAATATT', 'AAATGGTA', 'TAATTATT', 'ATTATTTT', 'ATAATAAA', 'ATAAGATA', 'TGTTTATT', 'TTCTTATC', 'CTATTATA', 'ATCAGACA', 'TCCTTATT', 'TAATGATC', 'AATTTAAA', 'ATTTTTTT', 'CTATGATT', 'TTTTGGTT', 'ATATGGTT', 'TACTTATT', 'ATCTGGTT', 'AGTATTTA', 'TTGTTGTG', 'AAATTGTG', 'AAAATTTA', 'ATTTTTTT', 'ATCTTTTT', 'ACATGATT', 'AATTGGTA', 'AACATACA', 'ATTTCATT', 'ATTTTTCA', 'ATTACTTA', 'ATATTGTC', 'AACTCATT', 'ATATAATT', 'ATATCATT']\n",
      "2\n",
      "['AAAATCTT', 'AAAATTTA', 'AAAAAAAA', 'TTTTTTTT', 'TACAGCTA', 'AATCTCTC', 'AGAATCTA', 'TTTTTCTT', 'TTTTTTAC', 'TTTGCCTT', 'AGTTGCTA', 'TATAACTT', 'AAAATATA', 'TGTGTCTT', 'TGTGTCTA', 'AGTAGTAT', 'TGTATCAT', 'TCTACTAT', 'TAAATTGA', 'TATATCTT', 'TTTATATT', 'TATTTTCT', 'AAATTAAG', 'TGTATTTG', 'TATATAAA', 'TATATTTT', 'TAATTTAA', 'TGAATTTT', 'AAAATATT', 'TAAAATTA', 'TATATTTC', 'TGATCTTT', 'TAAAGCTT', 'AATAGTTA', 'AATAGTTT', 'TAATTAAA', 'TAAAGAGA', 'TAAATACA', 'AATTTATA', 'TATTAATT', 'AAAATCTA', 'TGTGTCAA', 'TGTATTTG', 'AATTTTTC', 'TGATTATT', 'TGTAGTTA', 'AGTTCTTT', 'TATCTAAT', 'TATTCACT', 'AATTATTA', 'TAGATCTA', 'TGTTTCAT', 'AGAATCAT', 'TGATGCAC', 'AATTTCAC', 'TAATGTTA', 'TGAAACTC', 'AGTCTCTA', 'TGTTTCTC', 'TATTTCAA', 'TATATTAT', 'TTTTTATA', 'ATTATCAA', 'TTTTACTG', 'TGTCCTTC', 'AATAGTTG', 'TGTTTCTG', 'TGTCTCTG', 'TATTTCTA', 'TAATCCTT', 'TATTTTTT', 'TTTTCCAT', 'TATACGAA', 'TATCGTTT', 'AATTGCAT', 'TATATATA', 'AATACCAT', 'AATTCCTT', 'TATAGCTC', 'TAATGCTT', 'AATATTGA', 'AATAATTT', 'TTTCTCTT', 'TTTTTATA', 'TTTTTTTT', 'AAATTTTG', 'TGTTCCAT', 'AGAATCAT', 'TGTGTCTT', 'TATATAAG', 'TGTTTTTG', 'TGTATCAT', 'TAATGTGG', 'TAATGAAA', 'TAAATTTT', 'TATTTTTT', 'TATTTTAT', 'TATAGATA', 'TATATATT', 'TACTTGTT', 'TGTATTCT', 'TGTAGTTC', 'TATACTTT', 'AGAAAATT', 'TATTATAT', 'TATATTAT', 'TATATTAT', 'TATTTCTT', 'TGATCTTT', 'TGTTCTCT', 'AACATATC', 'TGTTTCTC', 'AATATTCT', 'TGTATCTA', 'AATTATTT', 'TATATATA', 'TGAATCTT', 'TAATTCAC', 'TTCATCTT', 'TTACGATT', 'AGTAACTA', 'TAATGTTG', 'AATAAGTA', 'TATTTCTT', 'TATATCAA', 'TATTGTGA', 'TATTGTAA', 'TATTCTAA', 'TATTACTC', 'TATATCTG', 'TGTATTAT', 'TGATAATA', 'TATATAAC', 'TATATATT', 'TATATTAT', 'TATAGATT', 'TGTAGCCA', 'TACAGAAA', 'AAAAGATA', 'TAAAGTAA', 'AATTATTA', 'TATCTCTT', 'TATATATT', 'TAAATCTT', 'TATAGTTA', 'TGTATTTT', 'TTTTTTTA', 'TATATTAT', 'TGTATTAG', 'TATAATTA', 'TGTTCCTG', 'AGTTGTTC', 'AATTCAAT', 'AATTTTTA', 'TATATTTA', 'TGTTTTTA', 'TATTTAAT', 'TGAAGTTA', 'TATTCCTT', 'AATTGTTA', 'AATATTCG', 'TAAACTTT', 'TATTGTTA', 'ATTTTATT', 'TAAATATA', 'TACTATTA', 'TAATTCAA', 'TACAATTA', 'AGAAGCAC', 'TATACTTA', 'TGTATATA', 'TGTTAAGT', 'AAATTAAA', 'TATTTTTT', 'TTTTTCTT', 'AAATCCTC', 'TATTTTTT', 'AGTAACAT', 'AATAAATA', 'AATAACAA', 'AATTTATA', 'TGATTTTT', 'TACATTTT', 'TATTTCTA', 'TATAGTAA', 'TAATTTTT', 'AATATTGT', 'TATATAAT', 'TATAGTTT', 'TATACTTC', 'TATCTCTA', 'TATTTTTT', 'TATATATG', 'TAAAGAAT', 'AATACCCT', 'AGATTTTC', 'TATTTCTA', 'TGTAGTAA', 'AATTTCCA', 'TGTATATG', 'TATATTCG', 'TAATTATC', 'TATTTGTT', 'TATATTTA', 'TATAGTTT', 'TATAACAA', 'TATTATTA', 'TCTTTCTA', 'TAAACATA', 'TATAGTTC', 'TGTATTTT', 'AATACCAA', 'TATATCTT', 'TGTTCAAA', 'TATATATT', 'TTTTTCTC', 'AGATAATC', 'AGATACGG', 'TATATATA', 'AATAGTAG', 'TAAATTTC', 'TAAATTTC', 'TATACTAA', 'TATTATTC', 'TGTTTATT', 'TTTACCTA', 'TGTTTCTT', 'TATATATC', 'TAATGTTA', 'AATTTCTT', 'TATGGTTG', 'AACAACTA', 'TGCTTTCA', 'TGTAGATA', 'TAATGATT', 'AGTTCCTT', 'TTTTTTTT', 'AATATATT', 'TTTTTCTT', 'TATTGCAA', 'TGTAACAC', 'AATATCTT', 'TGAAGTTC', 'TAATGCAT', 'TTTTTTTT', 'TATTTATA', 'TGTTTCTC', 'AAATTCTG', 'TGTTTCTT', 'TATACTTT', 'TTTATATA', 'TTAACCTA', 'TATATGTA', 'TTTACTTT', 'AAAATTAA', 'AATAATTT', 'TAAAAAAA', 'TAAATCAA', 'TATTGAAA', 'AATTGTAA', 'AATATTTT', 'TGTACCTT', 'TTTTCTTC', 'TATCCTTA', 'TGTAAATA', 'TAATTTTT', 'AATTTCTA', 'TAAAATTA', 'AATAGATA', 'TATATCTG', 'TTTTTCTT', 'TAAATTAT', 'TATTATTA', 'TTTATATT', 'TATTTAAC', 'TGTCTCTA', 'AAAACCTT', 'TATAGTTT', 'TAATTTTA', 'AAATGATA', 'TTTATTAA', 'TATATGTG', 'AACATTTT', 'TATTTCAA', 'AAAATAAA', 'TAATTCAC', 'TATATTAT', 'AAAAGAAA', 'TGCAGTTA', 'AAAAAAAT', 'AATTACTT', 'AATATCAG', 'TACTTCCA', 'TATACCAA', 'TTTATTTG', 'TATATATA', 'TATACCAT', 'TATATTTT', 'TAATTCTC', 'TATTTCCT', 'TATAGCCC', 'TATATGAT', 'TAAAAATT', 'AATTTGTG', 'AATATAAT', 'TAAAATTT', 'AATTCTGG', 'TGCATTTT', 'TTTAGTTT', 'TTAATTTA', 'TATTCCTT', 'TACAATTC', 'TTTTTTTT', 'TACCTCAA', 'TGTATCTC', 'AATGTTAT', 'TATATTTT', 'TATATATT', 'TTTATATT', 'AGTTTTTT', 'AGTTTCTG', 'TAATTCAT', 'TGTGTTTT', 'TGTTCTTT', 'TATTTTAG', 'AAAATTTC', 'TAAAGTAA', 'TACATGTT', 'AAAACATA', 'TATGTATT', 'TGTTTCTT', 'TGTTGATG', 'TATGGATT', 'TATATTTT', 'TATTTATA', 'TATTGAAC', 'AGTTTCTG', 'TGTAATAA', 'TATAGTAA', 'TAATAATT', 'TATTTCAA', 'TATTTTAA', 'TATATTTT', 'AAAACTTG', 'TATAGTAT', 'TGATTTAA', 'TATATAAA', 'TATATTTT', 'TAAATTTT', 'TATGACTA', 'TAAATTAA', 'TAATTAAT', 'TAACTCTA', 'AATACCTG', 'TGTTTCTT', 'TGTTTCTC', 'TTTTGTAA', 'TATTGCCC', 'AATAGTTA', 'TATAGTTC', 'TATCTTAT', 'AAAATCTT', 'TATTTCAG', 'TAATTTTT', 'TATTTTTT', 'AGAATCTA', 'TAATTATA', 'TATTTTTC', 'TATTGTTT', 'TATCTTAT', 'TAAACATA', 'AGTTGTTG', 'TATAATAG', 'AGTTTATC', 'AGTAACTG', 'TGATTTTG', 'TAAATTTT', 'TAAATAAA', 'TGTACATA', 'TTTAAATT', 'TAATTCAC', 'AATAGCAT', 'TAAACCTC', 'TAAAGCAT', 'TATTCCGA', 'AATTTCCA', 'TAAATTTT', 'TAAAGCTC', 'TATTTGAA', 'TATTAGAA', 'TATTGTAT', 'TGTTTCTT', 'AAAATCAA', 'TGAAAAAT', 'TAAGTAAT', 'TGTATCTA', 'AAACTCTA', 'TAATTATA', 'TATTTATT', 'AGATTTTT', 'TAAATTTT', 'TTTTTTTT', 'AAAAAAAA', 'TATAACTG', 'TATTTGTC', 'TGTAGATT', 'AAAATCAG', 'ATTTGTTT', 'TATCACAC', 'TCTACTTT', 'AATTACTA', 'TATATTTT', 'TGTACAAG', 'TAGACACA', 'TACTACTA', 'TTATGATA', 'TATTCCAA', 'AATTTAAT', 'TAAAGATA', 'AATATAAA', 'AAAATATG', 'TTAATTTG', 'AATTCCAG', 'TTTATATA', 'TATATAAT', 'TAAATTAA', 'TTTTTTTT', 'TATTTTTT', 'TAATTTTA', 'AATATTAT', 'TATTTCTT', 'TTTAGTTT', 'TAAAGTTT', 'TTTTTCTT', 'TATTTTTT', 'TGTTCATC', 'TGTATTTA', 'TATAAATT', 'TAATTAAT', 'AATATTAG', 'TACTCTTT', 'AAACGCTT', 'AAAAATTG', 'TAACACTT', 'TATATCAT', 'TGTAACTT', 'ATTAGATA', 'TGAATACT', 'TAATTTTT', 'TAGATCTA', 'TGAAACAA', 'TGTTTCAA', 'TGCATCAA', 'TTTATCTT', 'AATTTAAG', 'AATTTTGT', 'AGTACTTC', 'TATAACAA', 'TGTTTTTT', 'TATATAAT', 'TATAAAAA', 'TGTATCTG', 'AGTAAAAT', 'TTTTGCTT', 'AACTATTA', 'AACAGCTG', 'AATGAAAG', 'TATACAAA', 'AATTGTTT', 'AAAATATT', 'TATTTATC', 'TAAACCAT', 'TAATCATA', 'TTTAGAAA', 'TATATATA', 'TATATCTG', 'TATATCAA', 'TGTATTTG', 'AGTTGATA', 'AATTTGAA', 'AATTATTT', 'AAACTCAT', 'TATTTTTT', 'AAAATCTT', 'AAAATTTC', 'TACATCTT', 'TGATGATT', 'TAGTTCTC', 'TATATATG', 'TACTTCTA', 'TATTGTTC', 'TGTCCATA', 'AATTGCTG', 'TATATTTG', 'AATTTAAT', 'TAAAATAA', 'TATAATAA', 'TATATAAA', 'TACTGCTG', 'TATTTCAG', 'AACAGATT', 'AGTATATA', 'ATTTTCTA', 'AATATAAT', 'TATATTAT', 'TATAATAT', 'AAATACAA', 'TAAAGATC', 'TCTTCAAG', 'TCTTTCAA', 'AGAAACAA', 'AGAATATT', 'AGAAGTAT', 'TAATTCTC', 'TATATTTA', 'AAAACTTT', 'TATAGTGA', 'TGATCCAA', 'TGTTTCTC', 'AGTAGTTA', 'TACAACAT', 'TATTTGTT', 'AATATCAT', 'TATATGTA', 'TGCTTCTT', 'TATTTTAG', 'AAAAGAAT', 'AATATCAA', 'AATAGTAC', 'TATCCTTA', 'ATTATCAA', 'TATATAAC', 'AATATATA', 'TATAATAT', 'TATACCTT', 'AGTATCTC', 'TATTTCTG', 'TATCTTTT', 'TGTTTTTA', 'TAATTTTT', 'TAAATATG', 'AATATATA', 'TATTTATT', 'TATTTTTC', 'AATTTTTA', 'TATAATAT', 'TAAATAAT', 'AATACCTA', 'TAATTATA', 'AATCACAA', 'TGACTTTT', 'TGTACCTA', 'AAAATTTT', 'TAAATATA', 'TAAAATAA', 'TATATTAA', 'TAAAGTAA', 'TGTTTAAT', 'TAACAATT', 'TATTGCGA', 'AAATTCTG', 'TAATTTTA', 'AATAAAAT', 'TATATTTA', 'TGTAGTTA', 'TATTACTA', 'TAATTGTA', 'TGCTTCTA', 'AGTATATA', 'TATATACA', 'TGTCTCTT', 'TTTAATTT', 'TAAAAAAT', 'AAAAACAA', 'AATTCCTC', 'TAAATTTC', 'TGTTACTA', 'TATTTTTT', 'TTTTTTTT', 'TATAAATT', 'TGTTTATT', 'TGTTTTTA', 'TATATTTC', 'TAAATCTG', 'AAAATTAA', 'TTTTGTTA', 'TATATATT', 'TATCTTTA', 'AATTGATT', 'TAACCCTT', 'TATAGTTT', 'TATATAAA', 'TTTATCTT', 'TATCTTAG', 'AAAATCTC', 'TATATTAC', 'TATTACTA', 'AGTAAATG', 'TTTAGCTT', 'AATATATC', 'TGTATAAG', 'TATCAAAA', 'TAAATATA', 'TATATCAA', 'TATTTTTT', 'AATATCTT', 'TATTACTA', 'TATATGTT', 'TATATCAT', 'TGCATTTA', 'TATTCTAT', 'TAATTATT', 'TATCGCTA', 'AATATATA', 'TTCTGATT', 'ATTATCTG', 'TATCTCCC', 'TATATATA', 'TGTATTTT', 'TATACGTT', 'AAATTTAT', 'AATTGTAT', 'TATTCTAT', 'TAAACTTA', 'TGTTTTTT', 'TATAATTC', 'TATATAAT', 'TTTTTTTA', 'TAAAGAAA', 'TATTGTGG', 'TGTAGTTG', 'TGTCGTTG', 'TATTCTTT', 'TATGTTAT', 'TATTCATG', 'AATAGCAA', 'AATATATT', 'TGTTTTTC', 'AATAGTTG', 'TGTACATT', 'AGATATTA', 'AACTTCAA', 'TGATGCAT', 'AAAATGTT', 'TATAAATA', 'AGAAACAG', 'AATTTCAG', 'AAAAGAAA', 'TATAACTG', 'TATATAAA', 'TTCTTCTT', 'TATAACAA', 'TTTATCTT', 'AATAGTTA', 'AAATTATT', 'TGTTTTTT', 'TGTTTTAA', 'TTTTTATG', 'TACTTTTG', 'TATTGTTA', 'AAAAGAAA', 'TGTCTTAA', 'ATTACATA', 'TGATTCTT', 'TGTTTTAA', 'TACAGCTA', 'TATAATTT', 'TATTTCTT', 'TATTTTTA', 'TAATGCAA', 'TATAATTT', 'TATAATAA', 'TGTATTTA', 'TATAGTTA', 'TATAGTTC', 'TAAGGTTT', 'TATACTTT', 'TAAAATTA', 'TATCATTT', 'TTTTTTTT', 'TATAGTTT', 'TTTTTTTT', 'AATACCTC', 'TATTTTTC', 'TGAATTAC', 'TAAATAAT', 'TTTTTCTT', 'TGTACGTT', 'ATTTTTTT', 'AATTTCAA', 'TGATATTG', 'TGTATCTC', 'TGTTAATC', 'TGTTTCTT', 'TATATATT', 'AGTATCTT', 'AAAATATA', 'TATTACAA', 'AAATACTA', 'TATATGAC', 'TATCATAT', 'AATTTTTA', 'TTTTCTAA', 'TATATTTG', 'TATATCTA', 'AATTGGTG', 'ATTACTTT', 'AATTTCTC', 'TAAATTAA', 'AATAGTTC', 'TGAATCAT', 'AAAAAAAA', 'TCATTCTC', 'AGTTTCCT', 'TAACATTG', 'TATAATAT', 'AATATATA', 'TATACTTT', 'TATAACAA', 'AAACTCTT', 'AATTTTTC', 'AATACCAT', 'AATTTCTG', 'TAAAATAC', 'AAATTTTC', 'TATACATT', 'AGTCTCTT', 'TGTTTTTC', 'AATACATA', 'AGTAGTAA', 'AGTTCTAT', 'TATCAATC', 'AATAATTA', 'TATAAATA', 'TGATTCTG', 'TACTTTGT', 'TATTACAC', 'TTTATATT', 'TATTATTA', 'TATTATTT', 'TAAAGATT', 'TAAAATTA', 'TAAACTTG', 'TATACTAT', 'TATACATT', 'TATTTATA', 'AATATAAA', 'TATTTTTT', 'TATACGTA', 'TAAATTAA', 'TGTTGATA', 'TACATTTC', 'TATTTCTG', 'AGTTTCTG', 'AGAAACAT', 'AATATCAC', 'TTTCATTC', 'AATAACTA', 'TATAACTT', 'ATAAGATA', 'TTTTGCTT', 'TTTACATA', 'TATTTCAT', 'AATATTAA', 'TATTGTAA', 'TATAATTA', 'ATTATTTT', 'TATTGCTA', 'TATACTTT', 'TATTTCAT', 'TTAAGCTT', 'TATTATAA', 'TAAACTTG', 'TAAACCTA', 'TAATGATC', 'AAAATTTA', 'AATTTTTT', 'TTTATCTT', 'AATTTAAA', 'TAATTCTT', 'TATTACTT', 'TTTAGCAG', 'AGTATTTA', 'AATAACGA', 'TACCTCTA', 'AAAATTTA', 'TTTTTTTT', 'TCTTTTTT', 'TATTCTAA', 'AATACCTT', 'TATCCATT', 'TATTTCAT', 'TTTTTCAG', 'TGATGTTA', 'TATTCCTT', 'AAAACCAT', 'TATAATTA', 'TAATTTAT']\n",
      "3\n",
      "['AAAATCTT', 'AAAAATTT', 'AAAAAAAA', 'ACTTTTTT', 'TCAGTTAT', 'TCTCTCTT', 'ACTCAGAT', 'ACTTTTTT', 'AAACAAAT', 'AGTGTGAT', 'TCGTTTTT', 'TATAACTT', 'ACTAATAT', 'TAGCTTGT', 'TCGCACAA', 'TAGTATGT', 'TATCATAA', 'TCTACTAT', 'TAAATTGA', 'TATATCTT', 'TTTATATT', 'CATATTTT', 'TCAAATTA', 'AATTCTGT', 'TCAATTTT', 'TATATTTT', 'ATTAATTT', 'AAAAAGAT', 'AAAAATAT', 'TAAAATTA', 'TCTAATAA', 'AATAATGA', 'AAAAAGAA', 'AAAAACTT', 'AATAGTTT', 'AAAAATAT', 'AAAGAGAT', 'AAATACAA', 'TAATTTAT', 'TAATTTAT', 'TCTAATAT', 'ACTAACAA', 'ACTTAGAA', 'TCCAATTT', 'ATTATTGT', 'TGATATAT', 'AAGAAGTT', 'TCAATCTT', 'TCTAGTAA', 'AAAAATTA', 'ACTTAGAT', 'ACTCTTGT', 'AATCATGT', 'ACCCATGA', 'TCGAATTT', 'CATAATGT', 'ACAAAATT', 'AAGCATGT', 'CAACATTT', 'AATATTAT', 'TATATTAT', 'TCGAAAAT', 'ACGATTAT', 'ACTTTCAT', 'AAGCAAAA', 'TAATAGTT', 'TCACTGTA', 'TCTGTTAT', 'TCTATTTT', 'AACAATTA', 'AATATTTT', 'ACGAATAT', 'ACGAATAT', 'TATGATTA', 'GATTTTTT', 'TATATCTA', 'TCGATCTT', 'TCAATTTA', 'AAATACAA', 'TATCATAT', 'AATATTGA', 'AATAATTT', 'TGAGTTTT', 'AAAAATAA', 'AAGATTTT', 'GAAATTTT', 'ACAAAATA', 'ACAGTTTT', 'TGTGTCTT', 'ACATATAT', 'AAAATGTT', 'AACAATAT', 'CCTAATGT', 'AACATCTA', 'TAAATTTT', 'TATTTTTT', 'TATTTTAT', 'TTTATTAT', 'TCTAATTT', 'TACTTGTT', 'TCTCATTA', 'AATCTGTT', 'ACAAATTT', 'AAAATTGT', 'TATTATAT', 'TATAATAT', 'TATATTAT', 'TATTTCTT', 'GATCTTTA', 'TCTCTGAT', 'GAACATAT', 'TCTTGTTT', 'AATATTCT', 'TGTATCTA', 'AATTATTT', 'TATAATGT', 'AATCTTTT', 'ACCAACAT', 'ACGCATTT', 'TCTGTCTT', 'TCTGTTTT', 'AATGTTGT', 'AATAAGTA', 'ACAAATAT', 'ACTAATGT', 'AGTATTGT', 'TAAAATAA', 'ATTCTTTT', 'ACTAATGA', 'TCTGATTT', 'TATTATGT', 'TCTATTAT', 'TCACTTAT', 'TATATTGT', 'TATATTAT', 'TCAAAGGT', 'ATACTGTA', 'ACAGAAAT', 'ACAAAAAT', 'TAGCTTTT', 'AAAATTAT', 'ACATATTT', 'TATATTGT', 'TAAATCTT', 'AAAAATAA', 'TAAAAATT', 'TATTATAT', 'TATATTAT', 'AATCTCTT', 'TATAATTA', 'ATTGTGAT', 'TCTTAGTT', 'TCAATTAA', 'AAAATTTT', 'AAAAATTT', 'AAGAAGTT', 'TAATATAT', 'TTACTTTA', 'TCAATTAA', 'AATTGTTA', 'AAACAAGT', 'TAAACTTT', 'AAAATTAT', 'ACATATAA', 'AAATATAT', 'ACTATTAA', 'TAATACAA', 'TACAATTA', 'TAGAAGCA', 'TATACTTA', 'ACACATGA', 'TTAAGTGT', 'AGAAATTT', 'TATTTTTT', 'TCAGTTTT', 'GATGAGTT', 'AATTATTT', 'AGTAACAT', 'AAAAATAA', 'AATAACAA', 'ACAAATAA', 'AACAATTT', 'TACATTTT', 'AAATATAT', 'TCAGATTT', 'AATTTTTT', 'AATATTGT', 'TAATATAT', 'TATCTTTT', 'AAGAACTT', 'TATCTCTA', 'AATAATAA', 'AATTATTT', 'TAAGATAA', 'ACTAAGAT', 'GAGATTTT', 'TCTATTTT', 'ACTGATTT', 'TCGCATTT', 'ACTGATTT', 'AAAGATGT', 'TCGATTAT', 'TATTTGTT', 'TATATTTA', 'ACAAATTA', 'AAAAATAA', 'TATTATTA', 'TCTTTCTA', 'AAACATAT', 'AATAAGTA', 'TGTATTTT', 'ACACAATA', 'AATAATTA', 'TATAAGGT', 'TATATTGT', 'AATCAGAA', 'ACGCAGAT', 'AGGCCTTT', 'TATATATA', 'TCGTATTT', 'ACAATGGT', 'ATAAATTT', 'AATAAGAA', 'TAGTAGAT', 'TAAGTTTA', 'AAAAACAA', 'AATTATAT', 'TATAAAAA', 'AAAAACTT', 'TCACATTT', 'ACTCACAT', 'AAGAACAA', 'TCTCAGAA', 'ACAATTAA', 'AATAACAT', 'ACTAAAAT', 'TTTTTTTT', 'TAATATAT', 'AAAAACAA', 'TGCAACTT', 'ACAAACTA', 'ACTAATAT', 'TTGAAGTT', 'ACTCTGTA', 'AACATTTT', 'TATTTATA', 'TCGGAGTT', 'TCTCTGTT', 'TCCATTTT', 'TATACTTT', 'ACACATGT', 'AAGAAGAA', 'TATATGTA', 'TAAATTGA', 'AAAATTAA', 'AATAATTT', 'AAAAACAA', 'AAAATCTA', 'TAAAAAGT', 'AAAAGTAT', 'AATATTTT', 'TTTCTTTT', 'TAAGACAT', 'TCTCATTT', 'AATCATAT', 'AATTTTTT', 'ACACATTT', 'AAAATTAT', 'TAAAAGAA', 'AAAAATAA', 'AACCTTTT', 'TAAATTAT', 'TAAATTAT', 'TATATTCT', 'TTTCATTT', 'TCTAACAA', 'AAAAAGGT', 'TATAGTTT', 'TCAATTTT', 'TAGATCTT', 'AAAAAAAT', 'AACTATAT', 'AAACATTT', 'TCAATCAA', 'AAAAATAA', 'TCGATTAT', 'TATATTAT', 'AAAAAGAA', 'TCCAACTT', 'AAAAAAAT', 'AATTACTT', 'TCTAAGGT', 'ACACACAA', 'ACACTTTA', 'TCTCTTTA', 'AAGATTAT', 'TCTGTTTA', 'TATATTTT', 'TGTAATAT', 'TAGTATTT', 'AGTCATAT', 'TATATGAT', 'TAAAAATT', 'CCCAATTT', 'TCAAATAT', 'TAAAATTT', 'AGGAAGTT', 'TCTAACTT', 'AGAAATTA', 'ATTAATTT', 'ACAAAGTA', 'ACACATTT', 'TCTTTTTT', 'AATGACGT', 'TCACGTTT', 'AATGTTAT', 'TATATTTT', 'TATATTGT', 'TATATTCT', 'TATTTTGT', 'AAGAGTTT', 'AAAATTGT', 'TGTGTTTT', 'CCTATATT', 'TCATTTTT', 'GAAAATTT', 'ACAAATGT', 'TACATGTT', 'AAAAACAT', 'TATGTATT', 'ACTACTTT', 'TCTACTGT', 'AACCTTGT', 'TATATTTT', 'AATCAGTA', 'TTTATTGA', 'ACAAAGTA', 'TGTAATAA', 'AATGATTT', 'TTTAATAA', 'AATTATTT', 'TAAATCTT', 'TATAATTT', 'GAAAACTT', 'TCTAATAA', 'TAAATGAA', 'AATATGAT', 'TATATTTT', 'TAAATTTT', 'TATATGGT', 'TAAATTAA', 'TAATTAAT', 'TAACTCTA', 'AAGACTAT', 'TCTTATGT', 'AGTCATGT', 'AGTTTTGT', 'CCTCATTA', 'CAAAATTT', 'TATCATAT', 'TATCATAT', 'AAAATCTT', 'TAACTGGT', 'AATAATTT', 'AATATTTT', 'AAAATTGT', 'AATAATTA', 'TCTATTTT', 'TTTATTAT', 'TATCTTAT', 'CAAAATTA', 'AAGCTTAA', 'ACAAACAT', 'AAGTTTAT', 'AATAAGGA', 'TCTGTTTA', 'TAAATTTT', 'AAAAAATT', 'AAGAAGAT', 'ACCAATTT', 'AAGAATTA', 'AATGTTTT', 'TCCTTTTT', 'TAAAGCAT', 'ACAGATGA', 'CACAATTT', 'TAAATTTT', 'AAAAAAAT', 'AAAAAGAT', 'TAGAATAA', 'TATTGTAT', 'TGTATGTT', 'AAAATCAA', 'AAAAATGT', 'TCTAAGTA', 'AAACTCAA', 'AATGAGTT', 'AATTATAT', 'TAAATTAT', 'AAGATTTT', 'TAAATTTT', 'TTTTTTTT', 'AAAAAGTA', 'TAGCTGTA', 'CGACATTT', 'TAGATTCT', 'AAAAAAGT', 'GATTTGTT', 'TCGCGGAT', 'AATCACAT', 'TAAGTTAT', 'TATATTTT', 'ACAAGCTA', 'ACACACTA', 'ACATACTA', 'TTTATGAT', 'TATTCCAA', 'TCAATTTA', 'AATATGTT', 'AATATAAA', 'GAAAATAT', 'AAGAAGAT', 'ACAGAATT', 'AAAATTGA', 'AAATATAT', 'TAAATTAA', 'TATCTTTT', 'AATATTTT', 'TTTAATTT', 'AATATTAT', 'TCTTTTTT', 'TCTTTTTT', 'AAAGTTTT', 'TATAAGAA', 'TATTTTTT', 'TCTCTTTA', 'TGTATTTA', 'TATAAATT', 'AATAACTT', 'TAGATTTT', 'TCTTTTGT', 'ACGCTTTT', 'GAAAAATT', 'TAACACTT', 'TATATCAT', 'AAGAACTT', 'AAGATTGA', 'AAGCTGAT', 'AATTTTTT', 'TCTAAGTA', 'TACATGAA', 'TCTGTCGT', 'TCGCAGAA', 'TTTATCTT', 'TAACATTA', 'ACCAATTT', 'TCTAAGGT', 'TATAACAA', 'TATAATAT', 'TATAATAT', 'TATAAAAA', 'TTTGATAA', 'AGTAAAAT', 'TCCGTTTT', 'AATAAGGT', 'AAACAGCT', 'ACCAATGA', 'AGAAATAT', 'TAATTGTT', 'AAAAATAT', 'TCGTATTT', 'TCACATTT', 'TAACATGT', 'TGCAATTT', 'TATATATA', 'AAGAAGAT', 'TATATCAA', 'AAACAAAA', 'AAAGATAT', 'ACACATAT', 'AATTATTT', 'AAACTCAT', 'TATTTTTT', 'AAAATCTT', 'CAAAATTT', 'TATTTTGT', 'ACTGTGTT', 'CACTAGTT', 'TCTTATAT', 'AAACATTT', 'TATAACCT', 'CCACATTA', 'TAGATGTT', 'TAAAATTT', 'TCAATTTA', 'AATAATAT', 'TATAATAA', 'AAAAATTA', 'ACAAGTAT', 'TAGAACTA', 'ACAGATTT', 'GAAAATTT', 'ACAATTTT', 'AATATAAT', 'TATAATAT', 'TATAATAT', 'TTTGATTT', 'AAGATCAT', 'ACCAAGAT', 'GATATGTT', 'AACAAGAT', 'TCTATCTT', 'AAGAAGTA', 'AAAATAAT', 'TATATTTA', 'AAAAACTT', 'TATAGTGA', 'AAGATGAA', 'AATCGTAA', 'ACAGATAT', 'TACAACAT', 'ACTTATTT', 'TATCATAT', 'TATATGTA', 'TCGAACTT', 'TAGTTTTT', 'TAGAACAA', 'AATATCAA', 'AATCAGAT', 'ACACATAA', 'AAACTCTT', 'TCTATTTA', 'TATATGTT', 'TATAATAT', 'TCTCATAT', 'TACAGTAT', 'TCTGTGTT', 'TATCTTTT', 'AGTTATTT', 'AATAATTT', 'AATATGTT', 'AAAATGTT', 'AATCATTT', 'AATATTAT', 'AATTTTTA', 'TATAATAT', 'AATAATAT', 'TAATACAA', 'TGTAATTA', 'AATCACAA', 'TGACTTTT', 'TAATTGAA', 'AAAAATTT', 'AAATTTTT', 'TAAAATAA', 'TATATTAA', 'AGTAACTT', 'TAATTGAA', 'TAACAATT', 'ACTTGTTT', 'AAAGTTTA', 'AATAATTT', 'AATAAAAT', 'TATATTTA', 'AATAGTAT', 'AATTACTT', 'TAATTGTA', 'TCGGTGTT', 'AAGTATAT', 'TAGATCAT', 'ACACACTT', 'TTTAATTT', 'AAAAATAA', 'AAAAACAA', 'GAGGATTT', 'AAAAATAA', 'ACTAAGAA', 'TATTTTTT', 'AATCTTTT', 'TATAAATT', 'AAATTGTT', 'AAAAATGT', 'AAAATGTT', 'AGAATTTA', 'AAAAATTA', 'ACAATATT', 'TATTATAT', 'ACTAATTA', 'TCAATTGA', 'ACTACTGT', 'TATTATTA', 'TAAATTAA', 'TTTATCTT', 'TCTGATTT', 'TCTGTGAT', 'ACAAAAAT', 'AATCAGTT', 'GAAATTGA', 'TCTAACAA', 'GAATATAT', 'GATAATTA', 'TAAGAGAT', 'TATATGTT', 'TTTAATTT', 'TATTTTTT', 'AATAATAT', 'TATTACTA', 'TATATGTT', 'TATATCAT', 'ACAAAATA', 'TATTCTAT', 'TTTAATTA', 'TACCTTAT', 'AATATATA', 'ACCAACTA', 'TCTCTTAA', 'CCGTATCT', 'TCTTATAT', 'ACTATTTT', 'GAAATTTA', 'ACAAATAT', 'TCTTATTA', 'AAGAATAA', 'TAAACTTA', 'TGTTTTTT', 'AATAAGAA', 'ACTATTTT', 'ACAATTTT', 'ACAAATAA', 'AACCATAT', 'TAGTTGTT', 'AATGTCGT', 'TAATTGTT', 'AATCATTA', 'TCGATTTT', 'AATCACTT', 'AATATATT', 'AAAAACTA', 'TTGAAGTT', 'TCAATGGT', 'TAAGATAT', 'CAGAACTT', 'ACAGAGTA', 'TAAAATGT', 'TATAAATA', 'AAACAGCA', 'CAGAATTT', 'AAAAAGAA', 'AAAAACAT', 'TATATAAA', 'TCTTCTTT', 'TATAACAA', 'TCAATTTA', 'TTAATTTT', 'AAAATTAT', 'TTTTTTTT', 'TAGATTTT', 'ACTTTTTA', 'ACACTTTT', 'AAAATATT', 'TAAAAGAA', 'AAAGAGAT', 'ACATAGTA', 'TCTAATAA', 'AAAAATTA', 'TAGAAATT', 'TATAATTT', 'TTTATTTT', 'TTTATTTT', 'AAAAAGGT', 'TATAATTT', 'TATAATAA', 'TTTAATAT', 'AAAATGAT', 'TCTAAAGT', 'AAGGTTTT', 'TATACTTT', 'TAAAATTA', 'TATCATTT', 'TAACATTT', 'TATAGTTT', 'TAAAATGT', 'TACCTCTT', 'TTTATTTT', 'CCTTTTTT', 'AATAATAT', 'TCTTTTTT', 'ACAAAGTT', 'TCCATTTT', 'AGTAATTT', 'GCTGATAT', 'TCTACTAT', 'AAAGTGTT', 'TCTCAATT', 'TATATTGT', 'AAACAGTA', 'AAAAATAT', 'TATCTTGT', 'AAATACTA', 'TATGACTT', 'TATCATAT', 'TAGAATTT', 'TCTAAGGA', 'TATCATAA', 'TCAAATTT', 'CCTAACTT', 'ATTACTTT', 'TCTAATTT', 'TAAATTAA', 'TACTTTGT', 'AATGTGTT', 'AAAAAGAA', 'TACGTCAT', 'ACAAACGT', 'GATAACAT', 'TATAATAT', 'TACAATAT', 'AAAATGAT', 'TATAACAA', 'AAACTCTT', 'ACAATTTT', 'AATACCAT', 'TCCAATAT', 'AAAAATGA', 'GAAATTTT', 'TCCAATTT', 'AAGCACTT', 'TATGTTTT', 'CATAAAAT', 'AAACATGT', 'TAGGAGTT', 'TTACAGTT', 'TAAAATAT', 'TATAAATA', 'TCAATAAA', 'TACTTTGT', 'ACTTATTA', 'AATCATTT', 'TATTATTA', 'AATAATTT', 'TAAAATAA', 'AAAATTAT', 'TTAAACTT', 'TCTAACTT', 'AATATGTT', 'AATCATAT', 'AATAATAA', 'AAAAATTT', 'TCTACTTT', 'TCTAATTT', 'ACGAATTT', 'TAGAGTTA', 'AGGTATTT', 'AAGAAGAA', 'AGAAACAT', 'ACTTACAA', 'ACTAATGA', 'ACTATTAT', 'TATAACTT', 'AAGATCAT', 'AAGATTTT', 'TACAACAT', 'AAAATTAT', 'AAAAATAT', 'ACAATTTT', 'TATAATTA', 'ATTATTTT', 'AATAATAA', 'ACTAACTT', 'TCTAATTT', 'CCAATTAA', 'TATTATAA', 'ATAAACTT', 'AAAGACTT', 'AATCACTT', 'AAAATTTA', 'AATTTTTT', 'TCTATGAT', 'AAAAAGTT', 'TAATTCTT', 'TAAAACAT', 'AAAAAGGA', 'AGTATTTA', 'AATAACGA', 'GAAATTGT', 'AAAATTTA', 'TTTTTTTT', 'AATAATGT', 'TCTCTTTT', 'ACTCAATT', 'ACATACTT', 'TATTTCAT', 'ACACATTT', 'ACAATGAA', 'TAGAACTT', 'TAGAGTTT', 'TATAATTA', 'AATAATTT']\n",
      "4\n",
      "['ATCTTCTG', 'AAATTTAA', 'AAAAAAAA', 'TTTTTTTT', 'TTATACAG', 'ATCTCTCT', 'ATCTTGTG', 'ACTTTTTT', 'GTTTTTTA', 'GTGTGATA', 'ACTTTGAA', 'TTATAACT', 'AAATATAT', 'TTGTACAG', 'ATGTCGCT', 'ATGTTGTG', 'ATCATAAA', 'GTCTACTA', 'ATGTACTT', 'ATATTATG', 'CTTTATAT', 'ATATTTTC', 'AAATTAAG', 'GTGTATTT', 'GTATATAA', 'ATATATTT', 'AATTAATT', 'AAAAAAAA', 'AATTAAAT', 'AATTAAAA', 'ATATTCAA', 'AAATAATG', 'AACTAAAG', 'AACTTTAA', 'TCTTATAA', 'ACTTAAAA', 'AAAGAGAT', 'AAATACAA', 'AATTTATA', 'AATTAAAA', 'ATATTGTT', 'AACAAAAG', 'ACTTAGAA', 'AATTTTTC', 'ATCTTCAG', 'ATATATAG', 'AGTTACAA', 'ATCTAATG', 'ATTCACTA', 'AATTATTA', 'ATCTAGTA', 'ATGTAGTT', 'ATGTCCAT', 'ATGCACAG', 'AGATAAAA', 'ATACATAA', 'AACTCAAT', 'TCGTATAA', 'ATTTGTTA', 'ATGTATAT', 'ATATTATA', 'TTTTTATA', 'TTATCAAA', 'ATTTTACT', 'AAGCAAAA', 'TAATAGTT', 'CTGTTTCT', 'TTTCATTG', 'ATTTCTAT', 'AAACAATT', 'AAATATTT', 'AAATACGA', 'ATATACGA', 'TTCTTTTG', 'ATTTCTAA', 'ATATATAT', 'ATCTTCTT', 'ATTTACCT', 'AAATACAA', 'ATTTTAAT', 'ATATTGAG', 'AAATAATT', 'GTTTACAA', 'AAATAAAA', 'ATTTTTTT', 'AAATTTTG', 'ATACAAAA', 'AATCATCA', 'AACTAGTG', 'ATATATAA', 'ATGTTTTT', 'ATGTATCA', 'TCCTAATG', 'AAGTCTAA', 'AATTTTAA', 'ATTTTTTT', 'ATTTTATT', 'AAATATAG', 'ATCTATTT', 'TACTTGTT', 'ATGTATTC', 'ATCTGTTT', 'ATATACTT', 'AAATTGTG', 'TATTATAT', 'ATATATTA', 'ATATTATA', 'AAATCAAA', 'ATCTTTAG', 'ATCTTGGT', 'ATATCCAG', 'ATCTTGTT', 'ATATTCTC', 'ATCTACCA', 'AATTATTT', 'ATATATAT', 'AAGTTTTT', 'CACTATAA', 'ATCTTGCT', 'ACTTCTGT', 'AACTACTT', 'ATGTTGTA', 'AAATAAGT', 'ATATTTCT', 'ATATATCA', 'ATGTTCTG', 'AACTAAAA', 'ATTCTTTT', 'ATATTGAG', 'ACATATTG', 'GTGTATTA', 'ATTGATAA', 'TTATATAA', 'ATATATAT', 'ATATTATA', 'ATTGATAT', 'ATACTGTA', 'AAATACAG', 'ACACAAAA', 'AAGTAAAA', 'AATTATTA', 'ACATATTT', 'ATATATTG', 'ATGTAAAT', 'AAATAAAA', 'ATATAAAA', 'ATTTTTTT', 'ATCTATTT', 'TTGTATTA', 'ATCTATAA', 'ATGTTCCT', 'AATTAGCT', 'AATTAAAG', 'AATTATAT', 'ATATTTAT', 'TTATTTTA', 'ATTTAATA', 'AAGTTACT', 'AATTAAAC', 'AATTGTTA', 'AGATATCG', 'AACTTTCA', 'AATTATTG', 'ATATAAAG', 'ATATATTA', 'AACTACAA', 'AAGTAATT', 'AATTACAA', 'ATCCAACT', 'ATATACTT', 'ATCTGTAT', 'GTGTTAAG', 'AATTAAAA', 'ATTTTTTA', 'TTTTTCAA', 'AATTGGTG', 'AATTATTT', 'TAGTAACA', 'AAATAAAT', 'AAAAAAAA', 'AAATAAAA', 'ATTTTTCA', 'ATTTTTAA', 'AAATATAT', 'ACTTAAAG', 'ATTTTTAA', 'GAATATTG', 'ATATATAA', 'ATCTTTTT', 'TTATACTT', 'ATTCTTAG', 'ATTTTTTT', 'AATTATTT', 'AGATAAAG', 'ATACTAAG', 'ATTTTCCG', 'TAATATAT', 'TAGTAATA', 'AATTTCCA', 'ATTTGTTA', 'ATATATTC', 'AATTATCG', 'ACGTTTAA', 'ATATTAAT', 'AATTAAAA', 'TTTTTTAA', 'ATTTATAA', 'TTCTAATT', 'ACATATAA', 'AATTAATA', 'ATTTTGTG', 'ATAGAATA', 'AATTAAAG', 'ATATGTAG', 'ATATATTG', 'AATCAGAA', 'AGTTAAGA', 'AGATACGG', 'ATATATAA', 'AAATAGTA', 'ACGTATAA', 'ACATATTT', 'AGTTAATA', 'AACTACAG', 'AAGTTTAG', 'AACTATCA', 'AATTATAT', 'ATATATCA', 'ACTTATTA', 'ATTTCTTT', 'ATATGGTT', 'AACTACAA', 'ACATTGAG', 'AATTAACA', 'ACATAATG', 'GACTAAAA', 'TTTTTTTT', 'ATATATTG', 'AATTACAG', 'AACTATTG', 'ATGTAACA', 'ATATCTTA', 'ATCTTGAA', 'ACCTTGAT', 'TTTTTTTT', 'ATTTATAC', 'ATTTCTCG', 'AAATTCTG', 'TTCTTTTT', 'ATGTTTTT', 'TTATATAA', 'AACCTAAT', 'AAATACTT', 'AGATAAAT', 'AATTAACT', 'AATTAGAG', 'AATTTGAA', 'ATCTAAAT', 'ATATTGAA', 'TTGTAAAA', 'AAATAGAA', 'TTCTTTTA', 'TTATTAAG', 'ATGTAATC', 'TTGTAAAT', 'ATTTTTTT', 'ATTTCTAT', 'AATTATAT', 'AAATAAAA', 'AAATAAAA', 'ACCTTTTT', 'AAATTATA', 'ATTTTATT', 'ATATTAAA', 'ATTTAGTT', 'AACTATAT', 'TTTTATCG', 'AAATAGAA', 'AATTTTAA', 'ATCTTTTG', 'AACTTTAT', 'AACTATAT', 'ACATTTTA', 'ATTTCAAT', 'AAATAAAA', 'AATTCACA', 'ATTTATAG', 'AAGAAAAA', 'AGTTATCT', 'ACTTATTA', 'ACTTAAAA', 'ATTCTAAG', 'TAGTAGAG', 'GATTAACA', 'TTCTATAG', 'ATATATAT', 'AGTTTATA', 'ATATTTTT', 'TACTATAA', 'TAGTATTT', 'AAGTCATA', 'ACTTATAT', 'AAGTAAAA', 'AATTTGTG', 'AAATATAA', 'ATATAAAA', 'AAGTTAGG', 'ATTTCTAA', 'TTTTTTAG', 'AATTAATT', 'AACTATTC', 'ATTTTCCA', 'TTTTTTTT', 'ACCTCAAT', 'TTGTATCT', 'AATGTTAT', 'ATATTTTA', 'ATATATAT', 'AAGTATAA', 'ATTTTGTT', 'AACTCTCA', 'ATTTTCTT', 'GTGTTTTG', 'AACTAGTA', 'ATTTTTTG', 'ATTTTACT', 'AAGTAAAA', 'ACTTACAT', 'TTCTTGAA', 'ATTTTATG', 'ATGTTTCT', 'TTCTACTG', 'AACTGTAA', 'AATTATTT', 'ATTTATAC', 'TTATTGAA', 'AAGTAGCT', 'GTGTAATA', 'ATATAAAT', 'TTTTAATA', 'AATTATTT', 'ATTTTAAA', 'AATTTTAT', 'ATTTAGAA', 'ATCTAATA', 'ATTTAATT', 'ATATAAAT', 'ATTTATAT', 'ATTTTTTA', 'AAGTAGAT', 'ATTTTAAT', 'TAATTAAT', 'AACTCTAA', 'AAATACCT', 'ATATTTCG', 'ATGTTTCT', 'TTTTGTAA', 'ATCCACAA', 'AATTATCA', 'TTTTAAAT', 'ATCTTATG', 'AACTCAAA', 'ATGTAAAG', 'ATTTTTAA', 'ATTTAATA', 'TTTTACAA', 'AATTATAG', 'AAATAATG', 'GTTTATTA', 'ATGTAATT', 'AAATAGAA', 'AGCTTAAT', 'TTATAATA', 'AAGTTTAT', 'ATGTCTTA', 'ATTTTGTG', 'TTTTAAAT', 'AAATAAAG', 'AGATAAAG', 'TTTTAAAT', 'AATTATAG', 'ATGTTTTA', 'AAGTCTAA', 'AAATACTC', 'ATCTTTCC', 'AATTTCCA', 'AAATTTTG', 'AAAAAAAA', 'ACATTATT', 'ATCTATTA', 'ATACAATG', 'ATGTTTCT', 'AAATAGCT', 'AACTGAAA', 'AAGTAATC', 'ATGTATCT', 'AACTCTAG', 'AATTATAT', 'ATTTATTA', 'AAGTATAG', 'ATTTTTTA', 'TTTTTTTT', 'AAAAAAAA', 'CTGTATAA', 'ATTTGTCT', 'ATTCTGAT', 'AAGAAAAA', 'ATTTGTTT', 'AAGCAGAG', 'CACTAAAA', 'AATTACTA', 'ATATATTT', 'CTGTACAA', 'AAGTACCG', 'ACATACTA', 'AGTTTATG', 'ATATTCCA', 'AATTTAAT', 'ATATAGTA', 'ATATAAAG', 'ATTTGGAA', 'AATTTGAA', 'AAATACAC', 'AAATTGAA', 'ATATATAA', 'AATTAATT', 'ATTTAAAG', 'ATTTAATT', 'ATTTTAAA', 'ATTTTATT', 'ATTTCTTT', 'TTATAACA', 'AACTATTT', 'GTTTATAA', 'ATTTTTTT', 'ATCTCTTT', 'TTGTATTT', 'AATTAACT', 'AATTAATA', 'TATTAGAA', 'GTCTTTTG', 'ATTTTGAG', 'AAAAATTG', 'ACTTAAAA', 'ATATATCA', 'AACTTGTA', 'ATTGATAG', 'GATTACTA', 'ATTTTTTT', 'ATCTAAGT', 'AACTACAT', 'GTTTCAAA', 'ACTTCGAG', 'TTTTATCT', 'AATTTAAG', 'AATTTTGT', 'TTATACGA', 'CACTATAA', 'ATATACAT', 'ATATAATA', 'AAGTATAA', 'ATTTGATA', 'CAGTAAAA', 'ATTTGCTG', 'AACTATTA', 'ACGTACAG', 'AATGAAAG', 'ATATACAA', 'AATTGTTT', 'AAATATTT', 'ATTTATCG', 'ACGTTAAA', 'AACTAATC', 'ATTTGGAA', 'ATATATAT', 'GTGTATAT', 'ATATATCA', 'ATTTAATC', 'ATTAAAAT', 'AATTTGAA', 'AATTATTT', 'AAATCAAG', 'ATTTTTTT', 'AAAAAAAA', 'AAATTTCG', 'ATTTTGTA', 'ATGTGATG', 'CACTAGTT', 'TTATATAT', 'AAACATTT', 'ATATTGTT', 'ATTCCTAG', 'TTTCATTA', 'AAATTTAG', 'AATTTAAT', 'AAATAAAA', 'ATCTATAT', 'ATATATAA', 'AACTGGAA', 'AACTAGAA', 'AACTAGAA', 'AAGTATAT', 'ATTTTCTA', 'ATATAATA', 'ATATATTA', 'ATATAATA', 'AAATACAA', 'TAGTAGAG', 'ACACAGAA', 'TCTTTCAA', 'AGGTATCT', 'ATATTCCT', 'ACTTTGAT', 'AAATAATT', 'ATATATAT', 'TTCTTGAA', 'ATGTTCAT', 'AAGATGAA', 'ATCTCTCT', 'AAGTAGTT', 'TAGTACAA', 'ACTTATTT', 'AAATATCA', 'ATATATGT', 'AACTTCAC', 'TTATTTTA', 'TCTTAGAA', 'ATATCAAT', 'ATATACAC', 'ACATAATA', 'TATTATCA', 'TTATATAA', 'ATATATAT', 'ATATACAA', 'ATATCAAT', 'ACCTAACA', 'CTGTATTT', 'ATCTTTTG', 'ATTTTGAA', 'ATTTTTTT', 'AAATATGT', 'ATATATAG', 'ATATTTAT', 'AACTATAT', 'ATTTTTAT', 'ATATAATA', 'AAATAATA', 'ATACAAAA', 'AATTATAG', 'AATCACAA', 'AACTAAGA', 'AATTGAAT', 'ATATAATT', 'AAATATAG', 'AAGTAAAA', 'ATATATTA', 'AACTTCAA', 'ATGTTTAA', 'AATTCCTG', 'GAATATTG', 'AAGTTTAG', 'ATTTTACT', 'CTTTATAT', 'ATATATTT', 'AGTTAATA', 'AATTACTA', 'TTGTAATT', 'AGTTGGAT', 'AAGTATAT', 'ATATACAG', 'ACTTAACA', 'TTTTAATT', 'AAATAAAA', 'ATTGAAAA', 'ATTTCAGG', 'AAATAATT', 'ATGTTACT', 'ATTTATTT', 'TTTTTTTT', 'TTTTATTT', 'ATTCATAT', 'AAATGTAA', 'ATATATTT', 'AATTTAAG', 'AAATTAAT', 'TTTTTCAG', 'ATATATTA', 'AACTATAA', 'AAGTATAA', 'ATCTTAAC', 'ATATAAAA', 'ATATATAA', 'TTCTTTAT', 'ATCTTAGT', 'AAATCTCT', 'ATATATTA', 'TATTACTA', 'AAATTGAG', 'ATATACAG', 'ATATATCG', 'ATATAATC', 'TTATCAAA', 'AAATATAA', 'ATTTTTAA', 'AATTAAAA', 'AACTAATA', 'AATTAGAA', 'ATGTTTAA', 'AACTATAT', 'ATTTACAG', 'TATTCTAT', 'AATTATTG', 'ACCTTATA', 'ATATATAC', 'AACTAACG', 'GATTATCT', 'CCGTATCT', 'ATATATAA', 'TACTATTT', 'AAATTTAC', 'AAATTTAT', 'ATTTTCTT', 'ATCTACTA', 'ACTTACTA', 'AACTTGAT', 'ATATAATT', 'ATATATAA', 'TTTTTTAA', 'AAATAAAG', 'ATATTGTG', 'TTGTAGTT', 'ACGTTGAA', 'ATCTACAA', 'ATGTTATT', 'ATTTTAGT', 'AAAAAAAA', 'ATATATTA', 'ATTTGTTT', 'AAGTTGCA', 'AATTCCTG', 'AGATATTA', 'AACTTCAA', 'ATGCATTA', 'AGATAAAA', 'AAGTATAA', 'AAGTGCAA', 'AATTTCAG', 'AAAAAGAA', 'AAGTATAA', 'ATATAAAG', 'AGGTTAAA', 'AAGTATTT', 'ATTTATCT', 'AATTTTCT', 'ATTTAGTA', 'TTTTTTTA', 'ATTTAGAT', 'ATTTCAAT', 'TTTTACAA', 'AAATATTG', 'ACATTACA', 'ATGTCTTA', 'ACATAGTA', 'ATTTACAA', 'AATTACAT', 'ATTTATGA', 'ATATAATT', 'ATCTATTT', 'ATTTTTAA', 'AAGTACAG', 'ATGTATAA', 'ATATAATA', 'ATATAAAA', 'AACTAAAT', 'ATATAGTT', 'ACCTTTTT', 'TTCTATTT', 'AATTAAAA', 'ATCTATCA', 'ATTTTTTT', 'ATATAGTT', 'ATGTTTTT', 'AAATACCT', 'TTTTATTT', 'TTTTTTCA', 'ATATAATA', 'ATCTTGTT', 'AGATAACT', 'ATTTTTTT', 'AAGTAATT', 'TGATATTG', 'ATCTCTCT', 'GTGTTAAT', 'AAATAAAG', 'ATATATAT', 'ATCTTCAA', 'ATATACAA', 'AATTACAA', 'AAATACTA', 'TTCTAACA', 'ATATAAGT', 'AATTTTTA', 'TTTTCTAA', 'TTATATTT', 'AATTTTAT', 'AACTTCCT', 'AGTTAGAA', 'AACTAAAA', 'AATTAATT', 'GAATAGTT', 'AAATCCAG', 'AAAAAAAA', 'CTTTTCAG', 'AGATACAA', 'ACCTTACA', 'ATATAAAA', 'ATATATAT', 'ATATAAAA', 'ATGTAAAA', 'AACTCTTG', 'AATTATCG', 'GAATACCA', 'AATTTCTG', 'AAATGAAA', 'AATTTTCT', 'ATTTTACT', 'ATGTAAGT', 'ATGTTTTT', 'ACATAAAA', 'AAGTAGTA', 'AGTTCTAT', 'ACGTATCA', 'AAATAAAA', 'GTATAAAT', 'TTCAATAA', 'ACTTTGTG', 'ACTTATTA', 'ATTTATAT', 'AATTATTA', 'AAATAATT', 'GTTTAAAA', 'AAATATAA', 'ACTTAAAA', 'ACCTAAAT', 'AATTAAAT', 'ATTTATAT', 'AAATATAA', 'AAATAAAA', 'ATCTACTT', 'AATTAAAA', 'AATTTTCA', 'ATTTCCTT', 'AGGTATTT', 'AAATATCG', 'AAACATCG', 'ACTTACAA', 'GTTTCATT', 'AACTATTA', 'ATTTAAAA', 'ATATGATA', 'ATCTAACA', 'AAGTACTG', 'AAATTATT', 'AAATATTA', 'TTGTAAAA', 'ATTTATCT', 'ATTTTCAT', 'AATAATAA', 'AATTACAT', 'ATGTTTAT', 'CAATTAAG', 'TATTATAA', 'AACTTGAA', 'ACTTCTAA', 'ACGTAATG', 'ATTTAAAA', 'ATTTTTTT', 'ATGTACAG', 'ATTTAAAA', 'ACCTATAA', 'ACTTATTA', 'AGGTTTAT', 'GAGTATTT', 'GAATAACG', 'ATTTCAAG', 'AAATTTAT', 'ATTTTTTT', 'AAATAATG', 'TTCTATTT', 'ATACAATA', 'ATACTTAT', 'ATTTCATT', 'ATTTTTCA', 'ACTTAGAG', 'TTCTTTAG', 'AACTCATT', 'ATATAATT', 'ATTTATCA']\n",
      "5\n",
      "['AAATCTTC', 'TAAAAAAT', 'AAAAAAAA', 'TACTTTTT', 'TTATACAG', 'AGACAAAT', 'TACACTTG', 'TTTTTCTT', 'AAACAAAT', 'TGTGATAC', 'TTTTTAGT', 'TAGTAATT', 'AAATATAT', 'TTGTACAG', 'GTGTCTAG', 'TAGTATGT', 'TATCATAA', 'TGGAATAT', 'ATTAAATT', 'TACTATAT', 'TTATATTC', 'TTCCAAAT', 'AAATTAAG', 'AATTCTGT', 'TTCAATTT', 'TATTATAT', 'TAATTAAT', 'AAAAAAAA', 'AATTAAAT', 'TAAAAAAT', 'TTGTATAT', 'AAATAATG', 'AACTAAAG', 'AACTTTAA', 'TTATAAAC', 'AAAAATAT', 'AAAGAGAT', 'AACAATTG', 'TAATTTAT', 'TAATTTAT', 'TAATATTG', 'AACAAAAG', 'TTAGAAAC', 'AATTTTTC', 'TTTTAAGT', 'ATATATAG', 'TAGTCTTT', 'ATGCATAT', 'TAGTAATC', 'AAAAAAAT', 'TAGTATGG', 'AACTCTTG', 'AATCATGT', 'AAGTCCTG', 'AACAATGT', 'AAGTCAAT', 'AACTCAAT', 'TAGTCAAG', 'TTTGTTAT', 'ATGTATAT', 'TATTATAT', 'TTTTATAC', 'TATCAAAT', 'TTTTACTG', 'AAGCAAAA', 'TAATAGTT', 'TTCACTGT', 'TTTCATTG', 'TTGTATAT', 'AAACAATT', 'AAATATTT', 'ATAAATAC', 'TAGCATAT', 'TTCTTTTG', 'TTCCAAAT', 'ATATATAT', 'AGATATAC', 'AAGAAAAT', 'TTGTTTAA', 'TATCATAT', 'TACCATAT', 'AAATAATT', 'TTCTCTTT', 'AAAAAAAT', 'TTTTTTTT', 'AAATTTTG', 'TACAAAAT', 'TAGGAATG', 'AACTAGTG', 'ATATATAA', 'ATGTTTTT', 'AACAATAT', 'TTCCTAAT', 'AAGTCTAA', 'AAATATAC', 'TATTTTTT', 'TATTTTAT', 'AAATATAG', 'TAGTTTAT', 'TACTTGTT', 'ATGTATTC', 'TAGTCAAA', 'AAATTTTC', 'TAGAAAAT', 'TATTATAT', 'TAATATAT', 'TATTATAT', 'TTGTATTT', 'ATCTTTAG', 'AAGTCCAC', 'AACATATC', 'TTGTTTCT', 'AGGAATAT', 'AATCAAAG', 'AATTATTT', 'ATATATAT', 'AAGTTTTT', 'ATCACTAT', 'AACGCATT', 'TACGATTC', 'AACTACTT', 'TACTAGTG', 'AAATAAGT', 'TATGATAT', 'ACATATAT', 'AAGCAGAA', 'AACTAAAA', 'TATTCTAA', 'TACTAATG', 'TACTATTC', 'TATTATGT', 'TATTATGA', 'AACTATAG', 'ATATATAT', 'TTGTATAT', 'TATTCAAA', 'AACACCAC', 'AAATACAG', 'AAAGATAC', 'AACTCTAT', 'AAAAAAAT', 'AATATTAG', 'TAGAAAAT', 'ATGTAAAT', 'AAATAAAA', 'AAGTAAAT', 'TATTATAT', 'TATTATTT', 'TTGTATTA', 'TATTAGAT', 'ATGTCTGT', 'TAGTTGTT', 'AATTAAAG', 'AATTATAT', 'ATCTATAT', 'TATTTTAC', 'TAATATAT', 'TACTTTAC', 'AATTAAAC', 'ATTGTTAG', 'AAACAAGT', 'TAAACTTT', 'AAAATTAT', 'ATATAAAG', 'AAATATAT', 'TACTATTA', 'TAGTAATT', 'TACAATTA', 'AACTCGGT', 'GAGTATAT', 'TGATCTAC', 'TGTTAAGT', 'AATTAAAA', 'TATTTTTT', 'TTGTTTTT', 'AGGAATTG', 'AATTATTT', 'TAACATTC', 'AAATAAAT', 'AAAAAAAA', 'AAATAAAA', 'AACAATTT', 'TACATTTT', 'AAATATAT', 'AAGCTTAA', 'TAATTTTT', 'TTGTCAAT', 'TAATATAT', 'TTTTATAG', 'AATCAATT', 'ATCTCTAG', 'AACTATAT', 'AATTATTT', 'TAAGATAA', 'TACTAAGA', 'AGAGATTT', 'TAATATAT', 'TAGTAATA', 'TAGAAATG', 'TACTACAC', 'ATATATTC', 'TAATTATC', 'TATTTGTT', 'TATTATAT', 'TATTATAG', 'TTTTAATT', 'TAGTTTTT', 'TACTTTAG', 'AAACATAT', 'AAGAAAAT', 'TATTTTGT', 'TAGAATAC', 'TTCTATAT', 'TTCAAAAC', 'TATATATT', 'TACCCTTT', 'AGATAATC', 'AGGCCTTT', 'TTATATAT', 'AAAAATAC', 'TAAATTTC', 'ATAAATTT', 'AAGAAAAT', 'TATTATTC', 'AAGTTTAG', 'AAACAAAC', 'AATTATAT', 'TTATATAT', 'TAGTTATT', 'TTCTTTAT', 'AACCACTT', 'AACTACAA', 'AACGACAG', 'AAGTAAAG', 'TAGTCTTT', 'ATGAATAC', 'TTTTTTTT', 'TAATATAT', 'TAGTTTTT', 'AACTATTG', 'AACTATGC', 'TATCTTAT', 'TTGAAGTT', 'TACTCTGT', 'TTTTTTTT', 'ATTTATAC', 'TTGCACTT', 'AATTCTGA', 'TTCTTTTT', 'ATGTTTTT', 'TTATATAA', 'AACCTAAT', 'TTATATGT', 'AGATAAAT', 'TATTCAAT', 'TACTAAAT', 'TAAAAAAA', 'AAATCTAT', 'TAAAAAGT', 'AAGTATGT', 'AAGTTTAT', 'TTCTTTTA', 'TTATTAAG', 'TACTATGT', 'TTGTAAAT', 'TAATTTTT', 'ATTTCTAT', 'AATTATAT', 'AAATAAAA', 'ATCTATAT', 'TTTTCTTT', 'TAAATTAT', 'TATTATAT', 'TTTTATAT', 'AACTATAG', 'AACTATAT', 'AACCTTAT', 'TAGTTTAT', 'AATTTTTT', 'TTGCAAAT', 'AACTTTAT', 'AACTATAT', 'AAACATTT', 'ATTTCAAT', 'AAATAAAA', 'TAATTCAC', 'TATTATAT', 'AAGAAAAA', 'AACTTTGT', 'AAAAAAAT', 'TACTTAAA', 'TACCATTC', 'TAGTAGAG', 'AACACTTT', 'TTCTATAG', 'ATATATAT', 'TTGAAGAT', 'TTGTATAT', 'TACTATAA', 'TAGTATTT', 'AAGTCATA', 'TATGATAT', 'AAGTAAAA', 'TAGAAAAG', 'AAATATAA', 'TATAAAAT', 'AAGTTAGG', 'AAGTAATG', 'TTTTTTAG', 'AATTAATT', 'AACTATTC', 'AACTCAAT', 'TTTTTTTT', 'ACCTCAAT', 'TTGTATCT', 'AATGTTAT', 'TATTATAT', 'ATATATAT', 'TTTTATAT', 'TATTTTGT', 'AATCAGAG', 'AATTCATT', 'TGGTATTC', 'AACTAGTA', 'TATTTTAG', 'AAAATTTC', 'AAGTAAAA', 'TTACATGT', 'AAAAACAT', 'TTTTATGT', 'TACTTTTG', 'TTCTACTG', 'TTGTATGG', 'AATTATTT', 'ATTTATAC', 'TTATTGAA', 'TTCACAAA', 'TAATAAGT', 'ATATAAAT', 'TAATAATT', 'AATTATTT', 'TATTTTAA', 'TATTATAT', 'AAGTTTAA', 'TAGTATAA', 'TTCTAAAT', 'ATGTATAT', 'ATTTATAT', 'AAAAATAT', 'AAGTAGAT', 'TTTTAATT', 'TAATTAAT', 'AAGGAAAT', 'AAGACTAT', 'TTCTTATG', 'AAGTCATG', 'TTGTAAGT', 'AATGAAAC', 'AAGTAATT', 'TTTTAAAT', 'TATCATAT', 'AACTCAAA', 'ATGTAAAG', 'TAATTTTT', 'TAATATTT', 'TACCATTT', 'AATTATAG', 'AAAATAAT', 'TATTATTG', 'AAGTATAC', 'TAGCATAT', 'AAGCTTAA', 'TATAATAG', 'AAGTTTAT', 'AAGTCTTT', 'AACTCATG', 'TTTTAAAT', 'AAAAAAAT', 'AATCATAG', 'TTTTAAAT', 'AATTATAG', 'TAGCATAT', 'AAGTCTAA', 'AAAGAAAC', 'ATGAAGAG', 'TTGAAATG', 'AAGTTATT', 'AAAAAAAT', 'AAAAAGAT', 'TAGAATAA', 'TACCAATT', 'AAGTATGT', 'AATGAAAT', 'AAAAATGT', 'AAGTAATC', 'TTCTAAAG', 'AACTCTAG', 'AATTATAT', 'TAAATTAT', 'AAGTATAG', 'TAGTATAG', 'TTTTTTTT', 'AAAAAAAA', 'TTGTCTGT', 'TTGTCTGT', 'TAGATTCT', 'AAGAAAAA', 'TAAAAAAC', 'TATCACAC', 'TACTTTCT', 'TACAATAC', 'TAGTATTT', 'AAGCTAAG', 'AAGTACCG', 'TACTACTA', 'TACTAGAG', 'TAGTAGAC', 'AATTTAAT', 'TAATATGT', 'ATATAAAG', 'AAATATGC', 'AAGAAGAT', 'AAATACAC', 'TTATATAC', 'AAATATAT', 'TAATTTAT', 'TTCTTTAT', 'TAATATTT', 'TTCTAAAT', 'AAATATAC', 'TTCTTTTT', 'TTCTTTTT', 'AACTATTT', 'AACTATTG', 'TATTTTTT', 'ATCTCTTT', 'TTGTATTT', 'TATAAATT', 'TAATTAAT', 'AACAATAT', 'TACTCTTT', 'TTCTAAGT', 'AAAAATTG', 'TAACACTT', 'AACCCTAT', 'AACTTCTT', 'TTAGATAT', 'TACTAGAG', 'TAATAATT', 'TACTAGAT', 'AACTACAT', 'AAGACAAT', 'TACCTAGC', 'TTATCTTT', 'AACATTAT', 'AATTTTGT', 'TTGACTAG', 'TAACAAAT', 'TATAATAT', 'TATAATAT', 'AAGTATAA', 'TTGATAAT', 'TAAAATGG', 'TTTGCTTT', 'AACTATTA', 'AAACAGCT', 'AATGAAAG', 'AAATATAC', 'TAATTGTT', 'AAATATTT', 'TATTTATC', 'TTGCATAT', 'AACTAATC', 'TAGAAATG', 'ATATATAT', 'AAGAAGAT', 'TTTTCTTT', 'TTGTATTT', 'AAAGATAT', 'AATTTGAA', 'AATTATTT', 'TTGTAAAC', 'TATTTTAT', 'AAAAAAAT', 'AAAATTTC', 'TATTTTGT', 'TACCATGT', 'AAGAAGAC', 'TTATATAT', 'AAACATTT', 'TTGTTCAT', 'TTGTCCAT', 'TTCATTAA', 'TAAAATTT', 'AATTTAAT', 'AATAATAT', 'ATCTATAT', 'AACTATAA', 'AAGTATCC', 'AACTAGAA', 'AAGTACAA', 'AAGTATAT', 'TTTTCTAG', 'TACAATAT', 'TAATATAT', 'TATAATAT', 'AAATACAA', 'TAGTAGAG', 'AAGTCTGT', 'TTCAACGT', 'AACAAGAT', 'GAGAATAT', 'AAGTATGG', 'AAATAATT', 'ATATATAT', 'AAAACTTT', 'ATGTTCAT', 'AAGATGAA', 'TTCTCTAC', 'AAGTAGTT', 'TACAACAT', 'TACTTATT', 'TATCATAT', 'TAGTCAAT', 'TTCACAAT', 'TAGTTTTT', 'TAGAATAG', 'TACGATAT', 'AAGAATAG', 'TAATACAC', 'TTATCAAT', 'TTCTATTT', 'ATATATAT', 'TATAATAT', 'ATCTATAC', 'TACCTAAC', 'ATTTCTGT', 'TATCTTTT', 'TACTTTAC', 'TAATAATT', 'AAATATGT', 'TACTAAAG', 'TACTATTT', 'AACTATAT', 'TTTTATAT', 'TATAATAT', 'AATAATAT', 'TACAAAAC', 'AATTATAG', 'ATCACAAT', 'AACTAAGA', 'TAGTTTTG', 'AAAAATTT', 'AAATATAG', 'AAGTAAAA', 'TATTAAAT', 'AAGTAACT', 'ATGTTTAA', 'TAACAATT', 'TTGTTTTC', 'AAGTTTAG', 'AATAATTT', 'AATAAAAT', 'TAATATAT', 'TAGTTAAT', 'AATTACTT', 'TTGTAATT', 'TTGGATGA', 'AAGTATAT', 'TAGATCAT', 'TTGTCTCT', 'TTTTAATT', 'TAAAAAAT', 'AAGAAAAA', 'AACTCATC', 'AAATAATT', 'TACTAAGA', 'TATTTTTT', 'TTTTTTTT', 'TTTTATTT', 'TATTCTAT', 'TTAAAAAT', 'TAGAAAAT', 'AATTTAAG', 'AAATTAAT', 'TACCATTT', 'TATTATAT', 'AACTAATT', 'AAGTATAA', 'ATCTTAAC', 'AAAAAAAT', 'AAATAATT', 'TTCTTTAT', 'TAGTATGG', 'ATCTCTGT', 'AAAAATAG', 'TACTACAG', 'ATTTCTAC', 'TAACAAAT', 'GAATATAT', 'ATATAATC', 'TATCAAAA', 'TAGTATAT', 'AACTATAA', 'TATTTTTT', 'AATAATAT', 'AATTAGAA', 'TTATATGT', 'AACTATAT', 'AAATACAC', 'TATTCTAT', 'TAATTATT', 'TACCTTAT', 'ATATATAC', 'AACTAACG', 'TTCTCTCT', 'AAGGCCTC', 'TTATATAT', 'TACTATTT', 'TTATCTAT', 'AAATTTAT', 'TAGTATAA', 'TATTCTAT', 'TTGTTTTG', 'TTGTTTTT', 'ATATAATT', 'AACTATTT', 'AAGTTTTT', 'AAATAAAG', 'AACCATAT', 'TAGTTGTT', 'GACTCAAT', 'TATTCTTT', 'AAGACTAT', 'TATTCATG', 'AAAAAAAA', 'ATATATTA', 'TTGTTTTT', 'TTGAAGTT', 'TAGTTTGT', 'TAAGATAT', 'TTCAAGAT', 'AAGTACTG', 'TAAAATGT', 'AAGTATAA', 'AAGGAAGT', 'AATTTCAG', 'TAAAATGG', 'AAGTATAA', 'TTATATAA', 'TAGGTTAA', 'AAGTATTT', 'AAGTAAAG', 'TAGTTAAT', 'AAAATTAT', 'TTTTTTTT', 'TAGATTTT', 'TTCAATAT', 'TACTTTTG', 'TAATATAA', 'TACATTAC', 'AAGAAAAC', 'AAGGATAA', 'ATTTACAA', 'AAAAAAAT', 'TAGAAATT', 'AATTTTAT', 'TTTTATTT', 'TAGTTTTT', 'AAGAAAAA', 'AATTTAAT', 'AATAAAAT', 'ATGTATTT', 'AACTAAAT', 'TTCTAAAG', 'AAGGTTTT', 'TACTTTAT', 'AAAAAAAT', 'TATCATTT', 'TAATAAAG', 'ATATAGTT', 'TTTTTTTT', 'ATTGAAAT', 'TTTTATTT', 'TTTTTCAG', 'AATAATAT', 'TTCTTTTT', 'AAGGATTG', 'AAGTTAAT', 'AAGTAATT', 'TACCTTAG', 'TACTATGG', 'TGGTATAG', 'AAATAAAG', 'ATATATAT', 'TAGTATCT', 'AAAAATAT', 'TACCATAT', 'AAGGAAAT', 'TATGACTT', 'TATCATAT', 'TAGAATTT', 'TTTTCTAA', 'TTATATTT', 'AATTTTAT', 'TACTCCAC', 'TAGAAATG', 'AACTAAAA', 'AATTAATT', 'TACTTTGT', 'AATCATAC', 'AAAAAAAA', 'TTTTCAGT', 'ATACAAAC', 'TAACATTG', 'TATAATAT', 'ATATATAT', 'ATGTATTT', 'AACAAAAT', 'AACTCTTG', 'AAGAAAAT', 'ATCACAAT', 'TACTAGTT', 'TAAAATAC', 'TAGTAAAA', 'AATTTTAC', 'ATGTAAGT', 'ATGTTTTT', 'TACATAAA', 'AAATATGG', 'AGTTCTAT', 'TATCAATC', 'TAAAATAT', 'ATAAATAG', 'TTCAATAA', 'TACTTTGT', 'TATTACAC', 'TAGTATAT', 'TATTAAAA', 'TATTATTT', 'TAAAATAA', 'AAATATAA', 'TTCTAAAT', 'TACTATAC', 'AATTAAAT', 'ATTTATAT', 'AAATATAA', 'TATTTTTT', 'TACCATAT', 'AATTAAAA', 'TACGAATT', 'TACATTTC', 'TAGTCTTG', 'AACATAAG', 'ATGACTTC', 'TACAAAAC', 'TTCTCGAT', 'AACTATTA', 'AACTATAA', 'TAGTCAAG', 'AAGATTTT', 'AAGAAAAG', 'AAAATTAT', 'TATTAAAT', 'AATTTTGT', 'TAATTATT', 'AAAAATAG', 'TAATAAAC', 'TACTTTTT', 'TTCTATTT', 'AACTCAAC', 'TATTATAA', 'TTGCATTT', 'ATCCTTAT', 'TACGTAAT', 'AAATTTAA', 'AATTTTTT', 'ATGTCTTT', 'AATTTAAA', 'TATAATTC', 'TACTTATT', 'AGGTTTAT', 'GAGTATTT', 'TTCTCTTC', 'ATTTCAAG', 'AAATTTAT', 'TTTTTTTT', 'AAATAATG', 'TTCTATTT', 'AACTCAAT', 'AAACATAC', 'TATTTCAT', 'AAGTTTTC', 'AACAATGA', 'TTCTTTAG', 'AACTCATT', 'TACTAAAG', 'TAATAAAT']\n",
      "6\n",
      "['AAAATCTT', 'AATTTAAC', 'AAAAAAAA', 'TTTTTTTT', 'AGTTATAC', 'AATCTCTC', 'AATCTACA', 'TTTTTCTT', 'TTTTTTAC', 'AGTGTGAT', 'TTTTTAGT', 'TATAACTT', 'AATATAAC', 'TTTGTGTC', 'TGTGTCTA', 'TATGTGTG', 'TATCATAA', 'AATATCGC', 'AAATTGAC', 'TATATCTT', 'TTTATATT', 'ATATTTTC', 'AAATTAAG', 'TATTTGTC', 'AATTTTTC', 'TATTATAT', 'AATTTAAA', 'AATTTTTC', 'AATTAAAT', 'AATTAAAA', 'TATTTCAT', 'ACTTTCAT', 'AAACTAAA', 'AAATAGTT', 'AATAGTTT', 'TAATTAAA', 'AAAGAGAT', 'AAATACAA', 'AATTTATA', 'TATTAATT', 'TTTCTAAT', 'TAACAAAC', 'TTTTGATC', 'AATTTTTC', 'TAAGTGTT', 'GATATATA', 'AAGTTCTT', 'TATCTAAT', 'ATTCACTA', 'AATTATTA', 'TTTGTGAA', 'TGTTTCAT', 'ATTGTCTT', 'TGATGCAC', 'AATTTCAC', 'AATTGCAA', 'AAACTCAA', 'AGTCTCTA', 'TTTGTTAT', 'TATTTCAA', 'TATTATAT', 'TTTTTATA', 'TATCAAAT', 'ACTTTCAT', 'AAACTCGC', 'TAATAGTT', 'GATCACTC', 'TCTGTTAT', 'TATTTCTA', 'AAACAATT', 'TATTTTTT', 'GATAAATA', 'ATATGCAA', 'TATCACAT', 'AATTGCAT', 'TATATATA', 'ATCTTCTT', 'TTTGTCTT', 'TTTTTGTT', 'ATTTTAAT', 'TATGTGTA', 'AAATAATT', 'TTTCTCTT', 'AATAAAAT', 'ATTTTTTT', 'AATTTTGA', 'TACAAAAT', 'AGAATCAT', 'TGTGTCTT', 'TATATAAG', 'AATGTTTT', 'AACAATAT', 'TTCCTAAT', 'TAATGAAA', 'AATTTTAA', 'TATTTTTT', 'TATTTTAT', 'AATCTATT', 'TATTTTAA', 'TACTTGTT', 'ATTCTGAA', 'AATCTGTT', 'AAATTTTC', 'AAATTGTG', 'TATTATAT', 'TATTATAT', 'TATTATAT', 'TATTTCTT', 'TTTGTGAT', 'TCTCTGAT', 'AACATATC', 'TTTCTCTT', 'ATATTCTC', 'TACTTCTT', 'AATTATTT', 'AATATAAT', 'AATCTTTT', 'TAATTCAC', 'GATTGGAT', 'TTACGATT', 'TATCTGTT', 'AATGTTGT', 'AATAAGTA', 'TATTTCTT', 'TATATCAA', 'ATTGTGAA', 'TATTGTAA', 'ATTCTTTT', 'TATTACTC', 'TATCTGAT', 'TATTATGT', 'TATTATGA', 'TATATAAC', 'TATATATT', 'TATATTAT', 'TATAGATT', 'ATACTGTA', 'AAACACAC', 'AAAAGATA', 'TAAATAAC', 'AAATTATT', 'TATCTCTT', 'TATATATT', 'TATGTAAA', 'AAATAAAA', 'AATATAAA', 'TATTATAT', 'TATTATTT', 'AATCTCTT', 'AATTACAA', 'ATTGTGAT', 'AAAGTCAC', 'AATTAAAG', 'AATTTTTA', 'TATTTATT', 'TATTTTAC', 'TATTTAAT', 'AAACTAAC', 'AATTAAAC', 'AATTGTTA', 'AAACAAGT', 'AATTTCTC', 'AAATTATT', 'ATTTTATT', 'AATATATT', 'ATACTATT', 'TAATTCAA', 'AATTACAA', 'AGAGTCAT', 'ATATACTT', 'TGTATATA', 'TGTTAAGT', 'AATTAAAA', 'TATTTTTT', 'TTTTTCTT', 'AATTGGTG', 'TATTTTTT', 'TAACATTC', 'AAATAAAT', 'AATAACAA', 'AATTTATA', 'AATTTGTT', 'ATTTTTAA', 'TATTTCTA', 'AAATTCTC', 'AATTTTTT', 'AATATTGT', 'TATATAAT', 'TTTTTTTT', 'AATCAATT', 'TATCTCTA', 'TATTTTTT', 'AATTAATT', 'AATCGCTT', 'AATCAGAT', 'AGATTTTC', 'TATTTCTA', 'AACTGATT', 'ATTTACTC', 'GATTTGTT', 'GATATATT', 'TAATTATC', 'TATTTGTT', 'TATTAATT', 'AATTAAAA', 'TTTTTAAT', 'TTTTTATT', 'TTTCTAAT', 'TAATTGAC', 'AATTAATA', 'TATTTTGT', 'ATAGAATA', 'TAATTAAA', 'GATATGTA', 'TATATATT', 'TTTTTCTC', 'AGATAATC', 'GCCTTTTC', 'TATATATA', 'AAATACAC', 'TAAATTTC', 'AATTTCAC', 'TAATACAA', 'TATTATTC', 'TGTTTATT', 'TAACTATC', 'AATTATAT', 'AATATTAC', 'TTTTTCTT', 'AATTTCTT', 'AAACTCAC', 'AACTACAA', 'ATTGAGTC', 'TAACAATT', 'AATAACAT', 'ACTAAAAT', 'TTTTTTTT', 'AATATATT', 'TTTTTCTT', 'TATTGCAA', 'AATGTAAC', 'TATCTTAT', 'ATCTTGAA', 'TAATGCAT', 'TTTTTTTT', 'TATTTATA', 'GATTTCTC', 'AAATTCTG', 'TTTCTTTT', 'TTTTACAC', 'TTTATATA', 'AATCACAC', 'TATGTAAT', 'GATAAATT', 'AAATTAAC', 'AATAATTT', 'AATTTGAA', 'AATCTATC', 'TATTGAAA', 'AATTGTAA', 'AATATTTT', 'TTTCTTTT', 'TATTAAGA', 'TATGTAAT', 'AATCATAT', 'AATTTTTT', 'AATTTCTA', 'AATTATAT', 'AAATAAAA', 'TATCTATA', 'TTTTTCTT', 'AAATTATA', 'TATTATAT', 'TATTACAT', 'TATTTAAC', 'AACTATAT', 'AACCTTAT', 'AATAGAAT', 'AATTTTTT', 'ATTTTGTC', 'TATTAAAA', 'AAACTATA', 'AAAAAAAA', 'TATTTCAA', 'AAATAAAA', 'TAATTCAC', 'TATTTAAT', 'TAACAAAA', 'TATCTGAG', 'AATCAAAA', 'AATTACTT', 'AATATCAG', 'ATACACAC', 'ACTTTAAC', 'TCTTTATT', 'AATATATA', 'AGTTTATA', 'TATTTTTC', 'TAATTCTC', 'ATTCTGTT', 'AACTGATC', 'TATATGAT', 'AAATTCTA', 'AATTTGTG', 'AATATAAT', 'TATAAAAT', 'GTTGACAC', 'AAAGTAAT', 'AATTAGAC', 'AATTAATT', 'TTTCTGTT', 'ATTTTGTC', 'TTTTTTTT', 'TACCTCAA', 'TTTGTATC', 'AATGTTAT', 'TATTTTAT', 'TATATATT', 'TATTACAT', 'ATTTTGTT', 'AAACTCTC', 'TAATTCAT', 'ATTGTGAT', 'AAATTCTC', 'TTTTTGTT', 'TTTTACTA', 'AATGTATA', 'ACTTACAT', 'ATTGTTTT', 'TATGTATT', 'TTTCTTAC', 'GATAGAAC', 'TATGGATT', 'TATTTTTT', 'TATTTATA', 'TATTGAAC', 'TTTCACAA', 'TAATAAGT', 'ATTTTTAT', 'TTTTTAAT', 'AAATTATT', 'TATTTTAA', 'AATTTTAT', 'ATTTTAAG', 'TATCTAAT', 'GATTTAAT', 'TATATAAA', 'TTTTTATT', 'AATTTTTT', 'TATGACTA', 'ATTTTAAT', 'TAATTAAT', 'TAACTCTA', 'TATCGAAA', 'TGTTTCTT', 'TGTTTCTC', 'TTTTGTAA', 'AATGAAAC', 'TAATTATC', 'TATCTCAT', 'TATCTTAT', 'AAAATCTT', 'TATGTAAA', 'AATTTTTA', 'TATTTTTT', 'ATTTTTTC', 'TAATTATA', 'TATTTTTC', 'TATTGTTT', 'TATCTTAT', 'AAATAAAC', 'AGCTTAAT', 'AACTTGTT', 'AAATGCAA', 'TAACTGAA', 'ATTTTGTG', 'TTTTTAAA', 'AATTAGAT', 'AAAGACAT', 'TTTTTAAA', 'TAATTCAC', 'AATGTTTT', 'AGTCTAAC', 'AAATACTC', 'CATCTTTC', 'AATTTCCA', 'TTTTTGAT', 'AAAAAAAT', 'TATTTGAA', 'TATTAGAA', 'TATTGTAT', 'TATGTTTC', 'AATGAAAT', 'AAACTGAA', 'TAAGTAAT', 'AAACTCAA', 'AAACTCTA', 'AATTATAT', 'TATTTATT', 'TAAGTTTA', 'AATTTTTT', 'TTTTTTTT', 'AAAAAAAA', 'TATTTGTC', 'TATTTGTC', 'ATTCTGAT', 'AAAATCAG', 'ATTTGTTT', 'TATCACAC', 'AATCACAT', 'AATTACTA', 'TATATTTT', 'TAAGACAC', 'ACACACTA', 'TACTACTA', 'TTTATGAT', 'ATAGTAGA', 'AATTTAAT', 'AATATGTT', 'AATATAAA', 'ATTTGGAA', 'AATTTGAA', 'AAATACAC', 'AAATTGAA', 'TATATAAT', 'AAATTAAT', 'AAATTCAT', 'AATTTAAT', 'AATTTTAA', 'ATTTTATT', 'TATTTCTT', 'TTTTTTTC', 'AATCTCTT', 'TTTTTCTT', 'TATTTTTT', 'TCTCTTTA', 'TTATTCAC', 'TATAAATT', 'ATTTTAAT', 'TATTAGAA', 'TTTTGTTC', 'ATTTTGAG', 'AATTGGAT', 'TAACACTT', 'TATATCAT', 'AACTTCTT', 'ATATGCAT', 'GATTACTA', 'AATTTTTT', 'TACTAGAT', 'AACTACAT', 'TGTTTCAA', 'TACCTAGC', 'TTTATCTT', 'AATTTAAG', 'AATTTTGT', 'AATGGGTT', 'TATAACAA', 'TTTTTTTT', 'TATATAAT', 'TATAAAAA', 'GATTTGAT', 'AGTAAAAT', 'TTTTGCTT', 'AATTACGA', 'AATGGGAA', 'AATGAGAC', 'AAATATAC', 'AATTGTTT', 'TATTTGAT', 'TATTTATC', 'ATTTTCGT', 'AATCATAC', 'AAATGCAA', 'TATATATA', 'TATATCTG', 'ATTTTCTT', 'GATTTAAT', 'ATTAAAAT', 'AATTTGAA', 'AAATTATT', 'AAACTCAT', 'TATTTTAT', 'AATCTTTC', 'AAAATTTC', 'TATTTTGT', 'ATTCTCTC', 'TAGTTCTC', 'AAATGAAT', 'AAAAACAT', 'ATATTGTT', 'ATTAGGAA', 'TTTCATTA', 'AATTTAGA', 'AATTTAAT', 'AATAAAAT', 'TATCTATA', 'TATATAAA', 'AACTGGAA', 'TATTTCAG', 'GATTTGAC', 'AATTTGTC', 'ATTTTCTA', 'AATATAAT', 'AATATAAT', 'AATATAAT', 'AAATACAA', 'TAAAGATC', 'AGTCTGTC', 'TCTTTCAA', 'AAAGGTAT', 'TCTATCTT', 'ACTTTGAT', 'AAATAATT', 'TATATATA', 'AAAAACTT', 'ATAGTGAT', 'AAATGCGT', 'AATCGTAA', 'AAACAGAT', 'AAAATGAC', 'TATTTGTT', 'AATATCAT', 'TATATGTA', 'AACTTCAC', 'TATTTTAG', 'AAAAGAAT', 'AATATCAA', 'AATCAGAT', 'TAATACAC', 'AAACTCTT', 'TATATAAC', 'AATATATA', 'AATATGAT', 'AATCTATA', 'TACCTAAC', 'TATTTCTG', 'TATCTTTT', 'ATTTTGAA', 'AATTTTTT', 'AATATGTT', 'AATATATA', 'TATTTATT', 'AATATTAT', 'AATTTTTA', 'TATCTCTT', 'AATATAAA', 'TAATACAA', 'TAATTATA', 'AATCACAA', 'AATGAGAA', 'AATTGAAT', 'AATATAAT', 'AATTTTTC', 'TATTGCAT', 'TATTAAAT', 'AACTTCAA', 'TATTACAC', 'TAACAATT', 'AATATTGC', 'AAAGTTTA', 'AATTTTAC', 'AATAAAAT', 'AATATATT', 'AATAGTAT', 'AATTACTT', 'TAATTGTA', 'AGTTGGAT', 'TAAGTATA', 'ATACAGAT', 'ATTGTCTC', 'AATTTCAA', 'AAATAAAA', 'AAAAACAA', 'GATTTCAG', 'AATTTCAC', 'AATGTTAC', 'TATTTATT', 'TTTTTTTT', 'TTTTTATT', 'AATTGTTT', 'TATCTCAA', 'TTTTTCTA', 'AATTTAAG', 'AAATTAAT', 'TTTTGTTA', 'TATTATAT', 'AAACTAAT', 'AATTGATT', 'GATCTTAA', 'TATTATTA', 'AAATTAAT', 'TATCTTAC', 'TATCTGAT', 'AAAATCTC', 'TATATTAC', 'TATTACTA', 'AAATTGAG', 'TAACAAAT', 'AATATATC', 'GATATAAT', 'TATCAAAA', 'AATATAAT', 'TTTTTAAT', 'TATTTTTT', 'AATATCTT', 'TATTACTA', 'TATATGTT', 'TATTAATT', 'AAATACAC', 'TATTGGTA', 'TAATTATT', 'TATGGATT', 'AATATATA', 'TCTTTCAC', 'TTTCTCTC', 'TATCTCCC', 'TATATATA', 'ATTTTCTC', 'AAATTTAC', 'AATTTATC', 'ATTTTCTT', 'AATAATAC', 'AAACTTAC', 'TTTTTCAC', 'TAATTCAT', 'TATATAAT', 'TTTTTTAA', 'AAACAAAT', 'AACCATAT', 'TACTTGTC', 'AATGTCGT', 'TAATTGTT', 'TATGTTAT', 'ATTTTAGT', 'AATCACTT', 'AATATATT', 'ATTTGTTT', 'AATAGTTG', 'TGTTACAT', 'TAAGATAT', 'AACTTCAA', 'TGATGCAT', 'AAAATGTT', 'TATAAATA', 'AAGTGCAA', 'AATTTCAG', 'AAAAGAAA', 'AAAAACAT', 'TATATAAA', 'TTCTTCTT', 'AATATCAC', 'AATTTATC', 'TATTGAAT', 'AAATTATT', 'TTTTTTTT', 'TTTTTGAT', 'TTTTTATG', 'TTTTACAA', 'AATATAAA', 'AATCACTA', 'AAAGAGAT', 'GATTACAT', 'ATTTACAA', 'AATTACAT', 'TATGAAAT', 'AATTTTAT', 'TATTTCTT', 'TATTTTTA', 'TAATGCAA', 'AATTTAAT', 'AATAAAAT', 'AATATAAA', 'AAACTAAA', 'ATATAGTT', 'TTTCTCTC', 'ATTCTATT', 'AATTAAAA', 'TATCATTT', 'TTTTTAAT', 'TATAGTTT', 'TTTTTTTT', 'ATTGAAAT', 'TATTTTTC', 'TTTTTCAG', 'AAAATAAT', 'TTTTTCTT', 'AACTGCAC', 'ATTTTTTT', 'AATTTCAA', 'AATGGTAC', 'TATCTCTC', 'AAAGTGTT', 'TGTTTCTT', 'TATATATT', 'ATCTTCAA', 'AATCAAAA', 'AATTACAA', 'AATTGGAT', 'TATATGAC', 'TATCATAT', 'AATTTTTA', 'TTTCTAAG', 'TATTTGAC', 'AATTTTAT', 'AATTGGTG', 'AAATGCAC', 'AATTTCTC', 'AAATTAAT', 'AATAGTTC', 'AATTGTAC', 'AAAAAAAA', 'TACGTCAT', 'ATACAAAC', 'GATAACAT', 'AATATAAT', 'AATATATA', 'AATATAAA', 'TATGTAAA', 'AAACTCTT', 'AATTTTTC', 'AAACACAC', 'AATTTCTG', 'AAATGAAA', 'AAATTTTC', 'AATTTTAC', 'TAAGTCTC', 'TATGTTTT', 'TACATAAA', 'ATTCAATC', 'TATCGGAC', 'TATCAATC', 'AAATAATT', 'TATGTCTT', 'AATCGGTT', 'TTTGTGAA', 'TATTACAC', 'ATTTATAT', 'TATTAAAA', 'TATTATTT', 'TTTAAAAT', 'AATATAAT', 'GTTTTCTT', 'TATTAGAT', 'AATTAAAT', 'TATTTATA', 'AATATAAA', 'TATTTTTT', 'TACCATAT', 'AATCTAAT', 'ATTTTCAC', 'TACATTTC', 'TATTTCTG', 'TTTCTGAC', 'AGAAACAT', 'AATATCAC', 'GATTGCTT', 'AATTACTT', 'AATATGAT', 'GATATGAT', 'TTTTGCTT', 'TACTGAAA', 'TATTTCAT', 'TATTAAAT', 'AATTTTGT', 'TAATTATT', 'ATTTTCAT', 'AATAATAA', 'AATTACAT', 'TATTTCAT', 'AATTAAGC', 'TATTATAA', 'AACTTGAA', 'TAAGACAT', 'AATCACTT', 'AATTTAAA', 'AATTTTTT', 'TTTATCTT', 'AATTTAAA', 'TAATTCTT', 'TATTACTT', 'TTTTGGAT', 'GATTTCTC', 'AATAACGA', 'AAATTGTG', 'AATTTATC', 'ATTTTTTT', 'TCTTTTTT', 'TATTTGAC', 'AATTGGTA', 'ATACTTAT', 'TATTTCAT', 'TTTTTCAG', 'TTTGTCAT', 'ATTGTCTA', 'TTTCTCTC', 'AATATAAT', 'AATTTATC']\n",
      "7\n",
      "['ACTTACCA', 'AAATTTAA', 'AAAAAAAA', 'TTTTTTTT', 'CAGTTATA', 'TAGAACCA', 'TTCTGCAT', 'AATTGACA', 'GTTTTTTA', 'GTGTGATA', 'ATGTGATT', 'TGTTATAA', 'TAATATAA', 'TTGTGTCT', 'GTGTGTCT', 'TAGTAGTA', 'TACTGTAT', 'GTCTACTA', 'TCATTAAA', 'TTATGAAT', 'CTTTATAT', 'AAATGGAA', 'TTAAGGAA', 'AACTGGAA', 'GTATATAA', 'TATTATAT', 'TAATTTAA', 'AAATGAAT', 'AAATATTA', 'AATTAAAA', 'TAATAAAA', 'AAAAGAAA', 'TTATAACA', 'AACTTTAA', 'TCTTATAA', 'TAATTAAA', 'ACACGTAA', 'AAATACAA', 'TAATTTAT', 'AATTAAAA', 'TTTTCTAA', 'ACTAACAA', 'ACTTAGAA', 'GTGTGCAA', 'AAGTGTTA', 'TGATATAT', 'AGTTACAA', 'ATATCTAA', 'TCTAGTAA', 'AATTGTAA', 'GAATGCTA', 'TTGTTTCA', 'CTTTGAAA', 'TCCTGGTA', 'AGATAAAA', 'TAATGTTA', 'TTCTGAAA', 'TCGTATAA', 'ATTTGTTA', 'TTTTGTAT', 'TATTATAT', 'TTTTTATA', 'TTATCAAA', 'AACTGGAA', 'AAGCAAAA', 'TAATAGTT', 'AGCTGTTT', 'CTCTGTTA', 'TTTTGTAT', 'AACAATTA', 'AAATATTT', 'ACGTGATA', 'ATATGCAA', 'ACATGTTA', 'ATTTCTAA', 'ATGTATAA', 'ATATACAC', 'AAATACCA', 'AAATACAA', 'GATTTTAA', 'TGATGTCA', 'AAATAATT', 'GTTTACAA', 'TTTTATAA', 'GATTAGAA', 'AATTTTGA', 'ATACAAAA', 'ACATGGTA', 'TCTTCCAT', 'ATATATAA', 'AAATGTTT', 'ATGTATCA', 'GTCTGGTT', 'TAATGAAA', 'AATTTTAA', 'ATTTGATA', 'TTTTATTT', 'ATATAGAT', 'TTATATAT', 'TTGTTCCA', 'TTCTGAAA', 'TAGTCAAA', 'ATATACTT', 'TAGAAAAT', 'TATTATAT', 'TATTATAA', 'TATTATAT', 'AAATCAAA', 'CTCTACTA', 'TCTTGACA', 'ACGTTGAA', 'TCTTGTTT', 'TATTCTCA', 'GAATCAAA', 'AATTATTT', 'AAATATAA', 'TTTTTCAA', 'CACTATAA', 'GATTGGAT', 'TAGAGAAA', 'TCAAGTAA', 'TTGTACTA', 'ACAAATAA', 'ATATGATA', 'ATATATCA', 'TTCTGCAA', 'TATTGTAA', 'TATTCTAA', 'ACGTATTA', 'GTGTATAT', 'GTGTATTA', 'GATAATAA', 'TTATATAA', 'ATATATAT', 'TTGTATAT', 'TATTCAAA', 'GAGTGTTA', 'TACAGAAA', 'AAGTGCAA', 'AAGTAAAA', 'AATTATTA', 'AAATGGAA', 'TAATACAA', 'TTATGTAA', 'AAATAAAA', 'ATATAAAA', 'TATTATAT', 'ATTTGTAA', 'TTTTGTAT', 'AATTACAA', 'TTGTGATT', 'AATTAGCT', 'AATTCAAT', 'AAGTATAA', 'ATATTTAT', 'TTTTACAA', 'TAATATAT', 'GATAGCAA', 'ACATGAAT', 'AATTGTTA', 'GAAAACAA', 'TCTTACCA', 'TATTGTTA', 'ACATATAA', 'AAATATAT', 'TACTATTA', 'TAATACAA', 'AATTACAA', 'TCATCCAA', 'GAGTATAT', 'ATCTGTAT', 'AAGAGACA', 'AATTAAAA', 'TTTTATTT', 'TCTTACAA', 'TCCTGAAA', 'AAATTTAA', 'TAGTAACA', 'AAATAAAT', 'AAAAAAAA', 'AAATAAAA', 'ATATGAAT', 'ATGTGTAA', 'AAATATAT', 'TATAGTAA', 'ATTTTTAA', 'AACTGAAA', 'ATATATAA', 'AAGTACAT', 'TTATACTT', 'GTTTGAAA', 'TTTTATAT', 'TTATATAT', 'TAAAGAAT', 'CTCTGTAA', 'GATTTTCA', 'TAATATAT', 'TAGTAATA', 'AATTTCCA', 'AAATGTAA', 'CAGTGCAA', 'GATTATAT', 'TTTTGATA', 'TATTATAT', 'AATTAAAA', 'TTTTTTAA', 'ATTTATAA', 'TAGTAATA', 'ACATATAA', 'AATTAATA', 'AATTACCA', 'GAATACCA', 'TAATTAAA', 'TTGTTCAA', 'TTTTGTAA', 'TGGTGAAA', 'GAGAGAAA', 'GGGAGATA', 'ATATATAA', 'AAATAGTA', 'ACGTATAA', 'AATTGCTA', 'TAATACAA', 'GAATACAA', 'AAACAAAA', 'ATGTGAAA', 'AATTATAT', 'TTATAAAA', 'TAATGTTA', 'ATTTGTTT', 'ATATGCCA', 'AACTACAA', 'GCTTTCAA', 'AATTAACA', 'TAATGATT', 'GACTAAAA', 'TCATGATA', 'TAATATAT', 'TTGTGGAA', 'TATTGCAA', 'CAATGTAA', 'TAATATCT', 'TTCTGGAA', 'TAATGCAT', 'TTTTATCT', 'TATTTATA', 'TGCTGTTT', 'TTCTGTCT', 'TTCTTTTT', 'TTATACTT', 'TTATATAA', 'AAGAAGAA', 'ATATGTAA', 'AGATAAAT', 'AAAATTAA', 'TACTAAAT', 'TAAAAAAA', 'AAATCAAA', 'TATTGAAA', 'AATTGTAA', 'TTATATTA', 'TTGTGTAA', 'TATTAAGA', 'CTATGTAA', 'TTGTAAAT', 'ACTTAAAA', 'TCATAAAT', 'AATTATAT', 'AAATAAAA', 'AAATAAAA', 'GAGTGTAT', 'TAATGTTA', 'TATTATAT', 'TTTTATAT', 'TTTTATCA', 'AACTATAT', 'GAGAGAAA', 'AAATAGAA', 'AATTTTAA', 'AAATGATA', 'TATTAAAA', 'AACTATAT', 'AAAAAAAA', 'TATTTCAA', 'AAATAAAA', 'TTATGTCA', 'TATTATAT', 'AAAAGAAA', 'TTCTCCAA', 'AAATGGAA', 'ACTTAAAA', 'CAATATCA', 'TACTTCCA', 'GATTAACA', 'ATTTGGAA', 'ATATATAT', 'TTATACCA', 'TTGTATAT', 'TACTATAA', 'TAGTATTT', 'TGTTAGAA', 'TTGTGTAA', 'AAGTAAAA', 'CCTTAGAA', 'AAATATAA', 'ATATAAAA', 'TGGAGTAT', 'TTGTGAAA', 'TTTTAGTT', 'AATTAATT', 'TATTCCTT', 'TTTTCCAA', 'TTTTTTTT', 'CACTGAAA', 'GTTTGTAT', 'CAATGTTA', 'TATTATAT', 'ATATATAT', 'AAGTATAA', 'TTTTGTTA', 'AAGAGTTT', 'TTCTGAAA', 'GTGTGTTT', 'AACTAGTA', 'GTATTTTA', 'TTTTACTA', 'AAGTAAAA', 'ACTTACAT', 'GATTGTTT', 'TTATGTAT', 'GATTGAAT', 'AACTCCTA', 'AACTGTAA', 'AATTATTT', 'TATTTATA', 'TTATTGAA', 'TTTTCACA', 'TTGTGTAA', 'GAATATAA', 'TAATAATA', 'AAATAATA', 'TATTTTAA', 'TATTATAT', 'ATTTAGAA', 'TAGTATAA', 'AATTGAAA', 'AAGTAAAA', 'TTTTATTA', 'TAATATAA', 'ATATGGTA', 'AATTAGAT', 'TAATTAAT', 'AACTCTAA', 'AAATACCT', 'TCTTCTTA', 'ATGTTTCT', 'TTTTGTAA', 'GAATGAAA', 'AATTATCA', 'AAATGAAA', 'GTGTGTAA', 'CTTTGTTA', 'CTATGTAA', 'ATTTTTAA', 'ATTTAATA', 'TTTTACAA', 'TAATTATA', 'TCATGAAA', 'TATTGTTT', 'ACATGTAA', 'AAATAGAA', 'TGTTGGAA', 'TTATAATA', 'AAATGCAA', 'TCTTAGAA', 'AAGTGATT', 'TTTTAAAT', 'ATAAATAA', 'TCATAGAA', 'TTTTAAAT', 'AAGAATTA', 'AAGTAATA', 'AAGTCTAA', 'GAAAGAAA', 'TCGTTATT', 'ACTTGAAA', 'TTTTGATA', 'TTTTGCAA', 'TATTTGAA', 'AAATAGAA', 'TATTGTAT', 'ATAAGTAT', 'TTGTGCAA', 'TTGTGAAA', 'TTCTCTAA', 'ATGTATCT', 'TAGTCTCA', 'AATTATAT', 'AATTATTA', 'TTTTGGCA', 'TTTTACAA', 'TTTTTTTT', 'AAAAAAAA', 'CTGTATAA', 'ATTTGTCT', 'GTGTAGAT', 'AAGAAAAA', 'TCGTAAAA', 'GCGTATCA', 'AAGTGCAT', 'AATTACTA', 'TTATATTA', 'CTGTACAA', 'TTGTGCGA', 'TACTACTA', 'TTATGATA', 'TATTCCAA', 'AATTTAAT', 'ATATAGTA', 'GAATATAA', 'ATTTGGAA', 'AATTTGAA', 'AAATACAC', 'TATTGCAA', 'ATATATAA', 'TTGTGTAA', 'TCATTTAA', 'TAATGATA', 'AATTTTAA', 'TTATGAAA', 'GAAAGTAA', 'TTATAACA', 'TTTTGGAA', 'GTTTATAA', 'AAGTTTAA', 'GTGTTCAT', 'TTGTATTT', 'GATTAAAT', 'AAGTAAAA', 'TATTAGAA', 'GTTTGTTA', 'GTTTCTAA', 'AATTGGAT', 'ACTTAAAA', 'AATTGTAA', 'ACTTGTAA', 'ATATGCAT', 'TAGTGAAT', 'TAATAATT', 'TACTAGAT', 'ACATGAAA', 'ACATGATT', 'CTGTGCAT', 'TTTTATCT', 'TTATGTAT', 'TTTTGTCA', 'TCGTGTCA', 'TATAACAA', 'AATTGAAA', 'ATATACAA', 'AAGTATAA', 'ATTTGATA', 'CAGTAAAA', 'TTTTGCTT', 'AACTATTA', 'GAATGGGA', 'CAATGAAA', 'ATATACAA', 'AATTGTTT', 'AAATATTT', 'GTATTTAT', 'ATATGCTA', 'TCATACAA', 'AAATGCAA', 'ATATATAT', 'GTGTATAT', 'ATATATCA', 'TTGTATTT', 'ATATGATA', 'TATTGGAT', 'AATTATTT', 'AAGAGAAA', 'TTATAAAA', 'AAAAAAAA', 'ACGTACAA', 'TTTTGTAT', 'TGGTGAAT', 'CACTAGTT', 'TTATATAT', 'TAGTACTT', 'CTCTATAA', 'ATTAGGAA', 'TCGTAGAT', 'GTGTATAT', 'AAATGAAA', 'AAATAAAA', 'TATAATAA', 'ATATATAA', 'AACTGGAA', 'AACTAGAA', 'AAGTACAA', 'AAGTATAT', 'ATTTTCTA', 'TAATACAA', 'TATTATAA', 'ATATAATA', 'AAATACAA', 'GTGTAGTA', 'AGGTGTCA', 'TCTTTCAA', 'GTTTGAAA', 'TTGTGTCT', 'AAGAAGTA', 'AAATAATT', 'ATATATAT', 'TCTTGAAA', 'ATGTTCAT', 'TAGAGCAA', 'AATCGTAA', 'AAGTAGTT', 'TAGTACAA', 'ACTTATTT', 'AAATATCA', 'TGATATAT', 'TTCTGCTT', 'GTATGTAA', 'TCTTAGAA', 'GAGTAATA', 'GAATAGTA', 'ACATAATA', 'TATTATCA', 'TTATATAA', 'ATATATAT', 'ATATACAA', 'TCATATCA', 'TACAGTAT', 'TTCTGTAT', 'TTTTCTCT', 'TTTTGAAA', 'TATTGCAA', 'TATTCCAT', 'TTCTATAA', 'TTATCTAA', 'TATTATCA', 'TTTTATAT', 'ACATATAA', 'TAATATAA', 'TAATACAA', 'TAATACAA', 'ATGTCCAA', 'TTTTGCCA', 'AATTGAAT', 'TATTGGAA', 'GAATAAAT', 'AAGTAAAA', 'ATATATTA', 'AAGTGAAA', 'ATGTTTAA', 'TAACAATT', 'ACTTGTTT', 'GAGTGAAA', 'TAATTTTA', 'GAATAAAA', 'AATTGTAA', 'TAATAGTA', 'TTGTATTA', 'AGTTGTAA', 'AGTTGGAT', 'AAGTATAT', 'GGGTATAT', 'ACTTAACA', 'TTTTAATT', 'AAATAAAA', 'ACTTGTAA', 'CTGTGCAA', 'AAAAATAA', 'GAATGTTA', 'ATTTATTT', 'TTTTGTTA', 'TTTTATTT', 'AATTGTTT', 'AAATGTAA', 'ATATATTT', 'GAATTTAA', 'TCTTAAAA', 'TTTTGTTA', 'TATTATAT', 'AACTATAA', 'AAGTATAA', 'GAATGCAA', 'ATATAAAA', 'ATATATAA', 'TTATCTTA', 'TCTTAGTA', 'AAATCTCT', 'ATATATTA', 'TATTACTA', 'GAGTAAAT', 'TAGTACCA', 'GAATATAT', 'GTGTATAA', 'TTATCAAA', 'AAATATAA', 'AAATGAAA', 'AATTAAAA', 'TAATAATA', 'AATTAGAA', 'ATGTTTAA', 'TATTAATT', 'ACAAAATA', 'TATTGGTA', 'ATATAGAA', 'TTGAACAA', 'GTTTACAA', 'ATGAGAAA', 'GATTATCT', 'CCGTATCT', 'ATATATAA', 'TACTATTT', 'TTATCTAT', 'ATGTGAAA', 'TAGTATAA', 'GAATAATA', 'TTTTGGAA', 'TTTTTTCA', 'ATATAATT', 'ATATATAA', 'TTTTTTAA', 'ATGTGAAA', 'TTGTCCAA', 'ACTTGTCA', 'ACGTTGAA', 'AATTGTTA', 'TTATGTTA', 'GTATTCAT', 'AAAAAAAA', 'ATATATTA', 'ATTTGTTT', 'TGTTGCAA', 'TGTTACAT', 'AGATATTA', 'AACTTCAA', 'TGATGCAT', 'AAAAAAAA', 'AAGTATAA', 'AAGTGCAA', 'GAATTTCA', 'AAAAGAAA', 'AAGTATAA', 'TTATATAA', 'GTTTGGTA', 'ACATATAA', 'ATTTATCT', 'TATTGAAT', 'ATTTAGTA', 'AATTGTTT', 'ATTTAGAT', 'ATTTCAAT', 'TTTTACAA', 'TAATATAA', 'AAAAGAAA', 'TCTTAATA', 'GATTACAT', 'ATTTACAA', 'AATTACAT', 'TTATGAAA', 'GAATATAA', 'TTTTATTT', 'ATTTTTAA', 'TAATGCAA', 'ATGTATAA', 'TAATAAAA', 'AAATGTAA', 'AAATGAAA', 'GTTTGTTA', 'CGATAAAA', 'TATTCTAT', 'AATTAAAA', 'ATTTGCAA', 'TTTTAATA', 'ATATAGTT', 'AAATGTTT', 'GATTGAAA', 'TTTTATTT', 'TTTTTTCA', 'AAATGAAA', 'TTTTGTTA', 'AGATAACT', 'TTTTGATT', 'AATTTCAA', 'GAATGGTA', 'GTGTGTAT', 'TAGTGGTT', 'CTATAGAA', 'ATATATAT', 'TGGTATAA', 'ATATACAA', 'TATTACAA', 'AAATACTA', 'ATATGACT', 'TCATATAA', 'TATTAGAA', 'TTTTCTAA', 'TTATATTT', 'TTTTATAT', 'TGGTGTCA', 'AGTTAGAA', 'AACTAAAA', 'AATTGATA', 'TTCTGCAA', 'TTGTGAAT', 'AAAAAAAA', 'TTGAGGTA', 'AGATACAA', 'CCTTACAA', 'TAATATAA', 'ATATATAT', 'AAATGTAA', 'TTATGTAA', 'TACTGGCA', 'AAATGAAT', 'GAATACCA', 'TTCTGGAA', 'AAATGAAA', 'TAGTAAAA', 'TATTGTAT', 'ACATGTAA', 'GTATGTTT', 'ACATAAAA', 'AAGTAGTA', 'CAGTAGAA', 'ACGTATCA', 'AAATAAAA', 'GTATAAAT', 'TTCAATAA', 'TTGTGAAA', 'ACTTATTA', 'ATTTATAT', 'TATTAAAA', 'TATTATTT', 'TAAAATAA', 'AAATATAA', 'ACTTAAAA', 'TTATACTA', 'AATTAAAT', 'ATTTATAT', 'AAATATAA', 'TAATAAAA', 'AAGTACCA', 'AATTAAAA', 'ATTAATTA', 'TAGAGTTA', 'AGGTATTT', 'TTTTCCAA', 'ACATGACT', 'ACTTACAA', 'TTGTGGAT', 'TTATGAAA', 'ATTTAAAA', 'ATATGATA', 'TTTTGCTT', 'TACTGAAA', 'AGTTAAAA', 'AAATATTA', 'TATTGTAA', 'TATAATTA', 'TATTTTCA', 'AATAATAA', 'AATTACAT', 'ATATGCTA', 'TTATCCCA', 'TATTATAA', 'AACTTGAA', 'ACTTCTAA', 'ACTTGCAA', 'ATTTAAAA', 'TTATTTAT', 'TTCTTGAA', 'ATTTAAAA', 'TAGTGAAT', 'ACTTATTA', 'TTTTGGAT', 'GAGTATTT', 'TCTTCTCT', 'AAGTGGAA', 'AAATTTAT', 'TTTTGCAA', 'TCAAATAA', 'GATTGTAA', 'AATTGGTA', 'ACATACAT', 'TATTTCAT', 'ATTTTTCA', 'TGATGTTA', 'TATTGTCT', 'GTCTGTAA', 'GAATATAA', 'TAATAAAT']\n",
      "8\n",
      "['TTGCCAAA', 'TTGTAAAA', 'AAAAAAAA', 'TTTTCCAT', 'TTATACAG', 'AGACAAAT', 'ACTCAGAT', 'TTTTTCTT', 'AAACAAAT', 'TTTGCCTT', 'ATGTGATT', 'TAGTAATT', 'AAATATAT', 'TTGTACAG', 'TCGCACAA', 'TAGTAGTA', 'TATCATAA', 'TTGGAATA', 'ATTAAATT', 'TTATGAAT', 'CTTTATAT', 'TTCCAAAT', 'CTTCAAAT', 'GTGTATTT', 'TTTTCCAA', 'TATTATAT', 'AATTAATT', 'AAAAAAAA', 'AATTAAAT', 'AATTAAAA', 'TAATAAAA', 'AAAGAAAA', 'TGTTATAA', 'ATTCCAAA', 'AAGAAAAA', 'AAAAAAAT', 'AAAGAGAT', 'AAATACAA', 'AGTTAATT', 'AATTAAAA', 'TTTTCTAA', 'GAACAAAA', 'TCTCAAAA', 'AATCCAAT', 'TTTTAAGT', 'TTACAATT', 'AGTTACAA', 'ATATCTAA', 'ATTCACTA', 'AATTATTA', 'ACTTAGAT', 'ATGTAGTT', 'ATGTCCAT', 'ATGCACAG', 'ATGTCAAA', 'ATACATAA', 'TTGACAAA', 'TCGTATAA', 'ATTTGTTA', 'ATTTCAAT', 'TATTATAT', 'TTATACTT', 'TATCAAAT', 'TTTTACTG', 'AAGCAAAA', 'TAATAGTT', 'GTTCCCAT', 'TTTCATTG', 'TTGTATAT', 'AAACAATT', 'TATCAAAT', 'TTTTCCAT', 'TAGCATAT', 'TATCACAT', 'ATTTCTAA', 'ATATATAT', 'AATACCAT', 'AAAGAAAA', 'AAATACAA', 'TATCATAT', 'CTTCAAAT', 'AAATAATT', 'GTTTACAA', 'TTTTATAA', 'ATTTTTTT', 'TTTTCTGT', 'ATACAAAA', 'TTTTGAGA', 'TCTTCCAT', 'ATATATAA', 'AAGTACTA', 'ATGAACAA', 'ATGGACAA', 'TAATGAAA', 'AATTTTAA', 'ATTAAATT', 'TTTTATTT', 'ATATAGAT', 'TTATATAT', 'AACCACAT', 'TCTGAAAT', 'TTGTACTT', 'ATATACTT', 'TAGAAAAT', 'TATTATAT', 'TATTATAA', 'TATTATAT', 'TTGTATTT', 'TTTGTGAT', 'TTTGGGAT', 'GAACATAT', 'CTTTCAAA', 'AGACACAA', 'AATCAAAG', 'AATTATTT', 'ATATATAT', 'TTTTTCAA', 'ATGAACAT', 'ATGCCGAT', 'TTACGATT', 'ATATCTGT', 'TTGTACTA', 'AAATAAGT', 'TATGATAT', 'ATATCAAA', 'AAGCAGAA', 'TAAAATAA', 'TATTCTAA', 'ATTGATAT', 'GTGTATAT', 'TATTATGT', 'ATTGATAA', 'TTATATAA', 'ATATATAT', 'TTGTATAT', 'ATTGATAT', 'TTTGGAGT', 'ATACAGAA', 'GTGCAAAA', 'TTTCAAAA', 'AATTATTA', 'ATGGAATA', 'ATAGAAAA', 'ATGTAAAT', 'AAATAAAA', 'ATATAAAA', 'TATTATAT', 'ATTTACAA', 'TTGTATTA', 'AATTACAA', 'TTGGACAT', 'CTTGAAAA', 'ATTCAATT', 'AATTATAT', 'AAAAATTT', 'TTTTACAA', 'ATTTAATA', 'TTTCACTT', 'TTAAACAT', 'AATTGTTA', 'AAACAAGT', 'TAAACTTT', 'TAAAATTA', 'ATATAAAG', 'ATTTACAA', 'ATTAACTA', 'TAATACAA', 'AATTACAA', 'TCATCCAA', 'ATATACTT', 'CTGTATAT', 'TGTTAAGT', 'AATTAAAA', 'TTTTATTT', 'TTTTCAAT', 'TTTGGGAT', 'AATTATTT', 'AGTAACAT', 'AAATAAAT', 'AAAAAAAA', 'AAATAAAA', 'TTTTCATA', 'ATTTTTAA', 'AAATATAT', 'AAACACTT', 'ATTAATTT', 'TAACAAAA', 'ATATATAA', 'TTTTATAG', 'AATCAATT', 'TTTGAAAG', 'TTTTATAT', 'AATTAATT', 'TAAGATAA', 'AATCAGAT', 'AGAGATTT', 'TAATATAT', 'TAGTAATA', 'GTAGAAAT', 'ATTTGTTA', 'TGTTCCAA', 'GATTATAT', 'TTTGATAA', 'TATTATAT', 'AATTAAAA', 'TTTTAATT', 'ATTTATAA', 'TAGTAATA', 'AAACATAT', 'AATTAATA', 'CTGTAAAT', 'ATAGAATA', 'AATAATTA', 'GTTCAAAA', 'ATTTCTAA', 'AATCAGAA', 'AGTTAAGA', 'AGGCCTTT', 'ATATATAA', 'AAATAGTA', 'ATAGATAA', 'TTTCACAT', 'TAATACAA', 'ATAGAATA', 'AAACAAAA', 'ATGTGAAA', 'AATTATAT', 'TTATAAAA', 'TTAAAAAA', 'TTTCACAT', 'TTGGACAA', 'AAGAACAA', 'TCTCAGAA', 'ATACACAA', 'AATAACAT', 'ACTAAAAT', 'ATTGCTAT', 'TAATATAT', 'AAACAAAT', 'TATTGCAA', 'ATAGCAAT', 'ATATCTTA', 'TTGAAGTT', 'TAATGCAT', 'TTTTTTTT', 'TTATACTT', 'TTGCACTT', 'AATTCTGA', 'TTTTCAGT', 'ATGTACAT', 'TTATATAA', 'AAACCAAT', 'ATACAAAA', 'AGATAAAT', 'ATTCAATA', 'AATAATTT', 'AAAAAAAA', 'AATCAAAA', 'ATTGAAAT', 'TTGTAAAA', 'TTATATTA', 'TTTCCCAA', 'TATTAAGA', 'AATCGTAT', 'TTGTAAAT', 'ATGTAATT', 'TTTCATAA', 'AATTATAT', 'AAATAAAA', 'AAATAAAA', 'TTTTCTTT', 'ATTAAATT', 'TATTATAT', 'TTTTATAT', 'TTTTCATT', 'AACTATAT', 'ATGGAGAA', 'ATAGAATA', 'TTTTAATT', 'TTGCAAAT', 'TATTAAAA', 'TAAGAAAT', 'AAAAAAAA', 'ATTTCAAT', 'AAATAAAA', 'ATTCACAG', 'TATTATAT', 'TAACAAAA', 'TTATCTGA', 'AATCAAAA', 'AATTACTT', 'CATTCTAA', 'ACACACAA', 'ATACCAAT', 'CTTTATTT', 'ATATATAT', 'TATACCAT', 'TTGTATAT', 'TTGTAATA', 'TAGTATTT', 'AAGTCATA', 'TATGATAT', 'AAGTAAAA', 'TTAGAAAA', 'AAATATAA', 'ATATAAAA', 'TAGGAGAA', 'ATTTCTAA', 'TTTTAGTT', 'AATTAATT', 'TATTCCTT', 'ATTCACAA', 'TTTTCTTT', 'ACTGAAAA', 'GTTTGTAT', 'AATGTTAT', 'TTTTATAT', 'ATATATAT', 'TTTTATAT', 'TTTTACAT', 'AATCAGAG', 'ATTCATTT', 'ATGGTATT', 'TTTCCAGA', 'TTTCATTT', 'TTTTACTA', 'AAGTAAAA', 'ACTTACAT', 'AAAAACAT', 'TTTTATGT', 'TTTCCCAT', 'ATGTCCTT', 'TATGGATT', 'TTTTATTT', 'TATTTATA', 'TTATTGAA', 'TTTCACAA', 'GTGTAATA', 'ATATAAAT', 'TTTTAATA', 'AATTATTT', 'ATTTTAAA', 'TATTATAT', 'ATTTAGAA', 'TTAGAAAA', 'ATTTAATT', 'ATATAAAT', 'ATTTATAT', 'TTTTATTA', 'TTTGCTAT', 'TTTTAATT', 'ATTCGTAA', 'AAGGAAAT', 'TATCGAAA', 'TTGGAAAA', 'AAGTCATG', 'TTTTGTAA', 'GAATGAAA', 'TTTCATAA', 'TTTTAAAT', 'TATCATAT', 'AAGCAAAA', 'ATGTAAAG', 'AATAATTT', 'ATTTAATA', 'TTTTACAA', 'AATAATTA', 'ATGAAAAT', 'GTTTATTA', 'ATGTAATT', 'ATGAAATA', 'GCTTAATT', 'TTATAATA', 'AATGCAAT', 'ATGTCTTA', 'GATCATTA', 'TTTTAAAT', 'ATAAATAA', 'AAAGACAT', 'TTTTAAAT', 'ATTCACTA', 'AAGTAATA', 'TTTTCCAA', 'TTTCCGAT', 'ATTCCGAT', 'CTTGAAAT', 'TTTGATAA', 'AAAAAAAA', 'ACTGAAAA', 'TATTAGAA', 'TATTGTAT', 'ATGGATAA', 'AATGAAAT', 'TTGTGAAA', 'ATGACAAA', 'ATACCAAA', 'GTTCCAAA', 'AATTATAT', 'ATTTATTA', 'AAGTATAG', 'TTTTACAA', 'TTTTCTTA', 'AAAAAAAA', 'CTGTATAA', 'TTGTCTGT', 'ATGCAGAA', 'AAGAAAAA', 'ATTTGTTT', 'AAGGCAAA', 'AATCACAT', 'AATTACTA', 'ATATATTT', 'CTGTACAA', 'ACACACTA', 'ATGCACAA', 'TTATGATA', 'TATTCCAA', 'ATTTAATG', 'ATTCATAA', 'ATATAAAG', 'ATTTGGAA', 'TTTGAAGA', 'TTTCACAG', 'GTTTATAT', 'ATATATAA', 'AATTAATT', 'ATTCATTT', 'ATTTAATT', 'TTTTAATT', 'TTTTATTA', 'ATTTCTTT', 'TGTTATAA', 'TTGGAATT', 'GTTTATAA', 'TTTAATTA', 'TCTCAGAA', 'TTGTATTT', 'TATAAATT', 'TTTTAATT', 'TTAGAAAA', 'GTTTCTTT', 'GATCAAAA', 'AAGCACAA', 'ACTTAAAA', 'AATTGTAA', 'TATCCAAA', 'TTAGATAT', 'TAGTGAAT', 'TTTCATAA', 'GTTCACAA', 'AACTACAT', 'GTTTCAAA', 'TCGCAGAA', 'TTTGACAT', 'ATTGACTT', 'TTTCAGAA', 'TTATACGA', 'TAACAAAT', 'ATTGAAAT', 'ATATAATA', 'TATAAAAA', 'TTTGATAA', 'AGTAAAAT', 'TTTTGCTT', 'AATTACGA', 'AATGGGAA', 'AATGAAAG', 'ATACAAAA', 'AATTGTTT', 'AAAAAAAT', 'ATGGAAAA', 'TTGCATAT', 'TAATCATA', 'TTAGAAAT', 'ATATATAT', 'GTGTATAT', 'TTTTCTTT', 'AAACAAAA', 'ATTAAAAT', 'TCTCAATA', 'AATTATTT', 'AATCAAGA', 'TTATAAAA', 'AAAAAAAA', 'ACAGAAAA', 'TTTTGTAT', 'TCTCAAAA', 'ATGGAAGA', 'TTATATAT', 'AAACATTT', 'TGATACAT', 'TTGTCCAT', 'TTTCATTA', 'TTAAAATT', 'AAGTAAAA', 'AAATAAAA', 'TATAATAA', 'ATATATAA', 'TATCCGAA', 'TTTCAGAA', 'AAGTACAA', 'AAGTATAT', 'ATTTTCTA', 'ATATAATA', 'TATTATAA', 'ATATAATA', 'AAATACAA', 'CATCACAA', 'AAGACCAA', 'CTGGATAT', 'TTTGAAAG', 'AAGGAGAT', 'TTGCCTAA', 'AAATAATT', 'ATATATAT', 'TTGAAAAA', 'AGTGAATT', 'GATCCAAT', 'AATCGTAA', 'GTACAAAA', 'TAGTACAA', 'ACTTATTT', 'TATCATAT', 'TTTGATAT', 'TTGCAGAA', 'TTACAATA', 'TTAGAATA', 'ATATCAAT', 'AATCAGAT', 'ACATAATA', 'TTATCAAT', 'TTATATAA', 'ATATATAT', 'ATATACAA', 'TTTGAATA', 'ACTCCAAA', 'ATTTCTGT', 'TTGCACTT', 'TTTGAAAA', 'AATAATAA', 'ATTCCATT', 'TTTTCTAT', 'ATTTACAT', 'TTTTATTT', 'TTTTATAT', 'ATGTAAAA', 'TTGTAAAT', 'ATACAAAA', 'ATACAAAT', 'AATCACAA', 'AATGAGAA', 'ATTGAATT', 'ATATAATT', 'AATAAATA', 'TTGTAAAA', 'TATTAAAT', 'GTTCATAT', 'GTTTAATT', 'TAACAATT', 'ACTTGTTT', 'GTTTAGAA', 'ATTAACAA', 'AATAAAAT', 'TTGTAAAT', 'AGTTAATA', 'AATTACTA', 'TTGTAATT', 'TTGGATGA', 'AAGTATAT', 'ATACAGAT', 'ACACACTT', 'TTTTAATT', 'AAATAAAA', 'ATTGAAAA', 'ATCCCAAA', 'AAATAATT', 'TGTTACTA', 'ATTTATTT', 'TTTTGTTA', 'TTTTATTT', 'ATTCATAT', 'TTAAAAAT', 'ATATATTT', 'TGTTACTA', 'AATCAAAA', 'ATTGACAA', 'ATTCAAAA', 'AAAAAAAA', 'AAGTATAA', 'CTTTCAAA', 'ATATAAAA', 'AATTAATT', 'TTATCTTA', 'TCTTAGTA', 'ACTCCCAT', 'ATATATTA', 'TATTACTA', 'GAGTAAAT', 'TAACAAAT', 'GAATATAT', 'GTGTATAA', 'TATCAAAA', 'AATTAATA', 'TTTTAATT', 'AATTAAAA', 'TTATAAAT', 'TATTACTA', 'ATATGTTT', 'TATTAATT', 'ATTTACAG', 'TATTCTAT', 'TTTAATTA', 'TTGAACAA', 'TTACAAAA', 'ATGAGAAA', 'AATCACCA', 'ACGCACAG', 'ATATATAA', 'GTGTATTT', 'TTATCTAT', 'ATGTGAAA', 'TAGTATAA', 'TATTCTAT', 'TTTTGTTT', 'TTTCACAT', 'ATATAATT', 'TTTTATAA', 'TTTAACAA', 'AAACAAAT', 'TTGTCCAA', 'TTGTAGTT', 'GTTGAAAG', 'TATTCTTT', 'AATCATTA', 'TATTCATG', 'AAAAAAAA', 'ATATATTA', 'AAGAAAAA', 'TTGCAATA', 'ATTGCTAT', 'TAAGATAT', 'CTTCAAGA', 'ATGCATTA', 'AAAAAAAA', 'AAGTATAA', 'AAGTGCAA', 'TCAGAATT', 'ACTGAAAA', 'AAGTATAA', 'TTATATAA', 'TTTGCCAT', 'TTACATAT', 'AAGTAAAG', 'ATTGAATA', 'ATTTAGTA', 'GTTCAAAT', 'ATTTAGAT', 'ATTTCAAT', 'TTTTACAA', 'TAATATAA', 'TTACACAA', 'TCTTAATA', 'ATTACATA', 'ATTTACAA', 'AATTACAT', 'TATGAAAT', 'ATATAATT', 'TTTTATTT', 'TTTTATTT', 'AAAGAAAA', 'ATGTATAA', 'ATTTACAA', 'ATATAAAA', 'AATGAAAA', 'ATATAGTT', 'TATCCGAT', 'TATTCTAT', 'AATTAAAA', 'TATCATTT', 'TTTTAATA', 'ATTTCTTA', 'TCTAAAAT', 'ATTGAAAT', 'TTTTATTT', 'TGTGAATT', 'ATATAATA', 'TTTTCTTT', 'TTGGAGAA', 'TTTTGATT', 'AAGTAATT', 'TTAGAATG', 'TCTACTAT', 'ATTGGTAT', 'AAATAAAG', 'ATATATAT', 'AAACAGAA', 'AATCAAAA', 'AATTACAA', 'AAATACTA', 'TATGACTT', 'TATCATAT', 'TTTTACTT', 'TTTTCTAA', 'TTATATTT', 'TTTTATAT', 'TCTCCTAA', 'TTTCACAA', 'ACTAAAAA', 'AATTAATT', 'AAGGAATA', 'TTGGAAAA', 'AAAAAAAA', 'TTTTCAGT', 'AGATACAA', 'ATAACATT', 'ATATAAAA', 'ATATATAT', 'ATATAAAA', 'ATGTAAAA', 'GTTTACTG', 'AAACAAAA', 'AATACCAT', 'AAGCAAAG', 'AAATGAAA', 'TAGTAAAA', 'TTTTACTT', 'ATGTAAGT', 'AAAACAAT', 'ATACATAA', 'AAGTAGTA', 'AAGGACAT', 'AATCCATA', 'AAATAAAA', 'TATAAATA', 'GTTCAATA', 'TTGTGAAA', 'TTACACAA', 'ATTTATAT', 'TATTAAAA', 'TATTATTT', 'TTTAAAAT', 'ATATAATA', 'ACTTAAAA', 'TTTTCTAA', 'AATTAAAT', 'ATTTATAT', 'ATATAAAT', 'AAATAAAA', 'ATTCAGTA', 'AATTAAAA', 'ATTAATTA', 'ATTTCCTT', 'TTTCGATA', 'TTTTCCAA', 'AGAAACAT', 'TTACAAAA', 'GTTTCATT', 'TATGAAAA', 'ATTTAAAA', 'ATATGATA', 'TTTTGCTT', 'TTTACATA', 'TTAAAAAT', 'TATTAAAT', 'TTGTAAAA', 'TATAATTA', 'ATTTCTTT', 'AATAATAA', 'AATTACAT', 'GTTTATTT', 'TATCCCAA', 'TATTATAA', 'ATTGCATT', 'TAAGACAT', 'AATCACTT', 'ATTTAAAA', 'ATTTATGA', 'ATGTCTTT', 'ATTTAAAA', 'AATTCTTA', 'TATTACTT', 'TTGGAAAA', 'GTTTCTTT', 'AATAACGA', 'ATTTCAAG', 'TATCAAAA', 'TTGCAAAA', 'CTTCAAAT', 'TATTCTAA', 'ATACAATA', 'TTATCCAT', 'ATTTCATT', 'TTTCACAA', 'ATTACTTA', 'TATTCCTT', 'AAAACCAT', 'ATATAATT', 'TAATAAAT']\n",
      "9\n",
      "['AAAAATCT', 'TTGTAAAA', 'TAAGAAAA', 'TTTTTTTT', 'CAGTTATA', 'AGACAAAT', 'TCAGATCT', 'TTTTTTCT', 'AAACAAAT', 'TGTGATAC', 'TTTTTAGT', 'TTATAACT', 'ATATAACA', 'CTGTTTGT', 'TCGCTAGT', 'TAGTATGT', 'TATCATAA', 'TTGGAATA', 'ATTAAATT', 'ACATATTA', 'TTATATTC', 'ATATTTTC', 'TCAAATTA', 'CTGGAATT', 'TTGCAATA', 'ATATATTT', 'AATTAATT', 'AAAGAAAA', 'AAATATTA', 'TTAAAATT', 'TAATAAAA', 'AAAGAAAA', 'TTATAACA', 'AAAAAACT', 'ATAGTTTT', 'AAAAAATA', 'AGAGATGA', 'CAACAATT', 'AATTTATA', 'ATATTAAT', 'TGAGAAAA', 'ACAGAACA', 'CTGTATTT', 'CAATTTTT', 'TTTTAAGT', 'TTACAATT', 'TAAGAAGT', 'ATATCTAA', 'CTAGTAAT', 'AAAAAATT', 'TTAGATCT', 'TTGTTTCA', 'TTGAAACA', 'CTTGATGC', 'AGATAAAA', 'ATACATAA', 'ACAAAATT', 'TCGTATAA', 'TTGTTATA', 'ATATTATA', 'ATATTATA', 'TTTTTATA', 'TTATCAAA', 'ATTTTACT', 'AAGCAAAA', 'TCGTAATT', 'CTGTTTCT', 'CTTTCATT', 'TTGTATAT', 'AAACAATT', 'AAATATTT', 'TCACAAAA', 'ATAGCATA', 'TATGATTA', 'TTGCATTT', 'ATATATAT', 'CAGATATA', 'AAAGAAAA', 'TGATTAAA', 'TTATCATA', 'ATACCATA', 'AAATAATT', 'CTTGATTT', 'ATAAAATA', 'AAAGATTT', 'AATTTTGA', 'ATACAAAA', 'ACAGTTTT', 'AGAGAACT', 'ATATATAA', 'ATGTTTTT', 'ATGTATCA', 'CTAGGAAT', 'CTACAAGT', 'AAATTTTA', 'ATTAAATT', 'ATATTATT', 'TTATTATA', 'TTATATAT', 'ATACTTGT', 'CTGAAATA', 'TAGTCAAA', 'ATACTTTT', 'CTAGAAAA', 'ATAGTATA', 'TTATAATA', 'ATATTATA', 'TTGTATTT', 'TGATCTTT', 'CTTGAAGA', 'TTGAAAGA', 'TCAGAAGT', 'CAGGAATA', 'ATACTTCT', 'AATTATTT', 'ATATATAT', 'AAAGTTTT', 'TCACTATA', 'TTGGATCA', 'TTACGATT', 'AAGTAACT', 'TTGTACTA', 'AAATAAGT', 'TGATATTT', 'ATATATCA', 'TGTGAAGT', 'CTAAAATA', 'ATTCTTTT', 'TGAGAATA', 'TCTGATTT', 'TATTATGT', 'TGATAATA', 'TTATATAA', 'ATATATAT', 'ATATTATA', 'ATTGATAT', 'CCAGAACA', 'ACAGAAAT', 'AGAGAAAA', 'AAATAACT', 'TTATTATT', 'ATGGAATA', 'ATAGAAAA', 'ATAGAAAT', 'AAATAAAA', 'ATATAAAA', 'ATATTATA', 'TTATATTA', 'TTGTATTA', 'CTATAATT', 'TTGTGATT', 'TTAGTTGT', 'ATTCAATT', 'AAATTTTT', 'CTATATTT', 'TTATTTTA', 'ATTTAATA', 'TTACTTTA', 'CAATTAAA', 'CAGGAATT', 'AAACAAGT', 'CCAGAATT', 'AAATTATT', 'ATTTTATT', 'ATATATTA', 'ATACTATT', 'TAGTAATA', 'CTATAAGA', 'CGAGAACT', 'TCAGTATA', 'CTGTATAT', 'TGTTAAGT', 'AAATTAAA', 'TTATTTTT', 'TTGTTTTT', 'CCTGAAAT', 'TTATTTTT', 'TAGTAACA', 'AAATAAAT', 'AAAAAAAA', 'AAATAAAA', 'ATAGAATA', 'TTACATTT', 'AAATATAT', 'TCAGATTT', 'TAATTTTT', 'TAACAAAA', 'ATATAATA', 'AGATAATT', 'AATCAATT', 'ACAGTAGT', 'TAATAATA', 'TTAGAATT', 'TAAGATAA', 'CCAGAATA', 'AGAGATTT', 'TAATATAT', 'TAGTAATA', 'TCTCAATT', 'TTGTTAGA', 'ATATATTC', 'TAATTATC', 'TTTGATAA', 'TTATATTT', 'ATATAACT', 'TTTTAATT', 'ATATTATT', 'TAGTAATA', 'ACATATAA', 'AATTAATA', 'CTGTAAAT', 'ATAGAATA', 'CAATAATT', 'AAGGTAGT', 'TTTGTAAA', 'CTTTTTCT', 'AGATAATC', 'AGGCCTTT', 'TTATATAT', 'CAAAAATA', 'ATAGATAA', 'ATAAATTT', 'ATACAATT', 'ATAGAATA', 'AAACAAAA', 'AAAAAACA', 'AATTATAT', 'TTATAAAA', 'TTAAAAAA', 'TTATTTGT', 'CCACAATA', 'ATGGATGA', 'TCAGAAAC', 'AAAGAATA', 'TAACATAA', 'CATGAATA', 'TTTTTTTT', 'TAATATAT', 'ATAGTTTT', 'CAACTATT', 'ATGTAACA', 'TAATATCT', 'CTTGAAGT', 'ATGCATCA', 'TTTTTTTT', 'TATTTATA', 'CTGTTTCT', 'CTGAAATT', 'TTTCTTTT', 'ATGTTTTT', 'TTATATAA', 'AAAGAAGA', 'TTATATGT', 'AGATAAAT', 'CAATAATA', 'ATAATTTT', 'AAACAATT', 'TTAAAACA', 'ATTGAAAT', 'TTGTAAAA', 'TTATATTA', 'TTTCTTTT', 'TATTAAGA', 'ATGTAATC', 'TTGTAAAT', 'ATGTAATT', 'TCATAAAT', 'ATAAAATT', 'AAATAAAA', 'AAATAAAA', 'TTGCATTA', 'AAATTATA', 'TTATTATA', 'ATATTAAA', 'TTAGTTTT', 'TTAGAACA', 'AGAGAAAA', 'ATAGAATA', 'TTTTAATT', 'ATAGATCT', 'TTATTAAA', 'TAAGAAAT', 'AAAAAAAA', 'AGGTATTT', 'AAATAAAA', 'TGAAAAAA', 'ATATTATT', 'AAAGAAAA', 'TTATCTGA', 'AAAAAAAT', 'TTGAAATT', 'CAATATCA', 'ATAGTAGA', 'AGAGAACA', 'CTTTATTT', 'ATATATAT', 'AGTTTATA', 'ATATTTTT', 'TTGTAATA', 'TAGTATTT', 'TTAGAACT', 'TTATATGA', 'TAAAAATT', 'TTAGAAAA', 'AAATATAA', 'ATATAAAA', 'CAGGAAGT', 'AAAGTAAT', 'TTAGTTTT', 'AATTAATT', 'CAAGTACT', 'TCACAAAA', 'TTTTTTTT', 'ACTGAAAA', 'TTGTATCT', 'ATGTTATC', 'TTATATTA', 'ATATATAT', 'TTACATTT', 'TTGTTATA', 'CCAGTAAA', 'CGATAATT', 'ATGGTATT', 'CAGAAATT', 'TCATTTTT', 'AGAAAATT', 'ATACAATA', 'TTACATGT', 'AGAGAAAA', 'TTTTATGT', 'CCATATTT', 'ATAGAACT', 'ATTGATAC', 'TAATTATT', 'TATTTATA', 'TTTATTGA', 'TTTTCACA', 'TAATAAGT', 'ATATAAAT', 'TAATAATA', 'AAATAATA', 'TTATTTTA', 'TTATATTT', 'TTAGAAGT', 'TTAGAAAA', 'ATTTAATT', 'ATATAAAT', 'TTATATTT', 'TTATTTTA', 'AAAGTAGA', 'TTTTAATT', 'TAATTAAT', 'AAGGAAAT', 'TCAGAAAT', 'TTGGAAAA', 'ATGTTTCT', 'TTGTAAGT', 'TCATTAGT', 'AAGTAATT', 'TTTTAAAT', 'TCATATCA', 'TTGTTAGA', 'TATGTAAA', 'TAATTTTT', 'ATTTAATA', 'TTACAATA', 'TAATTATA', 'AAAGAAAT', 'TTATTATT', 'ATGTAATT', 'ATAGAACT', 'TGGGATAA', 'TTATAATA', 'AAGTTTAT', 'TTAGAAGT', 'TTGCAAGT', 'TTTTAAAT', 'AAAAAATT', 'ATAGAAGA', 'TTTTAAAT', 'TAAGAATT', 'TAATAAGT', 'CTGCTAAA', 'TAAATACT', 'TCGTTATT', 'CTTGAAAT', 'ATAAATTT', 'AAAAAAAA', 'ACATTATT', 'TTAGAATA', 'AAGGTATT', 'ATGTATGT', 'ATGAAATA', 'TGAAAAAT', 'TAAGTAAT', 'AAGGAATA', 'AGAGAAAA', 'TAATTATA', 'AAATTATT', 'TAAGTTTA', 'TTAGTATA', 'TTTTTTTT', 'AAAAAAAA', 'CTGTATAA', 'CTATTTGT', 'CAAGATCT', 'AAAAAAGT', 'TCGTAAAA', 'AAGGCAAA', 'ACACTAAA', 'TTATAACA', 'TTATATTA', 'ACACAAAC', 'ACACTACA', 'ATACTACT', 'TTATGATA', 'ATAGTAGA', 'AATTTAAT', 'TCATAATA', 'TATAAAGA', 'AGAAAATA', 'TAAGAAGA', 'ACAGAATT', 'TTGGAAAA', 'ATATAATA', 'AATTAATT', 'TTTTTTTT', 'ATTTAATT', 'TTTTAATT', 'TTTTATTA', 'TCATTATT', 'TTATAACA', 'TTGGAATT', 'TTATAAGA', 'ATATTTTT', 'TCTCTTTA', 'TTGTATTT', 'ATAAATTA', 'TTTTAATT', 'TTAGAAAA', 'TTGTTAGT', 'TCGTAACT', 'TTGGATTC', 'TTGTAACA', 'ATATATCA', 'TTGTAACT', 'TTAGATAT', 'TTACTAGA', 'TAATAATT', 'ATACTAGA', 'AAACAACT', 'ACATGATT', 'CAGGACTT', 'TTATCTTT', 'TAACATTA', 'TGAGAACA', 'TTATACGA', 'TAACAAAT', 'CTATAATA', 'ATATAATA', 'AAGTATAA', 'TTTGATAA', 'CAGTAAAA', 'TTTGCTTT', 'CAACTATT', 'TGGGAACA', 'CGATAACA', 'ATAGAAAT', 'AAGGATTA', 'AAATATTT', 'ATGGAAAA', 'TCACATTT', 'TAATCATA', 'TTAGAAAT', 'ATATATAT', 'ATGGTATT', 'ATATATCA', 'TTGTATTT', 'TAAGAAGT', 'TCAATATT', 'AAATTATT', 'AGAGAAAA', 'TTATAAAA', 'AAAAAAAA', 'TCAAAATT', 'ATGGAACA', 'TCAAAACT', 'ATGGAAGA', 'TTATATAT', 'AAACATTT', 'ATGATACA', 'CCACATTA', 'TTTCATTA', 'TTAAAATT', 'AAAAAATA', 'ATAAAATA', 'CTATATTT', 'TTAAAATA', 'CTGGAACA', 'TCAGAATA', 'ACAGATTT', 'AAAGTATA', 'ACAATTTT', 'ATATAATA', 'TTATAATA', 'ATATAATA', 'TTTGATTT', 'AAAGATCA', 'AGAGAACA', 'CTGGATAT', 'AAACAAGA', 'TGAGAATA', 'TAAGAAGT', 'AAATAATT', 'TTATATTT', 'TTGAAAAA', 'TTGGTATT', 'CAAGATGA', 'ACAGAAGT', 'ACAGATAT', 'CAACATTA', 'TTATTTGT', 'TCATATTT', 'ATATATGT', 'TCACAATA', 'TTACAATA', 'TTAGAATA', 'ATATCAAT', 'CAAGAATA', 'ACATAATA', 'TCATAATA', 'TTATATAA', 'ATATATAT', 'CTATAATA', 'TTTGAATA', 'CAGTATCT', 'CTGTATTT', 'ATTTTTGT', 'TTTGAAAA', 'TAATAATT', 'AAATATGT', 'TTGTATTA', 'ATATTTAT', 'TTATTTTT', 'TTTTTATA', 'ATATAATA', 'AAATAATA', 'ATACAAAA', 'TTGTAATT', 'AGACATGT', 'TGACTTTT', 'ATTGAATT', 'ATATAATT', 'AAATTTTT', 'TTGTAAAA', 'ATATATTA', 'AAGTAACT', 'AAGGAATA', 'TAACAATT', 'CTTGTTTT', 'AAAGTTTA', 'CAATAATT', 'TTATATGT', 'ATATATTT', 'AGTTAATA', 'TTGTATTA', 'TTGTAATT', 'TTGGATGA', 'TAAGTATA', 'ACAGATGT', 'ACTTAACA', 'TTTTAATT', 'AAATAAAA', 'TTGTAAGA', 'CCAAAACT', 'AAATAATT', 'ATGTTACT', 'TTATTTTT', 'TTGTTATT', 'TTTTATTT', 'TATGAAAA', 'TTAAAAAT', 'ATATATTT', 'TTACTATA', 'TTAAAAAT', 'TGACAATA', 'ATATATTA', 'CTATAAAA', 'AAGTATAA', 'TAAGAATG', 'ATATAAAA', 'AAATAATT', 'TTATCTTA', 'TCTGATTT', 'AAGGTAGT', 'ATATATTA', 'TTATTACT', 'CTGGAAAT', 'TTACATTT', 'TTGGAACA', 'ATATAATC', 'TTATCAAA', 'ATATAATA', 'TTTTAATT', 'TTATTTTT', 'TAATAATA', 'CTATTACT', 'TTATATGT', 'TTATTAAT', 'ACAAAATA', 'TTGGTATT', 'TAATTATT', 'TTTGAACA', 'TTAGAAAT', 'TGAGAAAA', 'TCTTAACT', 'CCGTATCT', 'TTATATAT', 'CTACTATT', 'TTGGTTTT', 'AAATATGT', 'TTAGTATA', 'CAAGAATA', 'TTTGTTTT', 'TTGTTTTT', 'ATATAATT', 'ATATATAA', 'TCATAATA', 'AAAGAAAT', 'TTGGCATA', 'TGACAACA', 'TTGAAAGC', 'TGTTAATT', 'ATGTTATT', 'ATTTTAGT', 'AAAAAAAA', 'ATATATTA', 'CTGTAATT', 'TTGCAATA', 'TTAGCATA', 'ATATTAGT', 'CTTCAAGA', 'ATGCATTA', 'AAAAAAAA', 'TATAAATA', 'AAGGAAGT', 'TCAGAATT', 'ACTGAAAA', 'AAAGTATA', 'TTATATAA', 'TTAGGTTA', 'ATATAACA', 'AAAGTAAA', 'ATTGAATA', 'AAATTATT', 'TTTTTTTA', 'ATAGATTT', 'TTTCAATA', 'TTACAATT', 'TAATATAA', 'TTTGAAGT', 'TCTTAATA', 'ATAGTATC', 'ATATGATT', 'AAAAAATT', 'ATAGAAAT', 'ATATAATT', 'TCATAATA', 'TTATTTTT', 'AAAGAAAA', 'ATGTATAA', 'ATATAATA', 'ATATAAAA', 'TGATAAAA', 'TTGTTAGA', 'CGATAAAA', 'AAACTATA', 'TTAAAATT', 'TATCATTT', 'TTTTAATA', 'ATTTCTTA', 'TTTTTTTT', 'TTGAAATA', 'TTATTTTT', 'TGTGAATT', 'ATATAATA', 'TTAGAAGA', 'AGATAACT', 'TAATAAGT', 'AAGTAATT', 'TTAGAATG', 'CTGGAAGT', 'TTGGTATA', 'ATAGAAGA', 'ATATATAT', 'ATGGTATA', 'AAAATATA', 'ATATTACA', 'ACAGAATT', 'CTATATGA', 'ATATAAGT', 'TTAGAATT', 'TTTTCTAA', 'TTATATTT', 'ATTTTATA', 'CCAGAATT', 'TTAGAAAT', 'CTAAAAAA', 'AATTAATT', 'AAGGAATA', 'TTGGAAAA', 'AAAGAAAA', 'TTTTCAGT', 'ATACAAAC', 'ATAACATT', 'ATATAATA', 'ATATATAT', 'ATATAAAA', 'ATGTAAAA', 'AGAGTTTA', 'AATGAATT', 'TGGGAATA', 'AAAGAACA', 'CTAAAATA', 'TAGTAAAA', 'ATACATTT', 'ATGTAAGT', 'ATGTTTTT', 'ACATAAAA', 'TAGTAAGA', 'ACAGTAGA', 'ACGTATCA', 'AAATAATT', 'TATAAATA', 'TCAATAAA', 'TGTGAAAA', 'TTATTACA', 'CTATAAAA', 'TTATTAAA', 'AAATAATT', 'TTAAAATA', 'ATATAATA', 'ACTTAAAA', 'TTAGATAT', 'ATACATTT', 'ATAGAATT', 'ATATAAAT', 'TTATATTA', 'ATAGCAAA', 'AAATTAAA', 'ATTAATTA', 'AGAGAACA', 'AGGTATTT', 'TAAGAAGA', 'ACATGACT', 'TTACAAAA', 'TTTCATTC', 'TGATAATT', 'ATTTAAAA', 'ATATGATA', 'TTGGATCT', 'CAAGAAAA', 'AAATTATT', 'AAATATTA', 'TTGTAAAA', 'CTATAATT', 'ACATTATT', 'CAATAATA', 'TTGTTTTA', 'TTATTTCA', 'CAACAACT', 'CTATTATA', 'TTGCATTT', 'ACATCAAA', 'ACACAAAA', 'ATTTAAAA', 'TTATTTAT', 'ACAGAAGA', 'ATTTAAAA', 'CTATAATT', 'TTATTATC', 'TTGGAAAA', 'ATGCTTTA', 'TCGGAATA', 'TTTCAAGT', 'ATGGAATA', 'TTTTTTTT', 'TCAAATAA', 'ATAGATCA', 'ATACAATA', 'ATACTTAT', 'ATTTCATT', 'ACATTTTT', 'TGATTACT', 'TTAGAACT', 'TTGGAACT', 'ATATAATT', 'TAATAATT']\n"
     ]
    }
   ],
   "source": [
    "k=8\n",
    "n=80\n",
    "\n",
    "def readFasta(genome, n):\n",
    "    sequence = []\n",
    "    file = open(genome, \"r\")\n",
    "    sequence = []\n",
    "    for s in file:\n",
    "        if s[0] != \">\":\n",
    "            sequence.append(s.strip().upper())\n",
    "    sequenceStr = \"\".join(sequence)\n",
    "    #sequence = [sequenceStr]\n",
    "    sequence = [sequenceStr[i:i+n] for i in range(0, len(sequenceStr), n)]\n",
    "    sequenceRet = [x for x in sequence if x]\n",
    "    return sequenceRet\n",
    "\n",
    "genome = \"Sequence_by_Peaks_8.fasta\"\n",
    "\n",
    "\n",
    "sequencesChip   = readFasta(genome, n)\n",
    "for seq in sequencesChip:\n",
    "    if (len(seq)<k):\n",
    "        sequencesChip.remove(seq)\n",
    "        \n",
    "t = len(sequencesChip)\n",
    "print (sequencesChip[8], t, k)\n",
    "revSequences = [reverseComplement(m) for m in sequencesChip]\n",
    "\n",
    "sequencesChip = sequencesChip + revSequences\n",
    "print(len(sequencesChip ))\n",
    "\n",
    "s, consensus = GreedyProfileMotifSearchIte(sequencesChip, k, 20)\n",
    "printTopFMotifsScore(consensus, 10)\n"
   ]
  },
  {
   "cell_type": "code",
   "execution_count": null,
   "metadata": {},
   "outputs": [],
   "source": []
  }
 ],
 "metadata": {
  "celltoolbar": "Raw Cell Format",
  "colab": {
   "provenance": []
  },
  "kernelspec": {
   "display_name": "Python 3 (ipykernel)",
   "language": "python",
   "name": "python3"
  },
  "language_info": {
   "codemirror_mode": {
    "name": "ipython",
    "version": 3
   },
   "file_extension": ".py",
   "mimetype": "text/x-python",
   "name": "python",
   "nbconvert_exporter": "python",
   "pygments_lexer": "ipython3",
   "version": "3.9.6"
  },
  "vscode": {
   "interpreter": {
    "hash": "c261aea317cc0286b3b3261fbba9abdec21eaa57589985bb7a274bf54d6cc0a7"
   }
  }
 },
 "nbformat": 4,
 "nbformat_minor": 1
}
